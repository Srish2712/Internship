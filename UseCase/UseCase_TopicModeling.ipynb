{
 "cells": [
  {
   "cell_type": "code",
   "execution_count": 1,
   "id": "ac70223f",
   "metadata": {},
   "outputs": [],
   "source": [
    "import numpy as np\n",
    "import pandas as pd\n",
    "import spacy,re\n",
    "import nltk\n",
    "\n",
    "import seaborn as sns\n",
    "import matplotlib.pyplot as plt\n",
    "%matplotlib inline\n",
    "\n",
    "from sklearn.feature_extraction.text import CountVectorizer, TfidfVectorizer, TfidfTransformer\n",
    "from nltk.stem import WordNetLemmatizer\n",
    "from nltk.tokenize import word_tokenize\n",
    "from nltk.corpus import stopwords\n",
    "\n",
    "import warnings\n",
    "warnings.filterwarnings('ignore')"
   ]
  },
  {
   "cell_type": "code",
   "execution_count": 2,
   "id": "4cb897f6",
   "metadata": {},
   "outputs": [],
   "source": [
    "# Load data\n",
    "\n",
    "import pickle,json\n",
    "with open('C:\\\\Users\\\\RW565TZ\\\\Week6\\\\complaints.json','rb') as f:\n",
    "    data = json.load(f)\n",
    "    df = pd.json_normalize(data)"
   ]
  },
  {
   "cell_type": "code",
   "execution_count": 3,
   "id": "1f44996d",
   "metadata": {},
   "outputs": [
    {
     "data": {
      "text/html": [
       "<div>\n",
       "<style scoped>\n",
       "    .dataframe tbody tr th:only-of-type {\n",
       "        vertical-align: middle;\n",
       "    }\n",
       "\n",
       "    .dataframe tbody tr th {\n",
       "        vertical-align: top;\n",
       "    }\n",
       "\n",
       "    .dataframe thead th {\n",
       "        text-align: right;\n",
       "    }\n",
       "</style>\n",
       "<table border=\"1\" class=\"dataframe\">\n",
       "  <thead>\n",
       "    <tr style=\"text-align: right;\">\n",
       "      <th></th>\n",
       "      <th>_index</th>\n",
       "      <th>_type</th>\n",
       "      <th>_id</th>\n",
       "      <th>_score</th>\n",
       "      <th>_source.tags</th>\n",
       "      <th>_source.zip_code</th>\n",
       "      <th>_source.complaint_id</th>\n",
       "      <th>_source.issue</th>\n",
       "      <th>_source.date_received</th>\n",
       "      <th>_source.state</th>\n",
       "      <th>...</th>\n",
       "      <th>_source.company_response</th>\n",
       "      <th>_source.company</th>\n",
       "      <th>_source.submitted_via</th>\n",
       "      <th>_source.date_sent_to_company</th>\n",
       "      <th>_source.company_public_response</th>\n",
       "      <th>_source.sub_product</th>\n",
       "      <th>_source.timely</th>\n",
       "      <th>_source.complaint_what_happened</th>\n",
       "      <th>_source.sub_issue</th>\n",
       "      <th>_source.consumer_consent_provided</th>\n",
       "    </tr>\n",
       "  </thead>\n",
       "  <tbody>\n",
       "    <tr>\n",
       "      <th>0</th>\n",
       "      <td>complaint-public-v2</td>\n",
       "      <td>complaint</td>\n",
       "      <td>3211475</td>\n",
       "      <td>0.0</td>\n",
       "      <td>None</td>\n",
       "      <td>90301</td>\n",
       "      <td>3211475</td>\n",
       "      <td>Attempts to collect debt not owed</td>\n",
       "      <td>2019-04-13T12:00:00-05:00</td>\n",
       "      <td>CA</td>\n",
       "      <td>...</td>\n",
       "      <td>Closed with explanation</td>\n",
       "      <td>JPMORGAN CHASE &amp; CO.</td>\n",
       "      <td>Web</td>\n",
       "      <td>2019-04-13T12:00:00-05:00</td>\n",
       "      <td>None</td>\n",
       "      <td>Credit card debt</td>\n",
       "      <td>Yes</td>\n",
       "      <td></td>\n",
       "      <td>Debt is not yours</td>\n",
       "      <td>Consent not provided</td>\n",
       "    </tr>\n",
       "    <tr>\n",
       "      <th>1</th>\n",
       "      <td>complaint-public-v2</td>\n",
       "      <td>complaint</td>\n",
       "      <td>3229299</td>\n",
       "      <td>0.0</td>\n",
       "      <td>Servicemember</td>\n",
       "      <td>319XX</td>\n",
       "      <td>3229299</td>\n",
       "      <td>Written notification about debt</td>\n",
       "      <td>2019-05-01T12:00:00-05:00</td>\n",
       "      <td>GA</td>\n",
       "      <td>...</td>\n",
       "      <td>Closed with explanation</td>\n",
       "      <td>JPMORGAN CHASE &amp; CO.</td>\n",
       "      <td>Web</td>\n",
       "      <td>2019-05-01T12:00:00-05:00</td>\n",
       "      <td>None</td>\n",
       "      <td>Credit card debt</td>\n",
       "      <td>Yes</td>\n",
       "      <td>Good morning my name is XXXX XXXX and I apprec...</td>\n",
       "      <td>Didn't receive enough information to verify debt</td>\n",
       "      <td>Consent provided</td>\n",
       "    </tr>\n",
       "    <tr>\n",
       "      <th>2</th>\n",
       "      <td>complaint-public-v2</td>\n",
       "      <td>complaint</td>\n",
       "      <td>3199379</td>\n",
       "      <td>0.0</td>\n",
       "      <td>None</td>\n",
       "      <td>77069</td>\n",
       "      <td>3199379</td>\n",
       "      <td>Other features, terms, or problems</td>\n",
       "      <td>2019-04-02T12:00:00-05:00</td>\n",
       "      <td>TX</td>\n",
       "      <td>...</td>\n",
       "      <td>Closed with explanation</td>\n",
       "      <td>JPMORGAN CHASE &amp; CO.</td>\n",
       "      <td>Web</td>\n",
       "      <td>2019-04-02T12:00:00-05:00</td>\n",
       "      <td>None</td>\n",
       "      <td>General-purpose credit card or charge card</td>\n",
       "      <td>Yes</td>\n",
       "      <td>I upgraded my XXXX XXXX card in XX/XX/2018 and...</td>\n",
       "      <td>Problem with rewards from credit card</td>\n",
       "      <td>Consent provided</td>\n",
       "    </tr>\n",
       "    <tr>\n",
       "      <th>3</th>\n",
       "      <td>complaint-public-v2</td>\n",
       "      <td>complaint</td>\n",
       "      <td>2673060</td>\n",
       "      <td>0.0</td>\n",
       "      <td>None</td>\n",
       "      <td>48066</td>\n",
       "      <td>2673060</td>\n",
       "      <td>Trouble during payment process</td>\n",
       "      <td>2017-09-13T12:00:00-05:00</td>\n",
       "      <td>MI</td>\n",
       "      <td>...</td>\n",
       "      <td>Closed with explanation</td>\n",
       "      <td>JPMORGAN CHASE &amp; CO.</td>\n",
       "      <td>Web</td>\n",
       "      <td>2017-09-14T12:00:00-05:00</td>\n",
       "      <td>None</td>\n",
       "      <td>Conventional home mortgage</td>\n",
       "      <td>Yes</td>\n",
       "      <td></td>\n",
       "      <td>None</td>\n",
       "      <td>Consent not provided</td>\n",
       "    </tr>\n",
       "    <tr>\n",
       "      <th>4</th>\n",
       "      <td>complaint-public-v2</td>\n",
       "      <td>complaint</td>\n",
       "      <td>3203545</td>\n",
       "      <td>0.0</td>\n",
       "      <td>None</td>\n",
       "      <td>10473</td>\n",
       "      <td>3203545</td>\n",
       "      <td>Fees or interest</td>\n",
       "      <td>2019-04-05T12:00:00-05:00</td>\n",
       "      <td>NY</td>\n",
       "      <td>...</td>\n",
       "      <td>Closed with explanation</td>\n",
       "      <td>JPMORGAN CHASE &amp; CO.</td>\n",
       "      <td>Referral</td>\n",
       "      <td>2019-04-05T12:00:00-05:00</td>\n",
       "      <td>None</td>\n",
       "      <td>General-purpose credit card or charge card</td>\n",
       "      <td>Yes</td>\n",
       "      <td></td>\n",
       "      <td>Charged too much interest</td>\n",
       "      <td>N/A</td>\n",
       "    </tr>\n",
       "  </tbody>\n",
       "</table>\n",
       "<p>5 rows × 22 columns</p>\n",
       "</div>"
      ],
      "text/plain": [
       "                _index      _type      _id  _score   _source.tags  \\\n",
       "0  complaint-public-v2  complaint  3211475     0.0           None   \n",
       "1  complaint-public-v2  complaint  3229299     0.0  Servicemember   \n",
       "2  complaint-public-v2  complaint  3199379     0.0           None   \n",
       "3  complaint-public-v2  complaint  2673060     0.0           None   \n",
       "4  complaint-public-v2  complaint  3203545     0.0           None   \n",
       "\n",
       "  _source.zip_code _source.complaint_id                       _source.issue  \\\n",
       "0            90301              3211475   Attempts to collect debt not owed   \n",
       "1            319XX              3229299     Written notification about debt   \n",
       "2            77069              3199379  Other features, terms, or problems   \n",
       "3            48066              2673060      Trouble during payment process   \n",
       "4            10473              3203545                    Fees or interest   \n",
       "\n",
       "       _source.date_received _source.state  ... _source.company_response  \\\n",
       "0  2019-04-13T12:00:00-05:00            CA  ...  Closed with explanation   \n",
       "1  2019-05-01T12:00:00-05:00            GA  ...  Closed with explanation   \n",
       "2  2019-04-02T12:00:00-05:00            TX  ...  Closed with explanation   \n",
       "3  2017-09-13T12:00:00-05:00            MI  ...  Closed with explanation   \n",
       "4  2019-04-05T12:00:00-05:00            NY  ...  Closed with explanation   \n",
       "\n",
       "        _source.company _source.submitted_via _source.date_sent_to_company  \\\n",
       "0  JPMORGAN CHASE & CO.                   Web    2019-04-13T12:00:00-05:00   \n",
       "1  JPMORGAN CHASE & CO.                   Web    2019-05-01T12:00:00-05:00   \n",
       "2  JPMORGAN CHASE & CO.                   Web    2019-04-02T12:00:00-05:00   \n",
       "3  JPMORGAN CHASE & CO.                   Web    2017-09-14T12:00:00-05:00   \n",
       "4  JPMORGAN CHASE & CO.              Referral    2019-04-05T12:00:00-05:00   \n",
       "\n",
       "  _source.company_public_response                         _source.sub_product  \\\n",
       "0                            None                            Credit card debt   \n",
       "1                            None                            Credit card debt   \n",
       "2                            None  General-purpose credit card or charge card   \n",
       "3                            None                  Conventional home mortgage   \n",
       "4                            None  General-purpose credit card or charge card   \n",
       "\n",
       "  _source.timely                    _source.complaint_what_happened  \\\n",
       "0            Yes                                                      \n",
       "1            Yes  Good morning my name is XXXX XXXX and I apprec...   \n",
       "2            Yes  I upgraded my XXXX XXXX card in XX/XX/2018 and...   \n",
       "3            Yes                                                      \n",
       "4            Yes                                                      \n",
       "\n",
       "                                  _source.sub_issue  \\\n",
       "0                                 Debt is not yours   \n",
       "1  Didn't receive enough information to verify debt   \n",
       "2             Problem with rewards from credit card   \n",
       "3                                              None   \n",
       "4                         Charged too much interest   \n",
       "\n",
       "  _source.consumer_consent_provided  \n",
       "0              Consent not provided  \n",
       "1                  Consent provided  \n",
       "2                  Consent provided  \n",
       "3              Consent not provided  \n",
       "4                               N/A  \n",
       "\n",
       "[5 rows x 22 columns]"
      ]
     },
     "execution_count": 3,
     "metadata": {},
     "output_type": "execute_result"
    }
   ],
   "source": [
    "df.head()"
   ]
  },
  {
   "cell_type": "code",
   "execution_count": 4,
   "id": "da895def",
   "metadata": {},
   "outputs": [
    {
     "name": "stdout",
     "output_type": "stream",
     "text": [
      "<class 'pandas.core.frame.DataFrame'>\n",
      "RangeIndex: 78313 entries, 0 to 78312\n",
      "Data columns (total 22 columns):\n",
      " #   Column                             Non-Null Count  Dtype  \n",
      "---  ------                             --------------  -----  \n",
      " 0   _index                             78313 non-null  object \n",
      " 1   _type                              78313 non-null  object \n",
      " 2   _id                                78313 non-null  object \n",
      " 3   _score                             78313 non-null  float64\n",
      " 4   _source.tags                       10900 non-null  object \n",
      " 5   _source.zip_code                   71556 non-null  object \n",
      " 6   _source.complaint_id               78313 non-null  object \n",
      " 7   _source.issue                      78313 non-null  object \n",
      " 8   _source.date_received              78313 non-null  object \n",
      " 9   _source.state                      76322 non-null  object \n",
      " 10  _source.consumer_disputed          78313 non-null  object \n",
      " 11  _source.product                    78313 non-null  object \n",
      " 12  _source.company_response           78313 non-null  object \n",
      " 13  _source.company                    78313 non-null  object \n",
      " 14  _source.submitted_via              78313 non-null  object \n",
      " 15  _source.date_sent_to_company       78313 non-null  object \n",
      " 16  _source.company_public_response    4 non-null      object \n",
      " 17  _source.sub_product                67742 non-null  object \n",
      " 18  _source.timely                     78313 non-null  object \n",
      " 19  _source.complaint_what_happened    78313 non-null  object \n",
      " 20  _source.sub_issue                  32016 non-null  object \n",
      " 21  _source.consumer_consent_provided  77305 non-null  object \n",
      "dtypes: float64(1), object(21)\n",
      "memory usage: 13.1+ MB\n"
     ]
    }
   ],
   "source": [
    "df.info()"
   ]
  },
  {
   "cell_type": "code",
   "execution_count": 5,
   "id": "09723f5a",
   "metadata": {},
   "outputs": [
    {
     "data": {
      "text/plain": [
       "pandas.core.frame.DataFrame"
      ]
     },
     "execution_count": 5,
     "metadata": {},
     "output_type": "execute_result"
    }
   ],
   "source": [
    "type(df)"
   ]
  },
  {
   "cell_type": "code",
   "execution_count": 6,
   "id": "35a22a56",
   "metadata": {},
   "outputs": [
    {
     "data": {
      "text/plain": [
       "(78313, 22)"
      ]
     },
     "execution_count": 6,
     "metadata": {},
     "output_type": "execute_result"
    }
   ],
   "source": [
    "df.shape"
   ]
  },
  {
   "cell_type": "code",
   "execution_count": 7,
   "id": "4e85b916",
   "metadata": {},
   "outputs": [
    {
     "data": {
      "text/plain": [
       "_index                                   0\n",
       "_type                                    0\n",
       "_id                                      0\n",
       "_score                                   0\n",
       "_source.tags                         67413\n",
       "_source.zip_code                      6757\n",
       "_source.complaint_id                     0\n",
       "_source.issue                            0\n",
       "_source.date_received                    0\n",
       "_source.state                         1991\n",
       "_source.consumer_disputed                0\n",
       "_source.product                          0\n",
       "_source.company_response                 0\n",
       "_source.company                          0\n",
       "_source.submitted_via                    0\n",
       "_source.date_sent_to_company             0\n",
       "_source.company_public_response      78309\n",
       "_source.sub_product                  10571\n",
       "_source.timely                           0\n",
       "_source.complaint_what_happened          0\n",
       "_source.sub_issue                    46297\n",
       "_source.consumer_consent_provided     1008\n",
       "dtype: int64"
      ]
     },
     "execution_count": 7,
     "metadata": {},
     "output_type": "execute_result"
    }
   ],
   "source": [
    "df.isnull().sum()"
   ]
  },
  {
   "cell_type": "code",
   "execution_count": 8,
   "id": "6bace1d8",
   "metadata": {},
   "outputs": [],
   "source": [
    "#Assigning new column names\n",
    "df.columns = [\"index\",\"type\",\"id\",\"score\",\"tags\",\"zip_code\",\"complaint_id\",\"issue\",\"date_received\",\"state\",\"consumer_disputed\",\"product\",\"company_response\",\"company\",\"submitted_via\",\"date_sent_to_company\",\"company_public_response\",\"sub_product\",\"timely\",\"complaint_what_happened\",\"sub_issue\",\"consumer_consent_provided\"]"
   ]
  },
  {
   "cell_type": "code",
   "execution_count": 9,
   "id": "a18231b4",
   "metadata": {},
   "outputs": [
    {
     "data": {
      "text/plain": [
       "array(['JPMORGAN CHASE & CO.'], dtype=object)"
      ]
     },
     "execution_count": 9,
     "metadata": {},
     "output_type": "execute_result"
    }
   ],
   "source": [
    "df['company'].unique()"
   ]
  },
  {
   "cell_type": "code",
   "execution_count": 10,
   "id": "41471b89",
   "metadata": {},
   "outputs": [
    {
     "data": {
      "text/plain": [
       "array(['Web', 'Referral', 'Phone', 'Postal mail', 'Fax', 'Email'],\n",
       "      dtype=object)"
      ]
     },
     "execution_count": 10,
     "metadata": {},
     "output_type": "execute_result"
    }
   ],
   "source": [
    "df['submitted_via'].unique()"
   ]
  },
  {
   "cell_type": "code",
   "execution_count": 11,
   "id": "a38f4706",
   "metadata": {},
   "outputs": [],
   "source": [
    "df = df.drop('company',axis=1)\n",
    "df = df.drop('submitted_via',axis=1)"
   ]
  },
  {
   "cell_type": "code",
   "execution_count": 12,
   "id": "8dbcce35",
   "metadata": {},
   "outputs": [],
   "source": [
    "# Assign nan in place of blanks in the complaints column\n",
    "df['complaint_what_happened'].replace(r'', np.nan,inplace=True)"
   ]
  },
  {
   "cell_type": "code",
   "execution_count": 13,
   "id": "fe2117e2",
   "metadata": {},
   "outputs": [],
   "source": [
    "#Removing all rows where complaints column is nan\n",
    "\n",
    "df = df[~df['complaint_what_happened'].isnull()]"
   ]
  },
  {
   "cell_type": "code",
   "execution_count": 14,
   "id": "a58c2a6e",
   "metadata": {},
   "outputs": [],
   "source": [
    "# Function to clean the text and remove all the unnecessary elements.\n",
    "\n",
    "def cleaned_text(sentence):\n",
    "    sentence = sentence.lower()\n",
    "    sentence = re.sub(\"[\\[].*?[\\]]\", \"\", sentence)\n",
    "    sentence = re.sub(r'[^\\w\\s]','', sentence) \n",
    "    sentence = re.sub(r'[0-9]', '', sentence)\n",
    "    \n",
    "    return sentence"
   ]
  },
  {
   "cell_type": "code",
   "execution_count": 15,
   "id": "44434090",
   "metadata": {},
   "outputs": [],
   "source": [
    "# Cleaning text\n",
    "\n",
    "df_clean = pd.DataFrame()\n",
    "df_clean['complaints']= pd.DataFrame(df['complaint_what_happened'].apply(cleaned_text))"
   ]
  },
  {
   "cell_type": "code",
   "execution_count": 16,
   "id": "741cb09e",
   "metadata": {},
   "outputs": [
    {
     "name": "stderr",
     "output_type": "stream",
     "text": [
      "[nltk_data] Downloading package wordnet to\n",
      "[nltk_data]     C:\\Users\\RW565TZ\\AppData\\Roaming\\nltk_data...\n",
      "[nltk_data]   Package wordnet is already up-to-date!\n"
     ]
    }
   ],
   "source": [
    "# Lemmatization of variable complaint_what_happened using WordNetLemmatizer\n",
    "\n",
    "nltk.download('wordnet')\n",
    "\n",
    "def lemmatization(text):\n",
    "    stop_words = []\n",
    "    stop_words.extend(['!', ',' ,'.' ,'?' ,'-s' ,'-ly' ,'</s> ', 's'])\n",
    "    stemmer = WordNetLemmatizer()\n",
    "\n",
    "    text = word_tokenize(text)\n",
    "    text = [word for word in text if word not in stop_words]\n",
    "    text = [stemmer.lemmatize(word) for word in text]\n",
    "    return ' '.join(text) "
   ]
  },
  {
   "cell_type": "code",
   "execution_count": 17,
   "id": "f5c40363",
   "metadata": {},
   "outputs": [],
   "source": [
    "df_clean['lemmatized_text'] = pd.DataFrame(df['complaint_what_happened'].apply(lemmatization))"
   ]
  },
  {
   "cell_type": "code",
   "execution_count": 18,
   "id": "2c139449",
   "metadata": {},
   "outputs": [
    {
     "data": {
      "text/html": [
       "<div>\n",
       "<style scoped>\n",
       "    .dataframe tbody tr th:only-of-type {\n",
       "        vertical-align: middle;\n",
       "    }\n",
       "\n",
       "    .dataframe tbody tr th {\n",
       "        vertical-align: top;\n",
       "    }\n",
       "\n",
       "    .dataframe thead th {\n",
       "        text-align: right;\n",
       "    }\n",
       "</style>\n",
       "<table border=\"1\" class=\"dataframe\">\n",
       "  <thead>\n",
       "    <tr style=\"text-align: right;\">\n",
       "      <th></th>\n",
       "      <th>complaints</th>\n",
       "      <th>lemmatized_text</th>\n",
       "    </tr>\n",
       "  </thead>\n",
       "  <tbody>\n",
       "    <tr>\n",
       "      <th>1</th>\n",
       "      <td>good morning my name is xxxx xxxx and i apprec...</td>\n",
       "      <td>Good morning my name is XXXX XXXX and I apprec...</td>\n",
       "    </tr>\n",
       "    <tr>\n",
       "      <th>2</th>\n",
       "      <td>i upgraded my xxxx xxxx card in xxxx and was t...</td>\n",
       "      <td>I upgraded my XXXX XXXX card in XX/XX/2018 and...</td>\n",
       "    </tr>\n",
       "    <tr>\n",
       "      <th>10</th>\n",
       "      <td>chase card was reported on xxxx however fraudu...</td>\n",
       "      <td>Chase Card wa reported on XX/XX/2019 However f...</td>\n",
       "    </tr>\n",
       "    <tr>\n",
       "      <th>11</th>\n",
       "      <td>on xxxx while trying to book a xxxx  xxxx  tic...</td>\n",
       "      <td>On XX/XX/2018 while trying to book a XXXX XXXX...</td>\n",
       "    </tr>\n",
       "    <tr>\n",
       "      <th>14</th>\n",
       "      <td>my grand son give me check for  i deposit it i...</td>\n",
       "      <td>my grand son give me check for { $ 1600.00 } i...</td>\n",
       "    </tr>\n",
       "  </tbody>\n",
       "</table>\n",
       "</div>"
      ],
      "text/plain": [
       "                                           complaints  \\\n",
       "1   good morning my name is xxxx xxxx and i apprec...   \n",
       "2   i upgraded my xxxx xxxx card in xxxx and was t...   \n",
       "10  chase card was reported on xxxx however fraudu...   \n",
       "11  on xxxx while trying to book a xxxx  xxxx  tic...   \n",
       "14  my grand son give me check for  i deposit it i...   \n",
       "\n",
       "                                      lemmatized_text  \n",
       "1   Good morning my name is XXXX XXXX and I apprec...  \n",
       "2   I upgraded my XXXX XXXX card in XX/XX/2018 and...  \n",
       "10  Chase Card wa reported on XX/XX/2019 However f...  \n",
       "11  On XX/XX/2018 while trying to book a XXXX XXXX...  \n",
       "14  my grand son give me check for { $ 1600.00 } i...  "
      ]
     },
     "execution_count": 18,
     "metadata": {},
     "output_type": "execute_result"
    }
   ],
   "source": [
    "df_clean.head()"
   ]
  },
  {
   "cell_type": "code",
   "execution_count": 19,
   "id": "07ba49bb",
   "metadata": {},
   "outputs": [],
   "source": [
    "df_clean['complaint_clean'] = df_clean['lemmatized_text'].str.replace('XXXX',' ')\n",
    "df_clean['complaint_clean'] = df_clean['lemmatized_text'].str.replace('XX',' ')"
   ]
  },
  {
   "cell_type": "code",
   "execution_count": 20,
   "id": "ae15ba7e",
   "metadata": {},
   "outputs": [],
   "source": [
    "tfidf = TfidfVectorizer(min_df=2, max_df=0.95, stop_words='english')"
   ]
  },
  {
   "cell_type": "code",
   "execution_count": 21,
   "id": "20d4d908",
   "metadata": {},
   "outputs": [],
   "source": [
    "dtm = tfidf.fit_transform(df_clean['complaint_clean'])"
   ]
  },
  {
   "cell_type": "code",
   "execution_count": 22,
   "id": "e7c6f082",
   "metadata": {},
   "outputs": [
    {
     "data": {
      "text/plain": [
       "<21072x14649 sparse matrix of type '<class 'numpy.float64'>'\n",
       "\twith 1376181 stored elements in Compressed Sparse Row format>"
      ]
     },
     "execution_count": 22,
     "metadata": {},
     "output_type": "execute_result"
    }
   ],
   "source": [
    "dtm"
   ]
  },
  {
   "cell_type": "code",
   "execution_count": 23,
   "id": "a58ae8b5",
   "metadata": {},
   "outputs": [],
   "source": [
    "from sklearn.decomposition import LatentDirichletAllocation"
   ]
  },
  {
   "cell_type": "code",
   "execution_count": 24,
   "id": "7ee3468f",
   "metadata": {},
   "outputs": [],
   "source": [
    "n_components = 5\n",
    "lda = LatentDirichletAllocation(n_components=5,random_state=42)"
   ]
  },
  {
   "cell_type": "code",
   "execution_count": 25,
   "id": "e7915caa",
   "metadata": {},
   "outputs": [
    {
     "data": {
      "text/plain": [
       "LatentDirichletAllocation(n_components=5, random_state=42)"
      ]
     },
     "execution_count": 25,
     "metadata": {},
     "output_type": "execute_result"
    }
   ],
   "source": [
    "lda.fit(dtm)"
   ]
  },
  {
   "cell_type": "code",
   "execution_count": 26,
   "id": "4d89ca7c",
   "metadata": {},
   "outputs": [
    {
     "data": {
      "text/plain": [
       "array([[6.30311694e+02, 1.01467620e+01, 2.00005705e-01, ...,\n",
       "        2.00566682e-01, 1.75726040e+00, 4.19642199e-01],\n",
       "       [1.24181744e+02, 2.21155476e+00, 2.00018825e-01, ...,\n",
       "        2.00427025e-01, 4.23419316e-01, 2.00036726e-01],\n",
       "       [2.00288220e-01, 2.00241029e-01, 2.00111061e-01, ...,\n",
       "        2.00061016e-01, 2.00280355e-01, 2.00214983e-01],\n",
       "       [1.13916971e+02, 9.33206234e+00, 2.85495849e-01, ...,\n",
       "        1.46851039e+00, 2.18055450e+00, 2.00022555e-01],\n",
       "       [2.01613018e-01, 2.00400668e-01, 2.00057180e-01, ...,\n",
       "        2.00033330e-01, 2.00147799e-01, 2.00122302e-01]])"
      ]
     },
     "execution_count": 26,
     "metadata": {},
     "output_type": "execute_result"
    }
   ],
   "source": [
    "lda.components_"
   ]
  },
  {
   "cell_type": "code",
   "execution_count": 27,
   "id": "8f38ece7",
   "metadata": {},
   "outputs": [
    {
     "data": {
      "text/plain": [
       "14649"
      ]
     },
     "execution_count": 27,
     "metadata": {},
     "output_type": "execute_result"
    }
   ],
   "source": [
    "len(tfidf.get_feature_names())"
   ]
  },
  {
   "cell_type": "code",
   "execution_count": 28,
   "id": "fa50a964",
   "metadata": {},
   "outputs": [
    {
     "name": "stdout",
     "output_type": "stream",
     "text": [
      "['day', 'called', 'transaction', 'did', 'told', 'credit', 'money', 'charge', 'check', '00', 'bank', 'card', 'chase', 'account', 'wa']\n",
      "\n",
      "\n",
      "['reporting', 'month', 'fee', 'score', '00', 'paid', 'report', 'account', 'balance', 'wa', 'chase', 'late', 'card', 'payment', 'credit']\n",
      "\n",
      "\n",
      "['aforesaid', 'day', 'received', 'days', 'report', 'filed', 'dispute', 'inquiriy', '30', 'result', 'investigation', 'havent', 'incorrect', 'regard', 'item']\n",
      "\n",
      "\n",
      "['00', 'time', 'letter', 'year', 'ha', 'property', 'bank', 'modification', 'debt', 'home', 'payment', 'wa', 'chase', 'mortgage', 'loan']\n",
      "\n",
      "\n",
      "['bureau', 'victim', 'authorize', 'remove', 'inquires', 'reporting', 'removed', 'card', 'jpmcb', 'theft', 'identity', 'hard', 'report', 'credit', 'inquiry']\n",
      "\n",
      "\n"
     ]
    }
   ],
   "source": [
    "for index,topic in enumerate(lda.components_):\n",
    "    print([tfidf.get_feature_names()[i] for i in topic.argsort()[-15:]])\n",
    "    print('\\n')"
   ]
  },
  {
   "cell_type": "code",
   "execution_count": 29,
   "id": "0d1d202f",
   "metadata": {},
   "outputs": [],
   "source": [
    "topic_results = lda.transform(dtm)"
   ]
  },
  {
   "cell_type": "code",
   "execution_count": 30,
   "id": "262400b5",
   "metadata": {},
   "outputs": [],
   "source": [
    "df_clean['Topic'] = topic_results.argmax(axis = 1)"
   ]
  },
  {
   "cell_type": "code",
   "execution_count": 31,
   "id": "8f573fb3",
   "metadata": {},
   "outputs": [
    {
     "data": {
      "text/plain": [
       "array([3, 0, 4, 1, 2], dtype=int64)"
      ]
     },
     "execution_count": 31,
     "metadata": {},
     "output_type": "execute_result"
    }
   ],
   "source": [
    "df_clean['Topic'].unique()"
   ]
  },
  {
   "cell_type": "code",
   "execution_count": 32,
   "id": "f91ff95c",
   "metadata": {},
   "outputs": [
    {
     "data": {
      "text/plain": [
       "0    12662\n",
       "3     4746\n",
       "1     3020\n",
       "4      612\n",
       "2       32\n",
       "Name: Topic, dtype: int64"
      ]
     },
     "execution_count": 32,
     "metadata": {},
     "output_type": "execute_result"
    },
    {
     "data": {
      "image/png": "[encoded data removed]",
      "text/plain": [
       "<Figure size 432x288 with 1 Axes>"
      ]
     },
     "metadata": {
      "needs_background": "light"
     },
     "output_type": "display_data"
    }
   ],
   "source": [
    "sns.countplot(df_clean['Topic'])\n",
    "\n",
    "df_clean['Topic'].value_counts()"
   ]
  },
  {
   "cell_type": "code",
   "execution_count": 33,
   "id": "2403d362",
   "metadata": {},
   "outputs": [
    {
     "data": {
      "text/html": [
       "<div>\n",
       "<style scoped>\n",
       "    .dataframe tbody tr th:only-of-type {\n",
       "        vertical-align: middle;\n",
       "    }\n",
       "\n",
       "    .dataframe tbody tr th {\n",
       "        vertical-align: top;\n",
       "    }\n",
       "\n",
       "    .dataframe thead th {\n",
       "        text-align: right;\n",
       "    }\n",
       "</style>\n",
       "<table border=\"1\" class=\"dataframe\">\n",
       "  <thead>\n",
       "    <tr style=\"text-align: right;\">\n",
       "      <th></th>\n",
       "      <th>complaints</th>\n",
       "      <th>lemmatized_text</th>\n",
       "      <th>complaint_clean</th>\n",
       "      <th>Topic</th>\n",
       "    </tr>\n",
       "  </thead>\n",
       "  <tbody>\n",
       "    <tr>\n",
       "      <th>1</th>\n",
       "      <td>good morning my name is xxxx xxxx and i apprec...</td>\n",
       "      <td>Good morning my name is XXXX XXXX and I apprec...</td>\n",
       "      <td>Good morning my name is       and I appreciate...</td>\n",
       "      <td>3</td>\n",
       "    </tr>\n",
       "    <tr>\n",
       "      <th>2</th>\n",
       "      <td>i upgraded my xxxx xxxx card in xxxx and was t...</td>\n",
       "      <td>I upgraded my XXXX XXXX card in XX/XX/2018 and...</td>\n",
       "      <td>I upgraded my       card in  / /2018 and wa to...</td>\n",
       "      <td>0</td>\n",
       "    </tr>\n",
       "    <tr>\n",
       "      <th>10</th>\n",
       "      <td>chase card was reported on xxxx however fraudu...</td>\n",
       "      <td>Chase Card wa reported on XX/XX/2019 However f...</td>\n",
       "      <td>Chase Card wa reported on  / /2019 However fra...</td>\n",
       "      <td>4</td>\n",
       "    </tr>\n",
       "    <tr>\n",
       "      <th>11</th>\n",
       "      <td>on xxxx while trying to book a xxxx  xxxx  tic...</td>\n",
       "      <td>On XX/XX/2018 while trying to book a XXXX XXXX...</td>\n",
       "      <td>On  / /2018 while trying to book a       ticke...</td>\n",
       "      <td>0</td>\n",
       "    </tr>\n",
       "    <tr>\n",
       "      <th>14</th>\n",
       "      <td>my grand son give me check for  i deposit it i...</td>\n",
       "      <td>my grand son give me check for { $ 1600.00 } i...</td>\n",
       "      <td>my grand son give me check for { $ 1600.00 } i...</td>\n",
       "      <td>0</td>\n",
       "    </tr>\n",
       "  </tbody>\n",
       "</table>\n",
       "</div>"
      ],
      "text/plain": [
       "                                           complaints  \\\n",
       "1   good morning my name is xxxx xxxx and i apprec...   \n",
       "2   i upgraded my xxxx xxxx card in xxxx and was t...   \n",
       "10  chase card was reported on xxxx however fraudu...   \n",
       "11  on xxxx while trying to book a xxxx  xxxx  tic...   \n",
       "14  my grand son give me check for  i deposit it i...   \n",
       "\n",
       "                                      lemmatized_text  \\\n",
       "1   Good morning my name is XXXX XXXX and I apprec...   \n",
       "2   I upgraded my XXXX XXXX card in XX/XX/2018 and...   \n",
       "10  Chase Card wa reported on XX/XX/2019 However f...   \n",
       "11  On XX/XX/2018 while trying to book a XXXX XXXX...   \n",
       "14  my grand son give me check for { $ 1600.00 } i...   \n",
       "\n",
       "                                      complaint_clean  Topic  \n",
       "1   Good morning my name is       and I appreciate...      3  \n",
       "2   I upgraded my       card in  / /2018 and wa to...      0  \n",
       "10  Chase Card wa reported on  / /2019 However fra...      4  \n",
       "11  On  / /2018 while trying to book a       ticke...      0  \n",
       "14  my grand son give me check for { $ 1600.00 } i...      0  "
      ]
     },
     "execution_count": 33,
     "metadata": {},
     "output_type": "execute_result"
    }
   ],
   "source": [
    "df_clean.head()"
   ]
  },
  {
   "cell_type": "code",
   "execution_count": 34,
   "id": "c031d5bf",
   "metadata": {},
   "outputs": [],
   "source": [
    "Topic_names = {0:\"Bank Account services\",\n",
    "               1:\"Credit card or prepaid card\", \n",
    "               2:'Others',\n",
    "               3:\"Theft/Dispute Reporting\",\n",
    "               4:\"Mortgage/Loan\"\n",
    "               }\n",
    "\n",
    "df_clean['Topic'] = df_clean['Topic'].map(Topic_names)"
   ]
  },
  {
   "cell_type": "code",
   "execution_count": 35,
   "id": "63876a17",
   "metadata": {},
   "outputs": [
    {
     "data": {
      "text/html": [
       "<div>\n",
       "<style scoped>\n",
       "    .dataframe tbody tr th:only-of-type {\n",
       "        vertical-align: middle;\n",
       "    }\n",
       "\n",
       "    .dataframe tbody tr th {\n",
       "        vertical-align: top;\n",
       "    }\n",
       "\n",
       "    .dataframe thead th {\n",
       "        text-align: right;\n",
       "    }\n",
       "</style>\n",
       "<table border=\"1\" class=\"dataframe\">\n",
       "  <thead>\n",
       "    <tr style=\"text-align: right;\">\n",
       "      <th></th>\n",
       "      <th>complaints</th>\n",
       "      <th>lemmatized_text</th>\n",
       "      <th>complaint_clean</th>\n",
       "      <th>Topic</th>\n",
       "    </tr>\n",
       "  </thead>\n",
       "  <tbody>\n",
       "    <tr>\n",
       "      <th>1</th>\n",
       "      <td>good morning my name is xxxx xxxx and i apprec...</td>\n",
       "      <td>Good morning my name is XXXX XXXX and I apprec...</td>\n",
       "      <td>Good morning my name is       and I appreciate...</td>\n",
       "      <td>Theft/Dispute Reporting</td>\n",
       "    </tr>\n",
       "    <tr>\n",
       "      <th>2</th>\n",
       "      <td>i upgraded my xxxx xxxx card in xxxx and was t...</td>\n",
       "      <td>I upgraded my XXXX XXXX card in XX/XX/2018 and...</td>\n",
       "      <td>I upgraded my       card in  / /2018 and wa to...</td>\n",
       "      <td>Bank Account services</td>\n",
       "    </tr>\n",
       "    <tr>\n",
       "      <th>10</th>\n",
       "      <td>chase card was reported on xxxx however fraudu...</td>\n",
       "      <td>Chase Card wa reported on XX/XX/2019 However f...</td>\n",
       "      <td>Chase Card wa reported on  / /2019 However fra...</td>\n",
       "      <td>Mortgage/Loan</td>\n",
       "    </tr>\n",
       "    <tr>\n",
       "      <th>11</th>\n",
       "      <td>on xxxx while trying to book a xxxx  xxxx  tic...</td>\n",
       "      <td>On XX/XX/2018 while trying to book a XXXX XXXX...</td>\n",
       "      <td>On  / /2018 while trying to book a       ticke...</td>\n",
       "      <td>Bank Account services</td>\n",
       "    </tr>\n",
       "    <tr>\n",
       "      <th>14</th>\n",
       "      <td>my grand son give me check for  i deposit it i...</td>\n",
       "      <td>my grand son give me check for { $ 1600.00 } i...</td>\n",
       "      <td>my grand son give me check for { $ 1600.00 } i...</td>\n",
       "      <td>Bank Account services</td>\n",
       "    </tr>\n",
       "    <tr>\n",
       "      <th>15</th>\n",
       "      <td>can you please remove inquiry</td>\n",
       "      <td>Can you please remove inquiry</td>\n",
       "      <td>Can you please remove inquiry</td>\n",
       "      <td>Mortgage/Loan</td>\n",
       "    </tr>\n",
       "    <tr>\n",
       "      <th>17</th>\n",
       "      <td>with out notice jp morgan chase restricted my ...</td>\n",
       "      <td>With out notice J.P. Morgan Chase restricted m...</td>\n",
       "      <td>With out notice J.P. Morgan Chase restricted m...</td>\n",
       "      <td>Bank Account services</td>\n",
       "    </tr>\n",
       "    <tr>\n",
       "      <th>20</th>\n",
       "      <td>during the summer months i experience a declin...</td>\n",
       "      <td>During the summer month I experience a decline...</td>\n",
       "      <td>During the summer month I experience a decline...</td>\n",
       "      <td>Theft/Dispute Reporting</td>\n",
       "    </tr>\n",
       "    <tr>\n",
       "      <th>21</th>\n",
       "      <td>on xxxx xxxx i made a  payment to an online re...</td>\n",
       "      <td>On XXXX XX/XX/2019 I made a { $ 300.00 } payme...</td>\n",
       "      <td>On     / /2019 I made a { $ 300.00 } payment t...</td>\n",
       "      <td>Bank Account services</td>\n",
       "    </tr>\n",
       "    <tr>\n",
       "      <th>23</th>\n",
       "      <td>i have a chase credit card which is incorrectl...</td>\n",
       "      <td>I have a Chase credit card which is incorrectl...</td>\n",
       "      <td>I have a Chase credit card which is incorrectl...</td>\n",
       "      <td>Mortgage/Loan</td>\n",
       "    </tr>\n",
       "    <tr>\n",
       "      <th>24</th>\n",
       "      <td>mishandling of this account by chase auto and ...</td>\n",
       "      <td>mishandling of this account by Chase auto and ...</td>\n",
       "      <td>mishandling of this account by Chase auto and</td>\n",
       "      <td>Credit card or prepaid card</td>\n",
       "    </tr>\n",
       "    <tr>\n",
       "      <th>26</th>\n",
       "      <td>i have reached out to xxxx several times in at...</td>\n",
       "      <td>I have reached out to XXXX several time in att...</td>\n",
       "      <td>I have reached out to    several time in attem...</td>\n",
       "      <td>Bank Account services</td>\n",
       "    </tr>\n",
       "    <tr>\n",
       "      <th>27</th>\n",
       "      <td>i opened an account with chase bank on xxxx an...</td>\n",
       "      <td>I opened an account with chase bank on XXXX an...</td>\n",
       "      <td>I opened an account with chase bank on    and ...</td>\n",
       "      <td>Bank Account services</td>\n",
       "    </tr>\n",
       "    <tr>\n",
       "      <th>30</th>\n",
       "      <td>to whom it may concern chase bank charged wron...</td>\n",
       "      <td>To whom it may concern Chase bank charged wron...</td>\n",
       "      <td>To whom it may concern Chase bank charged wron...</td>\n",
       "      <td>Bank Account services</td>\n",
       "    </tr>\n",
       "    <tr>\n",
       "      <th>32</th>\n",
       "      <td>my chase amazon card was declined for a cateri...</td>\n",
       "      <td>My chase amazon card wa declined for a caterin...</td>\n",
       "      <td>My chase amazon card wa declined for a caterin...</td>\n",
       "      <td>Bank Account services</td>\n",
       "    </tr>\n",
       "    <tr>\n",
       "      <th>35</th>\n",
       "      <td>i opened the saving account for the  bonus i w...</td>\n",
       "      <td>I opened the saving account for the { $ 25.00 ...</td>\n",
       "      <td>I opened the saving account for the { $ 25.00 ...</td>\n",
       "      <td>Bank Account services</td>\n",
       "    </tr>\n",
       "    <tr>\n",
       "      <th>40</th>\n",
       "      <td>xxxx xxxx a sofa love seat table and chairs an...</td>\n",
       "      <td>XXXX XXXX a sofa love seat table and chair and...</td>\n",
       "      <td>a sofa love seat table and chair and wa ...</td>\n",
       "      <td>Bank Account services</td>\n",
       "    </tr>\n",
       "    <tr>\n",
       "      <th>42</th>\n",
       "      <td>my card went missing and i didnt realize it un...</td>\n",
       "      <td>My card went missing and i didnt realize it un...</td>\n",
       "      <td>My card went missing and i didnt realize it un...</td>\n",
       "      <td>Bank Account services</td>\n",
       "    </tr>\n",
       "    <tr>\n",
       "      <th>43</th>\n",
       "      <td>chase sent me an email today with the innocuou...</td>\n",
       "      <td>Chase sent me an email today with the innocuou...</td>\n",
       "      <td>Chase sent me an email today with the innocuou...</td>\n",
       "      <td>Theft/Dispute Reporting</td>\n",
       "    </tr>\n",
       "    <tr>\n",
       "      <th>45</th>\n",
       "      <td>i made a purchase with xxxx xxxx xxxx on xxxx ...</td>\n",
       "      <td>I made a purchase with XXXX XXXX XXXX on XX/XX...</td>\n",
       "      <td>I made a purchase with          on  / /2019 in...</td>\n",
       "      <td>Bank Account services</td>\n",
       "    </tr>\n",
       "  </tbody>\n",
       "</table>\n",
       "</div>"
      ],
      "text/plain": [
       "                                           complaints  \\\n",
       "1   good morning my name is xxxx xxxx and i apprec...   \n",
       "2   i upgraded my xxxx xxxx card in xxxx and was t...   \n",
       "10  chase card was reported on xxxx however fraudu...   \n",
       "11  on xxxx while trying to book a xxxx  xxxx  tic...   \n",
       "14  my grand son give me check for  i deposit it i...   \n",
       "15                      can you please remove inquiry   \n",
       "17  with out notice jp morgan chase restricted my ...   \n",
       "20  during the summer months i experience a declin...   \n",
       "21  on xxxx xxxx i made a  payment to an online re...   \n",
       "23  i have a chase credit card which is incorrectl...   \n",
       "24  mishandling of this account by chase auto and ...   \n",
       "26  i have reached out to xxxx several times in at...   \n",
       "27  i opened an account with chase bank on xxxx an...   \n",
       "30  to whom it may concern chase bank charged wron...   \n",
       "32  my chase amazon card was declined for a cateri...   \n",
       "35  i opened the saving account for the  bonus i w...   \n",
       "40  xxxx xxxx a sofa love seat table and chairs an...   \n",
       "42  my card went missing and i didnt realize it un...   \n",
       "43  chase sent me an email today with the innocuou...   \n",
       "45  i made a purchase with xxxx xxxx xxxx on xxxx ...   \n",
       "\n",
       "                                      lemmatized_text  \\\n",
       "1   Good morning my name is XXXX XXXX and I apprec...   \n",
       "2   I upgraded my XXXX XXXX card in XX/XX/2018 and...   \n",
       "10  Chase Card wa reported on XX/XX/2019 However f...   \n",
       "11  On XX/XX/2018 while trying to book a XXXX XXXX...   \n",
       "14  my grand son give me check for { $ 1600.00 } i...   \n",
       "15                      Can you please remove inquiry   \n",
       "17  With out notice J.P. Morgan Chase restricted m...   \n",
       "20  During the summer month I experience a decline...   \n",
       "21  On XXXX XX/XX/2019 I made a { $ 300.00 } payme...   \n",
       "23  I have a Chase credit card which is incorrectl...   \n",
       "24  mishandling of this account by Chase auto and ...   \n",
       "26  I have reached out to XXXX several time in att...   \n",
       "27  I opened an account with chase bank on XXXX an...   \n",
       "30  To whom it may concern Chase bank charged wron...   \n",
       "32  My chase amazon card wa declined for a caterin...   \n",
       "35  I opened the saving account for the { $ 25.00 ...   \n",
       "40  XXXX XXXX a sofa love seat table and chair and...   \n",
       "42  My card went missing and i didnt realize it un...   \n",
       "43  Chase sent me an email today with the innocuou...   \n",
       "45  I made a purchase with XXXX XXXX XXXX on XX/XX...   \n",
       "\n",
       "                                      complaint_clean  \\\n",
       "1   Good morning my name is       and I appreciate...   \n",
       "2   I upgraded my       card in  / /2018 and wa to...   \n",
       "10  Chase Card wa reported on  / /2019 However fra...   \n",
       "11  On  / /2018 while trying to book a       ticke...   \n",
       "14  my grand son give me check for { $ 1600.00 } i...   \n",
       "15                      Can you please remove inquiry   \n",
       "17  With out notice J.P. Morgan Chase restricted m...   \n",
       "20  During the summer month I experience a decline...   \n",
       "21  On     / /2019 I made a { $ 300.00 } payment t...   \n",
       "23  I have a Chase credit card which is incorrectl...   \n",
       "24   mishandling of this account by Chase auto and      \n",
       "26  I have reached out to    several time in attem...   \n",
       "27  I opened an account with chase bank on    and ...   \n",
       "30  To whom it may concern Chase bank charged wron...   \n",
       "32  My chase amazon card wa declined for a caterin...   \n",
       "35  I opened the saving account for the { $ 25.00 ...   \n",
       "40        a sofa love seat table and chair and wa ...   \n",
       "42  My card went missing and i didnt realize it un...   \n",
       "43  Chase sent me an email today with the innocuou...   \n",
       "45  I made a purchase with          on  / /2019 in...   \n",
       "\n",
       "                          Topic  \n",
       "1       Theft/Dispute Reporting  \n",
       "2         Bank Account services  \n",
       "10                Mortgage/Loan  \n",
       "11        Bank Account services  \n",
       "14        Bank Account services  \n",
       "15                Mortgage/Loan  \n",
       "17        Bank Account services  \n",
       "20      Theft/Dispute Reporting  \n",
       "21        Bank Account services  \n",
       "23                Mortgage/Loan  \n",
       "24  Credit card or prepaid card  \n",
       "26        Bank Account services  \n",
       "27        Bank Account services  \n",
       "30        Bank Account services  \n",
       "32        Bank Account services  \n",
       "35        Bank Account services  \n",
       "40        Bank Account services  \n",
       "42        Bank Account services  \n",
       "43      Theft/Dispute Reporting  \n",
       "45        Bank Account services  "
      ]
     },
     "execution_count": 35,
     "metadata": {},
     "output_type": "execute_result"
    }
   ],
   "source": [
    "df_clean.head(20)"
   ]
  },
  {
   "cell_type": "code",
   "execution_count": 36,
   "id": "7e1fc383",
   "metadata": {},
   "outputs": [],
   "source": [
    "Topic_names = {\"Bank Account services\":0,\n",
    "               \"Credit card or prepaid card\":1,\n",
    "               \"Others\":2,\n",
    "               \"Theft/Dispute Reporting\":3,\n",
    "               \"Mortgage/Loan\":4\n",
    "               }\n",
    "# Replace Topics with Topic Names\n",
    "df_clean['Topic'] = df_clean['Topic'].map(Topic_names)"
   ]
  },
  {
   "cell_type": "code",
   "execution_count": 37,
   "id": "038486a7",
   "metadata": {},
   "outputs": [],
   "source": [
    "training_data = df_clean[[\"complaint_clean\",\"Topic\"]]"
   ]
  },
  {
   "cell_type": "code",
   "execution_count": 38,
   "id": "31a123b6",
   "metadata": {},
   "outputs": [
    {
     "data": {
      "text/html": [
       "<div>\n",
       "<style scoped>\n",
       "    .dataframe tbody tr th:only-of-type {\n",
       "        vertical-align: middle;\n",
       "    }\n",
       "\n",
       "    .dataframe tbody tr th {\n",
       "        vertical-align: top;\n",
       "    }\n",
       "\n",
       "    .dataframe thead th {\n",
       "        text-align: right;\n",
       "    }\n",
       "</style>\n",
       "<table border=\"1\" class=\"dataframe\">\n",
       "  <thead>\n",
       "    <tr style=\"text-align: right;\">\n",
       "      <th></th>\n",
       "      <th>complaint_clean</th>\n",
       "      <th>Topic</th>\n",
       "    </tr>\n",
       "  </thead>\n",
       "  <tbody>\n",
       "    <tr>\n",
       "      <th>1</th>\n",
       "      <td>Good morning my name is       and I appreciate...</td>\n",
       "      <td>3</td>\n",
       "    </tr>\n",
       "    <tr>\n",
       "      <th>2</th>\n",
       "      <td>I upgraded my       card in  / /2018 and wa to...</td>\n",
       "      <td>0</td>\n",
       "    </tr>\n",
       "    <tr>\n",
       "      <th>10</th>\n",
       "      <td>Chase Card wa reported on  / /2019 However fra...</td>\n",
       "      <td>4</td>\n",
       "    </tr>\n",
       "    <tr>\n",
       "      <th>11</th>\n",
       "      <td>On  / /2018 while trying to book a       ticke...</td>\n",
       "      <td>0</td>\n",
       "    </tr>\n",
       "    <tr>\n",
       "      <th>14</th>\n",
       "      <td>my grand son give me check for { $ 1600.00 } i...</td>\n",
       "      <td>0</td>\n",
       "    </tr>\n",
       "    <tr>\n",
       "      <th>...</th>\n",
       "      <td>...</td>\n",
       "      <td>...</td>\n",
       "    </tr>\n",
       "    <tr>\n",
       "      <th>78303</th>\n",
       "      <td>After being a Chase Card customer for well ove...</td>\n",
       "      <td>0</td>\n",
       "    </tr>\n",
       "    <tr>\n",
       "      <th>78309</th>\n",
       "      <td>On Wednesday  / /   I called Chas my       Vis...</td>\n",
       "      <td>0</td>\n",
       "    </tr>\n",
       "    <tr>\n",
       "      <th>78310</th>\n",
       "      <td>I am not familiar with    pay and did not unde...</td>\n",
       "      <td>0</td>\n",
       "    </tr>\n",
       "    <tr>\n",
       "      <th>78311</th>\n",
       "      <td>I have had flawless credit for 30 yr I 've had...</td>\n",
       "      <td>1</td>\n",
       "    </tr>\n",
       "    <tr>\n",
       "      <th>78312</th>\n",
       "      <td>Roughly 10+ year ago I closed out my account w...</td>\n",
       "      <td>1</td>\n",
       "    </tr>\n",
       "  </tbody>\n",
       "</table>\n",
       "<p>21072 rows × 2 columns</p>\n",
       "</div>"
      ],
      "text/plain": [
       "                                         complaint_clean  Topic\n",
       "1      Good morning my name is       and I appreciate...      3\n",
       "2      I upgraded my       card in  / /2018 and wa to...      0\n",
       "10     Chase Card wa reported on  / /2019 However fra...      4\n",
       "11     On  / /2018 while trying to book a       ticke...      0\n",
       "14     my grand son give me check for { $ 1600.00 } i...      0\n",
       "...                                                  ...    ...\n",
       "78303  After being a Chase Card customer for well ove...      0\n",
       "78309  On Wednesday  / /   I called Chas my       Vis...      0\n",
       "78310  I am not familiar with    pay and did not unde...      0\n",
       "78311  I have had flawless credit for 30 yr I 've had...      1\n",
       "78312  Roughly 10+ year ago I closed out my account w...      1\n",
       "\n",
       "[21072 rows x 2 columns]"
      ]
     },
     "execution_count": 38,
     "metadata": {},
     "output_type": "execute_result"
    }
   ],
   "source": [
    "training_data"
   ]
  },
  {
   "cell_type": "code",
   "execution_count": 39,
   "id": "724786ef",
   "metadata": {},
   "outputs": [],
   "source": [
    "# The Vector count\n",
    "\n",
    "count = CountVectorizer()\n",
    "X_train_counts = count.fit_transform(training_data.complaint_clean)\n",
    "\n",
    "# Transform the word vector to tf-idf\n",
    "\n",
    "tfidf_transformer = TfidfTransformer()\n",
    "X_train_tfidf = tfidf_transformer.fit_transform(X_train_counts)"
   ]
  },
  {
   "cell_type": "code",
   "execution_count": 40,
   "id": "0fdd958b",
   "metadata": {},
   "outputs": [],
   "source": [
    "# Performing Train-Test split\n",
    "from sklearn.model_selection import train_test_split\n",
    "\n",
    "X_train, X_test, y_train, y_test = train_test_split(X_train_tfidf, training_data.Topic, test_size=0.2, random_state=42)"
   ]
  },
  {
   "cell_type": "code",
   "execution_count": 41,
   "id": "eb2de7a6",
   "metadata": {},
   "outputs": [
    {
     "data": {
      "text/plain": [
       "(16857, 27539)"
      ]
     },
     "execution_count": 41,
     "metadata": {},
     "output_type": "execute_result"
    }
   ],
   "source": [
    "X_train.shape"
   ]
  },
  {
   "cell_type": "code",
   "execution_count": 42,
   "id": "20e0cdfd",
   "metadata": {},
   "outputs": [
    {
     "data": {
      "text/plain": [
       "(4215, 27539)"
      ]
     },
     "execution_count": 42,
     "metadata": {},
     "output_type": "execute_result"
    }
   ],
   "source": [
    "X_test.shape"
   ]
  },
  {
   "cell_type": "code",
   "execution_count": 43,
   "id": "4cc84695",
   "metadata": {},
   "outputs": [],
   "source": [
    "# Running the Logistic Regression model\n",
    "\n",
    "from sklearn.linear_model import LogisticRegression\n",
    "from sklearn.metrics import classification_report, confusion_matrix,accuracy_score\n",
    "\n",
    "lr = LogisticRegression()\n",
    "\n",
    "lr.fit(X_train, y_train)\n",
    "y_pred = lr.predict(X_test)"
   ]
  },
  {
   "cell_type": "code",
   "execution_count": 44,
   "id": "f6e4328e",
   "metadata": {},
   "outputs": [
    {
     "name": "stdout",
     "output_type": "stream",
     "text": [
      "0.9148279952550415\n"
     ]
    }
   ],
   "source": [
    "print(accuracy_score(y_test,y_pred))"
   ]
  },
  {
   "cell_type": "code",
   "execution_count": 45,
   "id": "74fa69ce",
   "metadata": {},
   "outputs": [
    {
     "name": "stdout",
     "output_type": "stream",
     "text": [
      "              precision    recall  f1-score   support\n",
      "\n",
      "           0       0.93      0.97      0.95      2558\n",
      "           1       0.85      0.78      0.81       604\n",
      "           2       1.00      0.57      0.73         7\n",
      "           3       0.92      0.89      0.90       931\n",
      "           4       0.83      0.74      0.78       115\n",
      "\n",
      "    accuracy                           0.91      4215\n",
      "   macro avg       0.91      0.79      0.83      4215\n",
      "weighted avg       0.91      0.91      0.91      4215\n",
      "\n"
     ]
    }
   ],
   "source": [
    "print(classification_report(y_test,y_pred))"
   ]
  },
  {
   "cell_type": "code",
   "execution_count": 46,
   "id": "c69469c6",
   "metadata": {},
   "outputs": [
    {
     "name": "stdout",
     "output_type": "stream",
     "text": [
      "[[2471   44    0   41    2]\n",
      " [  97  472    0   26    9]\n",
      " [   1    1    4    1    0]\n",
      " [  77   24    0  824    6]\n",
      " [  10   15    0    5   85]]\n"
     ]
    }
   ],
   "source": [
    "print(confusion_matrix(y_test,y_pred))"
   ]
  },
  {
   "cell_type": "code",
   "execution_count": 60,
   "id": "0ed32b6a",
   "metadata": {},
   "outputs": [],
   "source": [
    "# Running the Decision Tree\n",
    "\n",
    "from sklearn.tree import DecisionTreeClassifier\n",
    "\n",
    "classifier = DecisionTreeClassifier(criterion ='entropy',random_state=42)\n",
    "classifier.fit(X_train,y_train)\n",
    "\n",
    "y_pred = classifier.predict(X_test)"
   ]
  },
  {
   "cell_type": "code",
   "execution_count": 61,
   "id": "24686f80",
   "metadata": {},
   "outputs": [
    {
     "name": "stdout",
     "output_type": "stream",
     "text": [
      "0.7497034400948992\n"
     ]
    }
   ],
   "source": [
    "print(accuracy_score(y_test,y_pred))"
   ]
  },
  {
   "cell_type": "code",
   "execution_count": 49,
   "id": "98e35279",
   "metadata": {},
   "outputs": [
    {
     "name": "stdout",
     "output_type": "stream",
     "text": [
      "              precision    recall  f1-score   support\n",
      "\n",
      "           0       0.84      0.84      0.84      2558\n",
      "           1       0.51      0.52      0.51       604\n",
      "           2       0.62      0.71      0.67         7\n",
      "           3       0.68      0.66      0.67       931\n",
      "           4       0.53      0.53      0.53       115\n",
      "\n",
      "    accuracy                           0.75      4215\n",
      "   macro avg       0.64      0.65      0.64      4215\n",
      "weighted avg       0.75      0.75      0.75      4215\n",
      "\n"
     ]
    }
   ],
   "source": [
    "print(classification_report(y_test,y_pred))"
   ]
  },
  {
   "cell_type": "code",
   "execution_count": 50,
   "id": "217390f1",
   "metadata": {},
   "outputs": [
    {
     "name": "stdout",
     "output_type": "stream",
     "text": [
      "[[2158  180    2  196   22]\n",
      " [ 193  312    0   77   22]\n",
      " [   0    0    5    1    1]\n",
      " [ 211   95    1  615    9]\n",
      " [  20   25    0    9   61]]\n"
     ]
    }
   ],
   "source": [
    "print(confusion_matrix(y_test,y_pred))"
   ]
  },
  {
   "cell_type": "code",
   "execution_count": 51,
   "id": "8af0113b",
   "metadata": {},
   "outputs": [],
   "source": [
    "# Random forest \n",
    "\n",
    "from sklearn.ensemble import RandomForestClassifier\n",
    "classifier = RandomForestClassifier(n_estimators=50,random_state=42)\n",
    "classifier.fit(X_train,y_train)\n",
    "\n",
    "y_pred = classifier.predict(X_test)"
   ]
  },
  {
   "cell_type": "code",
   "execution_count": 52,
   "id": "2cc18b31",
   "metadata": {},
   "outputs": [
    {
     "name": "stdout",
     "output_type": "stream",
     "text": [
      "0.8227758007117437\n"
     ]
    }
   ],
   "source": [
    "print(accuracy_score(y_test,y_pred))"
   ]
  },
  {
   "cell_type": "code",
   "execution_count": 53,
   "id": "dd8f7be9",
   "metadata": {},
   "outputs": [
    {
     "name": "stdout",
     "output_type": "stream",
     "text": [
      "              precision    recall  f1-score   support\n",
      "\n",
      "           0       0.79      0.99      0.88      2558\n",
      "           1       0.87      0.41      0.56       604\n",
      "           2       1.00      0.71      0.83         7\n",
      "           3       0.94      0.66      0.77       931\n",
      "           4       0.86      0.61      0.71       115\n",
      "\n",
      "    accuracy                           0.82      4215\n",
      "   macro avg       0.89      0.68      0.75      4215\n",
      "weighted avg       0.84      0.82      0.81      4215\n",
      "\n"
     ]
    }
   ],
   "source": [
    "print(classification_report(y_test,y_pred))"
   ]
  },
  {
   "cell_type": "code",
   "execution_count": 54,
   "id": "95acde79",
   "metadata": {},
   "outputs": [
    {
     "name": "stdout",
     "output_type": "stream",
     "text": [
      "[[2533   10    0   11    4]\n",
      " [ 323  250    0   25    6]\n",
      " [   1    1    5    0    0]\n",
      " [ 302   18    0  610    1]\n",
      " [  36    7    0    2   70]]\n"
     ]
    }
   ],
   "source": [
    "print(confusion_matrix(y_test,y_pred))"
   ]
  },
  {
   "cell_type": "code",
   "execution_count": 55,
   "id": "a55d2537",
   "metadata": {},
   "outputs": [],
   "source": [
    "# Function to predict a topic for given text\n",
    "\n",
    "def predict_topic(text):\n",
    "    \n",
    "    target_names = [\"Bank Account services\", \"Credit card or prepaid card\", \"Others\", \"Theft/Dispute Reporting\", \"Mortgage/Loan\"]\n",
    "\n",
    "    new_counts = count.transform(text)\n",
    "    X_new_tfidf = tfidf_transformer.transform(new_counts)\n",
    "    predicted = lr.predict(X_new_tfidf)\n",
    "\n",
    "    return target_names[predicted[0]]"
   ]
  },
  {
   "cell_type": "code",
   "execution_count": 58,
   "id": "0b5010a5",
   "metadata": {},
   "outputs": [
    {
     "data": {
      "text/html": [
       "<div>\n",
       "<style scoped>\n",
       "    .dataframe tbody tr th:only-of-type {\n",
       "        vertical-align: middle;\n",
       "    }\n",
       "\n",
       "    .dataframe tbody tr th {\n",
       "        vertical-align: top;\n",
       "    }\n",
       "\n",
       "    .dataframe thead th {\n",
       "        text-align: right;\n",
       "    }\n",
       "</style>\n",
       "<table border=\"1\" class=\"dataframe\">\n",
       "  <thead>\n",
       "    <tr style=\"text-align: right;\">\n",
       "      <th></th>\n",
       "      <th>complaints</th>\n",
       "    </tr>\n",
       "  </thead>\n",
       "  <tbody>\n",
       "    <tr>\n",
       "      <th>0</th>\n",
       "      <td>I can not get from chase who services my mortg...</td>\n",
       "    </tr>\n",
       "    <tr>\n",
       "      <th>1</th>\n",
       "      <td>The bill amount of my credit card was debited ...</td>\n",
       "    </tr>\n",
       "    <tr>\n",
       "      <th>2</th>\n",
       "      <td>I want to open a salary account at your downto...</td>\n",
       "    </tr>\n",
       "    <tr>\n",
       "      <th>3</th>\n",
       "      <td>I need to know the number of bank branches and...</td>\n",
       "    </tr>\n",
       "  </tbody>\n",
       "</table>\n",
       "</div>"
      ],
      "text/plain": [
       "                                          complaints\n",
       "0  I can not get from chase who services my mortg...\n",
       "1  The bill amount of my credit card was debited ...\n",
       "2  I want to open a salary account at your downto...\n",
       "3  I need to know the number of bank branches and..."
      ]
     },
     "execution_count": 58,
     "metadata": {},
     "output_type": "execute_result"
    }
   ],
   "source": [
    "# Create a dataframe of some sample customer complaints\n",
    "df_new = pd.DataFrame({'complaints': [\"I can not get from chase who services my mortgage, who owns it and who has original loan docs\", \n",
    "                                  \"The bill amount of my credit card was debited twice.\",\n",
    "                                  \"I want to open a salary account at your downtown branch. Please provide me the procedure.\",\n",
    "                                  \"I need to know the number of bank branches and their locations in the city of Delhi\"]})\n",
    "df_new"
   ]
  },
  {
   "cell_type": "code",
   "execution_count": 59,
   "id": "4c1e3b24",
   "metadata": {},
   "outputs": [
    {
     "data": {
      "text/html": [
       "<div>\n",
       "<style scoped>\n",
       "    .dataframe tbody tr th:only-of-type {\n",
       "        vertical-align: middle;\n",
       "    }\n",
       "\n",
       "    .dataframe tbody tr th {\n",
       "        vertical-align: top;\n",
       "    }\n",
       "\n",
       "    .dataframe thead th {\n",
       "        text-align: right;\n",
       "    }\n",
       "</style>\n",
       "<table border=\"1\" class=\"dataframe\">\n",
       "  <thead>\n",
       "    <tr style=\"text-align: right;\">\n",
       "      <th></th>\n",
       "      <th>complaints</th>\n",
       "      <th>predicted topic</th>\n",
       "    </tr>\n",
       "  </thead>\n",
       "  <tbody>\n",
       "    <tr>\n",
       "      <th>0</th>\n",
       "      <td>I can not get from chase who services my mortg...</td>\n",
       "      <td>Theft/Dispute Reporting</td>\n",
       "    </tr>\n",
       "    <tr>\n",
       "      <th>1</th>\n",
       "      <td>The bill amount of my credit card was debited ...</td>\n",
       "      <td>Credit card or prepaid card</td>\n",
       "    </tr>\n",
       "    <tr>\n",
       "      <th>2</th>\n",
       "      <td>I want to open a salary account at your downto...</td>\n",
       "      <td>Bank Account services</td>\n",
       "    </tr>\n",
       "    <tr>\n",
       "      <th>3</th>\n",
       "      <td>I need to know the number of bank branches and...</td>\n",
       "      <td>Bank Account services</td>\n",
       "    </tr>\n",
       "  </tbody>\n",
       "</table>\n",
       "</div>"
      ],
      "text/plain": [
       "                                          complaints  \\\n",
       "0  I can not get from chase who services my mortg...   \n",
       "1  The bill amount of my credit card was debited ...   \n",
       "2  I want to open a salary account at your downto...   \n",
       "3  I need to know the number of bank branches and...   \n",
       "\n",
       "               predicted topic  \n",
       "0      Theft/Dispute Reporting  \n",
       "1  Credit card or prepaid card  \n",
       "2        Bank Account services  \n",
       "3        Bank Account services  "
      ]
     },
     "execution_count": 59,
     "metadata": {},
     "output_type": "execute_result"
    }
   ],
   "source": [
    "# Create a new column of predicted topics of each complaint, predicted using the tuned Logistic Regression model\n",
    "\n",
    "df_new['predicted topic'] = df_new['complaints'].apply(lambda x: predict_topic([x]))\n",
    "df_new"
   ]
  },
  {
   "cell_type": "code",
   "execution_count": null,
   "id": "ae0f2747",
   "metadata": {},
   "outputs": [],
   "source": []
  }
 ],
 "metadata": {
  "kernelspec": {
   "display_name": "Python 3 (ipykernel)",
   "language": "python",
   "name": "python3"
  },
  "language_info": {
   "codemirror_mode": {
    "name": "ipython",
    "version": 3
   },
   "file_extension": ".py",
   "mimetype": "text/x-python",
   "name": "python",
   "nbconvert_exporter": "python",
   "pygments_lexer": "ipython3",
   "version": "3.9.12"
  }
 },
 "nbformat": 4,
 "nbformat_minor": 5
}
