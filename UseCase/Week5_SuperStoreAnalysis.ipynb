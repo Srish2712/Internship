{
 "cells": [
  {
   "cell_type": "code",
   "execution_count": 1,
   "id": "69f7e114",
   "metadata": {},
   "outputs": [],
   "source": [
    "# Importing the libraries\n",
    "\n",
    "import numpy as np\n",
    "import pandas as pd\n",
    "import csv\n",
    "import matplotlib.pyplot as plt\n",
    "import seaborn as sns\n",
    "%matplotlib inline\n",
    "\n",
    "import warnings\n",
    "warnings.filterwarnings('ignore')"
   ]
  },
  {
   "cell_type": "code",
   "execution_count": 2,
   "id": "4bcf201e",
   "metadata": {},
   "outputs": [],
   "source": [
    "# Read file\n",
    "\n",
    "data = pd.read_csv('C:/Users/RW565TZ/Week5/Superstore.csv',encoding_errors= 'replace')"
   ]
  },
  {
   "cell_type": "code",
   "execution_count": 3,
   "id": "5df1c189",
   "metadata": {},
   "outputs": [
    {
     "data": {
      "text/plain": [
       "(9994, 21)"
      ]
     },
     "execution_count": 3,
     "metadata": {},
     "output_type": "execute_result"
    }
   ],
   "source": [
    "data.shape"
   ]
  },
  {
   "cell_type": "code",
   "execution_count": 4,
   "id": "bb6aaf42",
   "metadata": {},
   "outputs": [
    {
     "data": {
      "text/html": [
       "<div>\n",
       "<style scoped>\n",
       "    .dataframe tbody tr th:only-of-type {\n",
       "        vertical-align: middle;\n",
       "    }\n",
       "\n",
       "    .dataframe tbody tr th {\n",
       "        vertical-align: top;\n",
       "    }\n",
       "\n",
       "    .dataframe thead th {\n",
       "        text-align: right;\n",
       "    }\n",
       "</style>\n",
       "<table border=\"1\" class=\"dataframe\">\n",
       "  <thead>\n",
       "    <tr style=\"text-align: right;\">\n",
       "      <th></th>\n",
       "      <th>Row ID</th>\n",
       "      <th>Order ID</th>\n",
       "      <th>Order Date</th>\n",
       "      <th>Ship Date</th>\n",
       "      <th>Ship Mode</th>\n",
       "      <th>Customer ID</th>\n",
       "      <th>Customer Name</th>\n",
       "      <th>Segment</th>\n",
       "      <th>Country</th>\n",
       "      <th>City</th>\n",
       "      <th>...</th>\n",
       "      <th>Postal Code</th>\n",
       "      <th>Region</th>\n",
       "      <th>Product ID</th>\n",
       "      <th>Category</th>\n",
       "      <th>Sub-Category</th>\n",
       "      <th>Product Name</th>\n",
       "      <th>Sales</th>\n",
       "      <th>Quantity</th>\n",
       "      <th>Discount</th>\n",
       "      <th>Profit</th>\n",
       "    </tr>\n",
       "  </thead>\n",
       "  <tbody>\n",
       "    <tr>\n",
       "      <th>0</th>\n",
       "      <td>1</td>\n",
       "      <td>CA-2016-152156</td>\n",
       "      <td>11/8/2016</td>\n",
       "      <td>11/11/2016</td>\n",
       "      <td>Second Class</td>\n",
       "      <td>CG-12520</td>\n",
       "      <td>Claire Gute</td>\n",
       "      <td>Consumer</td>\n",
       "      <td>United States</td>\n",
       "      <td>Henderson</td>\n",
       "      <td>...</td>\n",
       "      <td>42420</td>\n",
       "      <td>South</td>\n",
       "      <td>FUR-BO-10001798</td>\n",
       "      <td>Furniture</td>\n",
       "      <td>Bookcases</td>\n",
       "      <td>Bush Somerset Collection Bookcase</td>\n",
       "      <td>261.9600</td>\n",
       "      <td>2</td>\n",
       "      <td>0.00</td>\n",
       "      <td>41.9136</td>\n",
       "    </tr>\n",
       "    <tr>\n",
       "      <th>1</th>\n",
       "      <td>2</td>\n",
       "      <td>CA-2016-152156</td>\n",
       "      <td>11/8/2016</td>\n",
       "      <td>11/11/2016</td>\n",
       "      <td>Second Class</td>\n",
       "      <td>CG-12520</td>\n",
       "      <td>Claire Gute</td>\n",
       "      <td>Consumer</td>\n",
       "      <td>United States</td>\n",
       "      <td>Henderson</td>\n",
       "      <td>...</td>\n",
       "      <td>42420</td>\n",
       "      <td>South</td>\n",
       "      <td>FUR-CH-10000454</td>\n",
       "      <td>Furniture</td>\n",
       "      <td>Chairs</td>\n",
       "      <td>Hon Deluxe Fabric Upholstered Stacking Chairs,...</td>\n",
       "      <td>731.9400</td>\n",
       "      <td>3</td>\n",
       "      <td>0.00</td>\n",
       "      <td>219.5820</td>\n",
       "    </tr>\n",
       "    <tr>\n",
       "      <th>2</th>\n",
       "      <td>3</td>\n",
       "      <td>CA-2016-138688</td>\n",
       "      <td>6/12/2016</td>\n",
       "      <td>6/16/2016</td>\n",
       "      <td>Second Class</td>\n",
       "      <td>DV-13045</td>\n",
       "      <td>Darrin Van Huff</td>\n",
       "      <td>Corporate</td>\n",
       "      <td>United States</td>\n",
       "      <td>Los Angeles</td>\n",
       "      <td>...</td>\n",
       "      <td>90036</td>\n",
       "      <td>West</td>\n",
       "      <td>OFF-LA-10000240</td>\n",
       "      <td>Office Supplies</td>\n",
       "      <td>Labels</td>\n",
       "      <td>Self-Adhesive Address Labels for Typewriters b...</td>\n",
       "      <td>14.6200</td>\n",
       "      <td>2</td>\n",
       "      <td>0.00</td>\n",
       "      <td>6.8714</td>\n",
       "    </tr>\n",
       "    <tr>\n",
       "      <th>3</th>\n",
       "      <td>4</td>\n",
       "      <td>US-2015-108966</td>\n",
       "      <td>10/11/2015</td>\n",
       "      <td>10/18/2015</td>\n",
       "      <td>Standard Class</td>\n",
       "      <td>SO-20335</td>\n",
       "      <td>Sean O'Donnell</td>\n",
       "      <td>Consumer</td>\n",
       "      <td>United States</td>\n",
       "      <td>Fort Lauderdale</td>\n",
       "      <td>...</td>\n",
       "      <td>33311</td>\n",
       "      <td>South</td>\n",
       "      <td>FUR-TA-10000577</td>\n",
       "      <td>Furniture</td>\n",
       "      <td>Tables</td>\n",
       "      <td>Bretford CR4500 Series Slim Rectangular Table</td>\n",
       "      <td>957.5775</td>\n",
       "      <td>5</td>\n",
       "      <td>0.45</td>\n",
       "      <td>-383.0310</td>\n",
       "    </tr>\n",
       "    <tr>\n",
       "      <th>4</th>\n",
       "      <td>5</td>\n",
       "      <td>US-2015-108966</td>\n",
       "      <td>10/11/2015</td>\n",
       "      <td>10/18/2015</td>\n",
       "      <td>Standard Class</td>\n",
       "      <td>SO-20335</td>\n",
       "      <td>Sean O'Donnell</td>\n",
       "      <td>Consumer</td>\n",
       "      <td>United States</td>\n",
       "      <td>Fort Lauderdale</td>\n",
       "      <td>...</td>\n",
       "      <td>33311</td>\n",
       "      <td>South</td>\n",
       "      <td>OFF-ST-10000760</td>\n",
       "      <td>Office Supplies</td>\n",
       "      <td>Storage</td>\n",
       "      <td>Eldon Fold 'N Roll Cart System</td>\n",
       "      <td>22.3680</td>\n",
       "      <td>2</td>\n",
       "      <td>0.20</td>\n",
       "      <td>2.5164</td>\n",
       "    </tr>\n",
       "  </tbody>\n",
       "</table>\n",
       "<p>5 rows × 21 columns</p>\n",
       "</div>"
      ],
      "text/plain": [
       "   Row ID        Order ID  Order Date   Ship Date       Ship Mode Customer ID  \\\n",
       "0       1  CA-2016-152156   11/8/2016  11/11/2016    Second Class    CG-12520   \n",
       "1       2  CA-2016-152156   11/8/2016  11/11/2016    Second Class    CG-12520   \n",
       "2       3  CA-2016-138688   6/12/2016   6/16/2016    Second Class    DV-13045   \n",
       "3       4  US-2015-108966  10/11/2015  10/18/2015  Standard Class    SO-20335   \n",
       "4       5  US-2015-108966  10/11/2015  10/18/2015  Standard Class    SO-20335   \n",
       "\n",
       "     Customer Name    Segment        Country             City  ...  \\\n",
       "0      Claire Gute   Consumer  United States        Henderson  ...   \n",
       "1      Claire Gute   Consumer  United States        Henderson  ...   \n",
       "2  Darrin Van Huff  Corporate  United States      Los Angeles  ...   \n",
       "3   Sean O'Donnell   Consumer  United States  Fort Lauderdale  ...   \n",
       "4   Sean O'Donnell   Consumer  United States  Fort Lauderdale  ...   \n",
       "\n",
       "  Postal Code  Region       Product ID         Category Sub-Category  \\\n",
       "0       42420   South  FUR-BO-10001798        Furniture    Bookcases   \n",
       "1       42420   South  FUR-CH-10000454        Furniture       Chairs   \n",
       "2       90036    West  OFF-LA-10000240  Office Supplies       Labels   \n",
       "3       33311   South  FUR-TA-10000577        Furniture       Tables   \n",
       "4       33311   South  OFF-ST-10000760  Office Supplies      Storage   \n",
       "\n",
       "                                        Product Name     Sales  Quantity  \\\n",
       "0                  Bush Somerset Collection Bookcase  261.9600         2   \n",
       "1  Hon Deluxe Fabric Upholstered Stacking Chairs,...  731.9400         3   \n",
       "2  Self-Adhesive Address Labels for Typewriters b...   14.6200         2   \n",
       "3      Bretford CR4500 Series Slim Rectangular Table  957.5775         5   \n",
       "4                     Eldon Fold 'N Roll Cart System   22.3680         2   \n",
       "\n",
       "   Discount    Profit  \n",
       "0      0.00   41.9136  \n",
       "1      0.00  219.5820  \n",
       "2      0.00    6.8714  \n",
       "3      0.45 -383.0310  \n",
       "4      0.20    2.5164  \n",
       "\n",
       "[5 rows x 21 columns]"
      ]
     },
     "execution_count": 4,
     "metadata": {},
     "output_type": "execute_result"
    }
   ],
   "source": [
    "data.head(5)"
   ]
  },
  {
   "cell_type": "code",
   "execution_count": 5,
   "id": "0af263fa",
   "metadata": {},
   "outputs": [
    {
     "name": "stdout",
     "output_type": "stream",
     "text": [
      "<class 'pandas.core.frame.DataFrame'>\n",
      "RangeIndex: 9994 entries, 0 to 9993\n",
      "Data columns (total 21 columns):\n",
      " #   Column         Non-Null Count  Dtype  \n",
      "---  ------         --------------  -----  \n",
      " 0   Row ID         9994 non-null   int64  \n",
      " 1   Order ID       9994 non-null   object \n",
      " 2   Order Date     9994 non-null   object \n",
      " 3   Ship Date      9994 non-null   object \n",
      " 4   Ship Mode      9994 non-null   object \n",
      " 5   Customer ID    9994 non-null   object \n",
      " 6   Customer Name  9994 non-null   object \n",
      " 7   Segment        9994 non-null   object \n",
      " 8   Country        9994 non-null   object \n",
      " 9   City           9994 non-null   object \n",
      " 10  State          9994 non-null   object \n",
      " 11  Postal Code    9994 non-null   int64  \n",
      " 12  Region         9994 non-null   object \n",
      " 13  Product ID     9994 non-null   object \n",
      " 14  Category       9994 non-null   object \n",
      " 15  Sub-Category   9994 non-null   object \n",
      " 16  Product Name   9994 non-null   object \n",
      " 17  Sales          9994 non-null   float64\n",
      " 18  Quantity       9994 non-null   int64  \n",
      " 19  Discount       9994 non-null   float64\n",
      " 20  Profit         9994 non-null   float64\n",
      "dtypes: float64(3), int64(3), object(15)\n",
      "memory usage: 1.6+ MB\n"
     ]
    }
   ],
   "source": [
    "data.info()"
   ]
  },
  {
   "cell_type": "code",
   "execution_count": 6,
   "id": "8c20b925",
   "metadata": {},
   "outputs": [
    {
     "data": {
      "text/html": [
       "<div>\n",
       "<style scoped>\n",
       "    .dataframe tbody tr th:only-of-type {\n",
       "        vertical-align: middle;\n",
       "    }\n",
       "\n",
       "    .dataframe tbody tr th {\n",
       "        vertical-align: top;\n",
       "    }\n",
       "\n",
       "    .dataframe thead th {\n",
       "        text-align: right;\n",
       "    }\n",
       "</style>\n",
       "<table border=\"1\" class=\"dataframe\">\n",
       "  <thead>\n",
       "    <tr style=\"text-align: right;\">\n",
       "      <th></th>\n",
       "      <th>Row ID</th>\n",
       "      <th>Postal Code</th>\n",
       "      <th>Sales</th>\n",
       "      <th>Quantity</th>\n",
       "      <th>Discount</th>\n",
       "      <th>Profit</th>\n",
       "    </tr>\n",
       "  </thead>\n",
       "  <tbody>\n",
       "    <tr>\n",
       "      <th>count</th>\n",
       "      <td>9994.000000</td>\n",
       "      <td>9994.000000</td>\n",
       "      <td>9994.000000</td>\n",
       "      <td>9994.000000</td>\n",
       "      <td>9994.000000</td>\n",
       "      <td>9994.000000</td>\n",
       "    </tr>\n",
       "    <tr>\n",
       "      <th>mean</th>\n",
       "      <td>4997.500000</td>\n",
       "      <td>55190.379428</td>\n",
       "      <td>229.858001</td>\n",
       "      <td>3.789574</td>\n",
       "      <td>0.156203</td>\n",
       "      <td>28.656896</td>\n",
       "    </tr>\n",
       "    <tr>\n",
       "      <th>std</th>\n",
       "      <td>2885.163629</td>\n",
       "      <td>32063.693350</td>\n",
       "      <td>623.245101</td>\n",
       "      <td>2.225110</td>\n",
       "      <td>0.206452</td>\n",
       "      <td>234.260108</td>\n",
       "    </tr>\n",
       "    <tr>\n",
       "      <th>min</th>\n",
       "      <td>1.000000</td>\n",
       "      <td>1040.000000</td>\n",
       "      <td>0.444000</td>\n",
       "      <td>1.000000</td>\n",
       "      <td>0.000000</td>\n",
       "      <td>-6599.978000</td>\n",
       "    </tr>\n",
       "    <tr>\n",
       "      <th>25%</th>\n",
       "      <td>2499.250000</td>\n",
       "      <td>23223.000000</td>\n",
       "      <td>17.280000</td>\n",
       "      <td>2.000000</td>\n",
       "      <td>0.000000</td>\n",
       "      <td>1.728750</td>\n",
       "    </tr>\n",
       "    <tr>\n",
       "      <th>50%</th>\n",
       "      <td>4997.500000</td>\n",
       "      <td>56430.500000</td>\n",
       "      <td>54.490000</td>\n",
       "      <td>3.000000</td>\n",
       "      <td>0.200000</td>\n",
       "      <td>8.666500</td>\n",
       "    </tr>\n",
       "    <tr>\n",
       "      <th>75%</th>\n",
       "      <td>7495.750000</td>\n",
       "      <td>90008.000000</td>\n",
       "      <td>209.940000</td>\n",
       "      <td>5.000000</td>\n",
       "      <td>0.200000</td>\n",
       "      <td>29.364000</td>\n",
       "    </tr>\n",
       "    <tr>\n",
       "      <th>max</th>\n",
       "      <td>9994.000000</td>\n",
       "      <td>99301.000000</td>\n",
       "      <td>22638.480000</td>\n",
       "      <td>14.000000</td>\n",
       "      <td>0.800000</td>\n",
       "      <td>8399.976000</td>\n",
       "    </tr>\n",
       "  </tbody>\n",
       "</table>\n",
       "</div>"
      ],
      "text/plain": [
       "            Row ID   Postal Code         Sales     Quantity     Discount  \\\n",
       "count  9994.000000   9994.000000   9994.000000  9994.000000  9994.000000   \n",
       "mean   4997.500000  55190.379428    229.858001     3.789574     0.156203   \n",
       "std    2885.163629  32063.693350    623.245101     2.225110     0.206452   \n",
       "min       1.000000   1040.000000      0.444000     1.000000     0.000000   \n",
       "25%    2499.250000  23223.000000     17.280000     2.000000     0.000000   \n",
       "50%    4997.500000  56430.500000     54.490000     3.000000     0.200000   \n",
       "75%    7495.750000  90008.000000    209.940000     5.000000     0.200000   \n",
       "max    9994.000000  99301.000000  22638.480000    14.000000     0.800000   \n",
       "\n",
       "            Profit  \n",
       "count  9994.000000  \n",
       "mean     28.656896  \n",
       "std     234.260108  \n",
       "min   -6599.978000  \n",
       "25%       1.728750  \n",
       "50%       8.666500  \n",
       "75%      29.364000  \n",
       "max    8399.976000  "
      ]
     },
     "execution_count": 6,
     "metadata": {},
     "output_type": "execute_result"
    }
   ],
   "source": [
    "data.describe()"
   ]
  },
  {
   "cell_type": "code",
   "execution_count": 7,
   "id": "7d12d89d",
   "metadata": {},
   "outputs": [
    {
     "data": {
      "text/plain": [
       "Row ID           0\n",
       "Order ID         0\n",
       "Order Date       0\n",
       "Ship Date        0\n",
       "Ship Mode        0\n",
       "Customer ID      0\n",
       "Customer Name    0\n",
       "Segment          0\n",
       "Country          0\n",
       "City             0\n",
       "State            0\n",
       "Postal Code      0\n",
       "Region           0\n",
       "Product ID       0\n",
       "Category         0\n",
       "Sub-Category     0\n",
       "Product Name     0\n",
       "Sales            0\n",
       "Quantity         0\n",
       "Discount         0\n",
       "Profit           0\n",
       "dtype: int64"
      ]
     },
     "execution_count": 7,
     "metadata": {},
     "output_type": "execute_result"
    }
   ],
   "source": [
    "data.isnull().sum()"
   ]
  },
  {
   "cell_type": "code",
   "execution_count": 8,
   "id": "4e3ec3bb",
   "metadata": {},
   "outputs": [
    {
     "data": {
      "text/html": [
       "<div>\n",
       "<style scoped>\n",
       "    .dataframe tbody tr th:only-of-type {\n",
       "        vertical-align: middle;\n",
       "    }\n",
       "\n",
       "    .dataframe tbody tr th {\n",
       "        vertical-align: top;\n",
       "    }\n",
       "\n",
       "    .dataframe thead th {\n",
       "        text-align: right;\n",
       "    }\n",
       "</style>\n",
       "<table border=\"1\" class=\"dataframe\">\n",
       "  <thead>\n",
       "    <tr style=\"text-align: right;\">\n",
       "      <th></th>\n",
       "      <th>Row ID</th>\n",
       "      <th>Postal Code</th>\n",
       "      <th>Sales</th>\n",
       "      <th>Quantity</th>\n",
       "      <th>Discount</th>\n",
       "      <th>Profit</th>\n",
       "    </tr>\n",
       "  </thead>\n",
       "  <tbody>\n",
       "    <tr>\n",
       "      <th>Row ID</th>\n",
       "      <td>1.000000</td>\n",
       "      <td>0.009671</td>\n",
       "      <td>-0.001359</td>\n",
       "      <td>-0.004016</td>\n",
       "      <td>0.013480</td>\n",
       "      <td>0.012497</td>\n",
       "    </tr>\n",
       "    <tr>\n",
       "      <th>Postal Code</th>\n",
       "      <td>0.009671</td>\n",
       "      <td>1.000000</td>\n",
       "      <td>-0.023854</td>\n",
       "      <td>0.012761</td>\n",
       "      <td>0.058443</td>\n",
       "      <td>-0.029961</td>\n",
       "    </tr>\n",
       "    <tr>\n",
       "      <th>Sales</th>\n",
       "      <td>-0.001359</td>\n",
       "      <td>-0.023854</td>\n",
       "      <td>1.000000</td>\n",
       "      <td>0.200795</td>\n",
       "      <td>-0.028190</td>\n",
       "      <td>0.479064</td>\n",
       "    </tr>\n",
       "    <tr>\n",
       "      <th>Quantity</th>\n",
       "      <td>-0.004016</td>\n",
       "      <td>0.012761</td>\n",
       "      <td>0.200795</td>\n",
       "      <td>1.000000</td>\n",
       "      <td>0.008623</td>\n",
       "      <td>0.066253</td>\n",
       "    </tr>\n",
       "    <tr>\n",
       "      <th>Discount</th>\n",
       "      <td>0.013480</td>\n",
       "      <td>0.058443</td>\n",
       "      <td>-0.028190</td>\n",
       "      <td>0.008623</td>\n",
       "      <td>1.000000</td>\n",
       "      <td>-0.219487</td>\n",
       "    </tr>\n",
       "    <tr>\n",
       "      <th>Profit</th>\n",
       "      <td>0.012497</td>\n",
       "      <td>-0.029961</td>\n",
       "      <td>0.479064</td>\n",
       "      <td>0.066253</td>\n",
       "      <td>-0.219487</td>\n",
       "      <td>1.000000</td>\n",
       "    </tr>\n",
       "  </tbody>\n",
       "</table>\n",
       "</div>"
      ],
      "text/plain": [
       "               Row ID  Postal Code     Sales  Quantity  Discount    Profit\n",
       "Row ID       1.000000     0.009671 -0.001359 -0.004016  0.013480  0.012497\n",
       "Postal Code  0.009671     1.000000 -0.023854  0.012761  0.058443 -0.029961\n",
       "Sales       -0.001359    -0.023854  1.000000  0.200795 -0.028190  0.479064\n",
       "Quantity    -0.004016     0.012761  0.200795  1.000000  0.008623  0.066253\n",
       "Discount     0.013480     0.058443 -0.028190  0.008623  1.000000 -0.219487\n",
       "Profit       0.012497    -0.029961  0.479064  0.066253 -0.219487  1.000000"
      ]
     },
     "execution_count": 8,
     "metadata": {},
     "output_type": "execute_result"
    }
   ],
   "source": [
    "data.corr()"
   ]
  },
  {
   "cell_type": "code",
   "execution_count": 9,
   "id": "437c1591",
   "metadata": {},
   "outputs": [],
   "source": [
    "############# Performing EDA ###############"
   ]
  },
  {
   "cell_type": "code",
   "execution_count": 10,
   "id": "feafd2eb",
   "metadata": {},
   "outputs": [
    {
     "data": {
      "text/plain": [
       "array([   1,    2,    3, ..., 9992, 9993, 9994], dtype=int64)"
      ]
     },
     "execution_count": 10,
     "metadata": {},
     "output_type": "execute_result"
    }
   ],
   "source": [
    "# Variable 1: Row ID - distinguishing primary key\n",
    "\n",
    "data['Row ID'].unique()"
   ]
  },
  {
   "cell_type": "code",
   "execution_count": 11,
   "id": "c85a5a93",
   "metadata": {},
   "outputs": [],
   "source": [
    "# Can be dropped as they have no role in determining the profit\n",
    "\n",
    "data = data.drop(['Row ID'],axis=1)"
   ]
  },
  {
   "cell_type": "code",
   "execution_count": 12,
   "id": "64d21bc5",
   "metadata": {},
   "outputs": [],
   "source": [
    "############################################"
   ]
  },
  {
   "cell_type": "code",
   "execution_count": 13,
   "id": "e32f1657",
   "metadata": {},
   "outputs": [
    {
     "name": "stdout",
     "output_type": "stream",
     "text": [
      "['CA-2016-152156' 'CA-2016-138688' 'US-2015-108966' ... 'CA-2014-110422'\n",
      " 'CA-2017-121258' 'CA-2017-119914']\n"
     ]
    }
   ],
   "source": [
    "# Variable 2: Order ID\n",
    "\n",
    "print(data['Order ID'].unique())"
   ]
  },
  {
   "cell_type": "code",
   "execution_count": 14,
   "id": "7abda1c4",
   "metadata": {},
   "outputs": [],
   "source": [
    "# Can be dropped as they have no role in determining the profit\n",
    "\n",
    "data = data.drop(['Order ID'],axis=1)"
   ]
  },
  {
   "cell_type": "code",
   "execution_count": 15,
   "id": "4da8912f",
   "metadata": {},
   "outputs": [],
   "source": [
    "############################################"
   ]
  },
  {
   "cell_type": "code",
   "execution_count": 16,
   "id": "6bddc620",
   "metadata": {},
   "outputs": [
    {
     "name": "stdout",
     "output_type": "stream",
     "text": [
      "['11/8/2016' '6/12/2016' '10/11/2015' ... '6/3/2016' '4/12/2015'\n",
      " '1/21/2014']\n",
      "['11/11/2016' '6/16/2016' '10/18/2015' ... '5/23/2015' '1/23/2014'\n",
      " '3/3/2017']\n"
     ]
    }
   ],
   "source": [
    "# Variable 3,4: Order Date, Ship Date\n",
    "\n",
    "print(data['Order Date'].unique())\n",
    "\n",
    "print(data['Ship Date'].unique())"
   ]
  },
  {
   "cell_type": "code",
   "execution_count": 17,
   "id": "64024bb9",
   "metadata": {},
   "outputs": [],
   "source": [
    "data['Order Date'] = pd.to_datetime(data['Order Date'], format='%m/%d/%Y')\n",
    "data['Ship Date'] = pd.to_datetime(data['Ship Date'], format='%m/%d/%Y')"
   ]
  },
  {
   "cell_type": "code",
   "execution_count": 18,
   "id": "07658ac3",
   "metadata": {},
   "outputs": [
    {
     "name": "stdout",
     "output_type": "stream",
     "text": [
      "Order Date       datetime64[ns]\n",
      "Ship Date        datetime64[ns]\n",
      "Ship Mode                object\n",
      "Customer ID              object\n",
      "Customer Name            object\n",
      "Segment                  object\n",
      "Country                  object\n",
      "City                     object\n",
      "State                    object\n",
      "Postal Code               int64\n",
      "Region                   object\n",
      "Product ID               object\n",
      "Category                 object\n",
      "Sub-Category             object\n",
      "Product Name             object\n",
      "Sales                   float64\n",
      "Quantity                  int64\n",
      "Discount                float64\n",
      "Profit                  float64\n",
      "dtype: object\n"
     ]
    }
   ],
   "source": [
    "print (data.dtypes)"
   ]
  },
  {
   "cell_type": "code",
   "execution_count": 19,
   "id": "2bacef42",
   "metadata": {},
   "outputs": [],
   "source": [
    "data['Time_taken'] = data['Ship Date'] - data['Order Date']"
   ]
  },
  {
   "cell_type": "code",
   "execution_count": 20,
   "id": "9aac4e46",
   "metadata": {},
   "outputs": [
    {
     "data": {
      "text/plain": [
       "4 days    2774\n",
       "5 days    2169\n",
       "2 days    1334\n",
       "6 days    1203\n",
       "3 days    1005\n",
       "7 days     621\n",
       "0 days     519\n",
       "1 days     369\n",
       "Name: Time_taken, dtype: int64"
      ]
     },
     "execution_count": 20,
     "metadata": {},
     "output_type": "execute_result"
    }
   ],
   "source": [
    "data['Time_taken'].value_counts()"
   ]
  },
  {
   "cell_type": "code",
   "execution_count": 21,
   "id": "086e8417",
   "metadata": {},
   "outputs": [
    {
     "data": {
      "text/plain": [
       "<AxesSubplot:title={'center':'Time taken to deliver product'}>"
      ]
     },
     "execution_count": 21,
     "metadata": {},
     "output_type": "execute_result"
    },
    {
     "data": {
      "image/png": "[encoded data removed]",
      "text/plain": [
       "<Figure size 720x288 with 1 Axes>"
      ]
     },
     "metadata": {
      "needs_background": "light"
     },
     "output_type": "display_data"
    }
   ],
   "source": [
    "# Plotting the time taken to deliver a product\n",
    "\n",
    "plt.figure(figsize=(10,4))\n",
    "data['Time_taken'].value_counts().plot(kind='barh',title='Time taken to deliver product',color='c')"
   ]
  },
  {
   "cell_type": "code",
   "execution_count": 22,
   "id": "22fcb9b7",
   "metadata": {},
   "outputs": [],
   "source": [
    "############################################"
   ]
  },
  {
   "cell_type": "code",
   "execution_count": 23,
   "id": "a0bafe19",
   "metadata": {},
   "outputs": [
    {
     "data": {
      "text/plain": [
       "Standard Class    5968\n",
       "Second Class      1945\n",
       "First Class       1538\n",
       "Same Day           543\n",
       "Name: Ship Mode, dtype: int64"
      ]
     },
     "execution_count": 23,
     "metadata": {},
     "output_type": "execute_result"
    }
   ],
   "source": [
    "# Variable 5: Ship Mode\n",
    "\n",
    "data['Ship Mode'].value_counts()"
   ]
  },
  {
   "cell_type": "code",
   "execution_count": 24,
   "id": "2d76dfea",
   "metadata": {},
   "outputs": [
    {
     "data": {
      "text/plain": [
       "<AxesSubplot:xlabel='Ship Mode', ylabel='count'>"
      ]
     },
     "execution_count": 24,
     "metadata": {},
     "output_type": "execute_result"
    },
    {
     "data": {
      "image/png": "[encoded data removed]",
      "text/plain": [
       "<Figure size 432x288 with 1 Axes>"
      ]
     },
     "metadata": {
      "needs_background": "light"
     },
     "output_type": "display_data"
    }
   ],
   "source": [
    "# Plotting count plot\n",
    "\n",
    "sns.countplot(x=data['Ship Mode'],palette='Set2')"
   ]
  },
  {
   "cell_type": "code",
   "execution_count": 25,
   "id": "1883ee71",
   "metadata": {},
   "outputs": [
    {
     "data": {
      "text/plain": [
       "Ship Mode\n",
       "First Class        48969.8399\n",
       "Same Day           15891.7589\n",
       "Second Class       57446.6354\n",
       "Standard Class    164088.7875\n",
       "Name: Profit, dtype: float64"
      ]
     },
     "execution_count": 25,
     "metadata": {},
     "output_type": "execute_result"
    },
    {
     "data": {
      "image/png": "[encoded data removed]",
      "text/plain": [
       "<Figure size 432x288 with 1 Axes>"
      ]
     },
     "metadata": {
      "needs_background": "light"
     },
     "output_type": "display_data"
    }
   ],
   "source": [
    "# Plotting Ship Mode vs Profit\n",
    "\n",
    "data.groupby('Ship Mode')['Profit'].sum().plot(kind='barh',title='Ship Mode vs Profit',color='c')\n",
    "\n",
    "data.groupby('Ship Mode')['Profit'].sum()"
   ]
  },
  {
   "cell_type": "code",
   "execution_count": 26,
   "id": "f2e1cc6f",
   "metadata": {},
   "outputs": [],
   "source": [
    "############################################"
   ]
  },
  {
   "cell_type": "code",
   "execution_count": 27,
   "id": "6527f4a7",
   "metadata": {},
   "outputs": [
    {
     "data": {
      "text/plain": [
       "WB-21850    37\n",
       "JL-15835    34\n",
       "MA-17560    34\n",
       "PP-18955    34\n",
       "CK-12205    32\n",
       "            ..\n",
       "LD-16855     1\n",
       "AO-10810     1\n",
       "CJ-11875     1\n",
       "RE-19405     1\n",
       "JR-15700     1\n",
       "Name: Customer ID, Length: 793, dtype: int64"
      ]
     },
     "execution_count": 27,
     "metadata": {},
     "output_type": "execute_result"
    }
   ],
   "source": [
    "# Variable 6: Customer ID\n",
    "\n",
    "data['Customer ID'].value_counts()"
   ]
  },
  {
   "cell_type": "code",
   "execution_count": 28,
   "id": "983a60bd",
   "metadata": {},
   "outputs": [],
   "source": [
    "# Can be dropped\n",
    "\n",
    "data = data.drop(['Customer ID'],axis=1)"
   ]
  },
  {
   "cell_type": "code",
   "execution_count": 29,
   "id": "f339b7ab",
   "metadata": {},
   "outputs": [],
   "source": [
    "############################################"
   ]
  },
  {
   "cell_type": "code",
   "execution_count": 30,
   "id": "7abee227",
   "metadata": {},
   "outputs": [
    {
     "data": {
      "text/plain": [
       "William Brown          37\n",
       "John Lee               34\n",
       "Matt Abelman           34\n",
       "Paul Prost             34\n",
       "Chloris Kastensmidt    32\n",
       "                       ..\n",
       "Lela Donovan            1\n",
       "Anthony O'Donnell       1\n",
       "Carl Jackson            1\n",
       "Ricardo Emerson         1\n",
       "Jocasta Rupert          1\n",
       "Name: Customer Name, Length: 793, dtype: int64"
      ]
     },
     "execution_count": 30,
     "metadata": {},
     "output_type": "execute_result"
    }
   ],
   "source": [
    "# Variable 7: Customer Name\n",
    "\n",
    "data['Customer Name'].value_counts()"
   ]
  },
  {
   "cell_type": "code",
   "execution_count": 31,
   "id": "6906e3d2",
   "metadata": {},
   "outputs": [
    {
     "data": {
      "text/plain": [
       "<AxesSubplot:title={'center':'Customer Name & Numer of products ordered'}>"
      ]
     },
     "execution_count": 31,
     "metadata": {},
     "output_type": "execute_result"
    },
    {
     "data": {
      "image/png": "[encoded data removed]",
      "text/plain": [
       "<Figure size 432x288 with 1 Axes>"
      ]
     },
     "metadata": {
      "needs_background": "light"
     },
     "output_type": "display_data"
    }
   ],
   "source": [
    "# Top 5 customers of store\n",
    "\n",
    "data['Customer Name'].value_counts()[:5].plot(kind='barh',title='Customer Name & Numer of products ordered',color='c')"
   ]
  },
  {
   "cell_type": "code",
   "execution_count": 32,
   "id": "810cec62",
   "metadata": {},
   "outputs": [],
   "source": [
    "customers = list(data['Customer Name'].value_counts()[:5].index)\n",
    "filters = data['Customer Name'].isin(customers)\n",
    "\n",
    "final = data[filters]"
   ]
  },
  {
   "cell_type": "code",
   "execution_count": 33,
   "id": "a98d35c0",
   "metadata": {},
   "outputs": [
    {
     "data": {
      "text/plain": [
       "Customer Name\n",
       "Chloris Kastensmidt     141.2831\n",
       "John Lee                228.9070\n",
       "Matt Abelman           1240.2266\n",
       "Paul Prost             1495.0854\n",
       "William Brown           714.3311\n",
       "Name: Profit, dtype: float64"
      ]
     },
     "execution_count": 33,
     "metadata": {},
     "output_type": "execute_result"
    }
   ],
   "source": [
    "# Profit given by top 5 customers\n",
    "\n",
    "values = final.groupby('Customer Name')['Profit'].sum()\n",
    "values"
   ]
  },
  {
   "cell_type": "code",
   "execution_count": 34,
   "id": "aa731770",
   "metadata": {},
   "outputs": [
    {
     "data": {
      "image/png": "[encoded data removed]",
      "text/plain": [
       "<Figure size 360x360 with 1 Axes>"
      ]
     },
     "metadata": {},
     "output_type": "display_data"
    }
   ],
   "source": [
    "# Plotting pie-chart for the same\n",
    "\n",
    "plt.figure(figsize=(5,5))\n",
    "plt.pie(values, labels = customers,autopct='%.0f%%')\n",
    "plt.title(\"Profit gained from the top 5 Customers\")\n",
    "plt.show()"
   ]
  },
  {
   "cell_type": "code",
   "execution_count": 35,
   "id": "e23d88cd",
   "metadata": {},
   "outputs": [
    {
     "data": {
      "image/png": "[encoded data removed]",
      "text/plain": [
       "<Figure size 360x360 with 1 Axes>"
      ]
     },
     "metadata": {},
     "output_type": "display_data"
    }
   ],
   "source": [
    "# Seeing the Region for the top 5 customers\n",
    "\n",
    "plt.figure(figsize=(5,5))\n",
    "plt.pie(final['Region'].value_counts().values, labels = final['Region'].value_counts().index, autopct='%.0f%%')\n",
    "plt.title(\"Order come from \")\n",
    "plt.show()"
   ]
  },
  {
   "cell_type": "code",
   "execution_count": 36,
   "id": "6654fb98",
   "metadata": {},
   "outputs": [],
   "source": [
    "############################################"
   ]
  },
  {
   "cell_type": "code",
   "execution_count": 37,
   "id": "8c9fa5f0",
   "metadata": {},
   "outputs": [
    {
     "data": {
      "text/plain": [
       "Consumer       5191\n",
       "Corporate      3020\n",
       "Home Office    1783\n",
       "Name: Segment, dtype: int64"
      ]
     },
     "execution_count": 37,
     "metadata": {},
     "output_type": "execute_result"
    }
   ],
   "source": [
    "# Variable 8: Segment\n",
    "\n",
    "data['Segment'].value_counts()"
   ]
  },
  {
   "cell_type": "code",
   "execution_count": 38,
   "id": "e6a02093",
   "metadata": {},
   "outputs": [
    {
     "data": {
      "text/plain": [
       "<AxesSubplot:xlabel='Segment', ylabel='count'>"
      ]
     },
     "execution_count": 38,
     "metadata": {},
     "output_type": "execute_result"
    },
    {
     "data": {
      "image/png": "[encoded data removed]",
      "text/plain": [
       "<Figure size 432x288 with 1 Axes>"
      ]
     },
     "metadata": {
      "needs_background": "light"
     },
     "output_type": "display_data"
    }
   ],
   "source": [
    "# Plotting countplot for the same\n",
    "\n",
    "sns.countplot(x=data['Segment'],palette='Set2')"
   ]
  },
  {
   "cell_type": "code",
   "execution_count": 39,
   "id": "9b433b3d",
   "metadata": {},
   "outputs": [
    {
     "data": {
      "text/plain": [
       "Segment\n",
       "Consumer       134119.2092\n",
       "Corporate       91979.1340\n",
       "Home Office     60298.6785\n",
       "Name: Profit, dtype: float64"
      ]
     },
     "execution_count": 39,
     "metadata": {},
     "output_type": "execute_result"
    },
    {
     "data": {
      "image/png": "[encoded data removed]",
      "text/plain": [
       "<Figure size 432x288 with 1 Axes>"
      ]
     },
     "metadata": {
      "needs_background": "light"
     },
     "output_type": "display_data"
    }
   ],
   "source": [
    "# Plotting Segment vs Profit\n",
    "\n",
    "data.groupby('Segment')['Profit'].sum().plot(kind='barh',title='Segment vs Profit',color='c')\n",
    "\n",
    "data.groupby('Segment')['Profit'].sum()"
   ]
  },
  {
   "cell_type": "code",
   "execution_count": 40,
   "id": "0f2c4440",
   "metadata": {},
   "outputs": [],
   "source": [
    "############################################"
   ]
  },
  {
   "cell_type": "code",
   "execution_count": 41,
   "id": "5e67363b",
   "metadata": {},
   "outputs": [
    {
     "data": {
      "text/plain": [
       "United States    9994\n",
       "Name: Country, dtype: int64"
      ]
     },
     "execution_count": 41,
     "metadata": {},
     "output_type": "execute_result"
    }
   ],
   "source": [
    "# Variable 9:Country\n",
    "\n",
    "data['Country'].value_counts()"
   ]
  },
  {
   "cell_type": "code",
   "execution_count": 42,
   "id": "53e4abda",
   "metadata": {},
   "outputs": [],
   "source": [
    "# Since country common for all the entries,hence, it can be dropped\n",
    "\n",
    "data = data.drop(['Country'],axis=1)"
   ]
  },
  {
   "cell_type": "code",
   "execution_count": 43,
   "id": "ca6a8d27",
   "metadata": {},
   "outputs": [],
   "source": [
    "############################################"
   ]
  },
  {
   "cell_type": "code",
   "execution_count": 44,
   "id": "f491f463",
   "metadata": {},
   "outputs": [
    {
     "data": {
      "text/plain": [
       "New York City      915\n",
       "Los Angeles        747\n",
       "Philadelphia       537\n",
       "San Francisco      510\n",
       "Seattle            428\n",
       "                  ... \n",
       "Glenview             1\n",
       "Missouri City        1\n",
       "Rochester Hills      1\n",
       "Palatine             1\n",
       "Manhattan            1\n",
       "Name: City, Length: 531, dtype: int64"
      ]
     },
     "execution_count": 44,
     "metadata": {},
     "output_type": "execute_result"
    }
   ],
   "source": [
    "# Variable 10:City\n",
    "\n",
    "data['City'].value_counts()"
   ]
  },
  {
   "cell_type": "code",
   "execution_count": 45,
   "id": "8a86a9ae",
   "metadata": {},
   "outputs": [
    {
     "data": {
      "text/plain": [
       "New York City    915\n",
       "Los Angeles      747\n",
       "Philadelphia     537\n",
       "San Francisco    510\n",
       "Seattle          428\n",
       "Name: City, dtype: int64"
      ]
     },
     "execution_count": 45,
     "metadata": {},
     "output_type": "execute_result"
    },
    {
     "data": {
      "image/png": "[encoded data removed]",
      "text/plain": [
       "<Figure size 432x288 with 1 Axes>"
      ]
     },
     "metadata": {
      "needs_background": "light"
     },
     "output_type": "display_data"
    }
   ],
   "source": [
    "# Top 5 cities\n",
    "\n",
    "data['City'].value_counts()[:5].plot(kind='barh',title='City vs Number of products bought',color='c')\n",
    "\n",
    "data['City'].value_counts()[:5]"
   ]
  },
  {
   "cell_type": "code",
   "execution_count": 46,
   "id": "c486a4d9",
   "metadata": {},
   "outputs": [
    {
     "data": {
      "text/plain": [
       "City\n",
       "New York City    256368.161\n",
       "Los Angeles      175851.341\n",
       "Seattle          119540.742\n",
       "San Francisco    112669.092\n",
       "Philadelphia     109077.013\n",
       "Name: Sales, dtype: float64"
      ]
     },
     "execution_count": 46,
     "metadata": {},
     "output_type": "execute_result"
    },
    {
     "data": {
      "image/png": "[encoded data removed]",
      "text/plain": [
       "<Figure size 432x288 with 1 Axes>"
      ]
     },
     "metadata": {
      "needs_background": "light"
     },
     "output_type": "display_data"
    }
   ],
   "source": [
    "# Horizontal bar plot and piechart showing City and Sales for top 5 cities\n",
    "\n",
    "city_sales = data.groupby('City')['Sales'].sum().sort_values(ascending=False)[:5]\n",
    "city_sales.plot(kind='barh',title='Top 5 Cities that made the most sales',color='purple')\n",
    "city_sales"
   ]
  },
  {
   "cell_type": "code",
   "execution_count": 47,
   "id": "753cca26",
   "metadata": {},
   "outputs": [
    {
     "data": {
      "text/plain": [
       "<AxesSubplot:title={'center':'Top 5 Cities that made the most sales'}, ylabel='Sales'>"
      ]
     },
     "execution_count": 47,
     "metadata": {},
     "output_type": "execute_result"
    },
    {
     "data": {
      "image/png": "[encoded data removed]",
      "text/plain": [
       "<Figure size 360x360 with 1 Axes>"
      ]
     },
     "metadata": {},
     "output_type": "display_data"
    }
   ],
   "source": [
    "plt.figure(figsize=(5,5))\n",
    "city_sales=data.groupby('City')['Sales'].sum().sort_values(ascending=False)[:5]\n",
    "city_sales.plot(kind='pie',title='Top 5 Cities that made the most sales',autopct='%.0f%%')"
   ]
  },
  {
   "cell_type": "code",
   "execution_count": 48,
   "id": "a423c347",
   "metadata": {},
   "outputs": [
    {
     "data": {
      "text/plain": [
       "City\n",
       "New York City    62036.9837\n",
       "Los Angeles      30440.7579\n",
       "Seattle          29156.0967\n",
       "San Francisco    17507.3854\n",
       "Detroit          13181.7908\n",
       "Name: Profit, dtype: float64"
      ]
     },
     "execution_count": 48,
     "metadata": {},
     "output_type": "execute_result"
    },
    {
     "data": {
      "image/png": "[encoded data removed]",
      "text/plain": [
       "<Figure size 432x288 with 1 Axes>"
      ]
     },
     "metadata": {
      "needs_background": "light"
     },
     "output_type": "display_data"
    }
   ],
   "source": [
    "# Horizontal bar plot and piechart showing City and Profit \n",
    "\n",
    "city_profit=data.groupby('City')['Profit'].sum().sort_values(ascending=False)[:5]\n",
    "city_profit.plot(kind='barh',title='Top 5 Cities that made the most profit')\n",
    "\n",
    "city_profit"
   ]
  },
  {
   "cell_type": "code",
   "execution_count": 49,
   "id": "1c3d5f5d",
   "metadata": {},
   "outputs": [
    {
     "data": {
      "text/plain": [
       "<AxesSubplot:title={'center':'Top 5 Cities that made the most profit'}, ylabel='Profit'>"
      ]
     },
     "execution_count": 49,
     "metadata": {},
     "output_type": "execute_result"
    },
    {
     "data": {
      "image/png": "[encoded data removed]",
      "text/plain": [
       "<Figure size 360x360 with 1 Axes>"
      ]
     },
     "metadata": {},
     "output_type": "display_data"
    }
   ],
   "source": [
    "plt.figure(figsize=(5,5))\n",
    "city_profit=data.groupby('City')['Profit'].sum().sort_values(ascending=False)[:5]\n",
    "city_profit.plot(kind='pie',title='Top 5 Cities that made the most profit',autopct='%.0f%%')"
   ]
  },
  {
   "cell_type": "code",
   "execution_count": 50,
   "id": "5269af51",
   "metadata": {},
   "outputs": [],
   "source": [
    "# Observation :\n",
    "# Detroit gives more profit as compared to Philadelphia which does not make it to top 5 in city vs profit category "
   ]
  },
  {
   "cell_type": "code",
   "execution_count": 51,
   "id": "2183d044",
   "metadata": {},
   "outputs": [],
   "source": [
    "############################################"
   ]
  },
  {
   "cell_type": "code",
   "execution_count": 52,
   "id": "ad9ad32f",
   "metadata": {},
   "outputs": [
    {
     "data": {
      "text/plain": [
       "California              2001\n",
       "New York                1128\n",
       "Texas                    985\n",
       "Pennsylvania             587\n",
       "Washington               506\n",
       "Illinois                 492\n",
       "Ohio                     469\n",
       "Florida                  383\n",
       "Michigan                 255\n",
       "North Carolina           249\n",
       "Arizona                  224\n",
       "Virginia                 224\n",
       "Georgia                  184\n",
       "Tennessee                183\n",
       "Colorado                 182\n",
       "Indiana                  149\n",
       "Kentucky                 139\n",
       "Massachusetts            135\n",
       "New Jersey               130\n",
       "Oregon                   124\n",
       "Wisconsin                110\n",
       "Maryland                 105\n",
       "Delaware                  96\n",
       "Minnesota                 89\n",
       "Connecticut               82\n",
       "Oklahoma                  66\n",
       "Missouri                  66\n",
       "Alabama                   61\n",
       "Arkansas                  60\n",
       "Rhode Island              56\n",
       "Utah                      53\n",
       "Mississippi               53\n",
       "Louisiana                 42\n",
       "South Carolina            42\n",
       "Nevada                    39\n",
       "Nebraska                  38\n",
       "New Mexico                37\n",
       "Iowa                      30\n",
       "New Hampshire             27\n",
       "Kansas                    24\n",
       "Idaho                     21\n",
       "Montana                   15\n",
       "South Dakota              12\n",
       "Vermont                   11\n",
       "District of Columbia      10\n",
       "Maine                      8\n",
       "North Dakota               7\n",
       "West Virginia              4\n",
       "Wyoming                    1\n",
       "Name: State, dtype: int64"
      ]
     },
     "execution_count": 52,
     "metadata": {},
     "output_type": "execute_result"
    }
   ],
   "source": [
    "# Variable 11:State\n",
    "\n",
    "data['State'].value_counts()"
   ]
  },
  {
   "cell_type": "code",
   "execution_count": 53,
   "id": "11354f3a",
   "metadata": {},
   "outputs": [
    {
     "data": {
      "text/plain": [
       "California      2001\n",
       "New York        1128\n",
       "Texas            985\n",
       "Pennsylvania     587\n",
       "Washington       506\n",
       "Name: State, dtype: int64"
      ]
     },
     "execution_count": 53,
     "metadata": {},
     "output_type": "execute_result"
    },
    {
     "data": {
      "image/png": "[encoded data removed]",
      "text/plain": [
       "<Figure size 432x288 with 1 Axes>"
      ]
     },
     "metadata": {
      "needs_background": "light"
     },
     "output_type": "display_data"
    }
   ],
   "source": [
    "# Top 5 states\n",
    "\n",
    "data['State'].value_counts()[:5].plot(kind='barh',title='State vs Number of products bought',color='c')\n",
    "\n",
    "data['State'].value_counts()[:5]"
   ]
  },
  {
   "cell_type": "code",
   "execution_count": 54,
   "id": "517ee2a2",
   "metadata": {},
   "outputs": [
    {
     "data": {
      "text/plain": [
       "State\n",
       "California      457687.6315\n",
       "New York        310876.2710\n",
       "Texas           170188.0458\n",
       "Washington      138641.2700\n",
       "Pennsylvania    116511.9140\n",
       "Name: Sales, dtype: float64"
      ]
     },
     "execution_count": 54,
     "metadata": {},
     "output_type": "execute_result"
    },
    {
     "data": {
      "image/png": "[encoded data removed]",
      "text/plain": [
       "<Figure size 360x360 with 1 Axes>"
      ]
     },
     "metadata": {},
     "output_type": "display_data"
    }
   ],
   "source": [
    "# Piechart showing State and Sales for top 5 \n",
    "\n",
    "plt.figure(figsize=(5,5))\n",
    "s_sales = data.groupby('State')['Sales'].sum().sort_values(ascending=False)[:5]\n",
    "s_sales.plot(kind='pie',title='Top 5 states that made the most sales',autopct='%.0f%%')\n",
    "s_sales"
   ]
  },
  {
   "cell_type": "code",
   "execution_count": 55,
   "id": "93e3732a",
   "metadata": {},
   "outputs": [
    {
     "data": {
      "text/plain": [
       "State\n",
       "California              76381.3871\n",
       "New York                74038.5486\n",
       "Washington              33402.6517\n",
       "Michigan                24463.1876\n",
       "Virginia                18597.9504\n",
       "Indiana                 18382.9363\n",
       "Georgia                 16250.0433\n",
       "Kentucky                11199.6966\n",
       "Minnesota               10823.1874\n",
       "Delaware                 9977.3748\n",
       "New Jersey               9772.9138\n",
       "Wisconsin                8401.8004\n",
       "Rhode Island             7285.6293\n",
       "Maryland                 7031.1788\n",
       "Massachusetts            6785.5016\n",
       "Missouri                 6436.2105\n",
       "Alabama                  5786.8253\n",
       "Oklahoma                 4853.9560\n",
       "Arkansas                 4008.6871\n",
       "Connecticut              3511.4918\n",
       "Nevada                   3316.7659\n",
       "Mississippi              3172.9762\n",
       "Utah                     2546.5335\n",
       "Vermont                  2244.9783\n",
       "Louisiana                2196.1023\n",
       "Nebraska                 2037.0942\n",
       "Montana                  1833.3285\n",
       "South Carolina           1769.0566\n",
       "New Hampshire            1706.5028\n",
       "Iowa                     1183.8119\n",
       "New Mexico               1157.1161\n",
       "District of Columbia     1059.5893\n",
       "Kansas                    836.4435\n",
       "Idaho                     826.7231\n",
       "Maine                     454.4862\n",
       "South Dakota              394.8283\n",
       "North Dakota              230.1497\n",
       "West Virginia             185.9216\n",
       "Wyoming                   100.1960\n",
       "Oregon                  -1190.4705\n",
       "Florida                 -3399.3017\n",
       "Arizona                 -3427.9246\n",
       "Tennessee               -5341.6936\n",
       "Colorado                -6527.8579\n",
       "North Carolina          -7490.9122\n",
       "Illinois               -12607.8870\n",
       "Pennsylvania           -15559.9603\n",
       "Ohio                   -16971.3766\n",
       "Texas                  -25729.3563\n",
       "Name: Profit, dtype: float64"
      ]
     },
     "execution_count": 55,
     "metadata": {},
     "output_type": "execute_result"
    },
    {
     "data": {
      "image/png": "[encoded data removed]",
      "text/plain": [
       "<Figure size 360x360 with 1 Axes>"
      ]
     },
     "metadata": {},
     "output_type": "display_data"
    }
   ],
   "source": [
    "# Piechart showing State and Profit for top 5 \n",
    "\n",
    "plt.figure(figsize=(5,5))\n",
    "s_profit = data.groupby('State')['Profit'].sum().sort_values(ascending=False)[:5]\n",
    "s_profit.plot(kind='pie',title='Top 5 states that made the most profit',autopct='%.0f%%')\n",
    "\n",
    "data.groupby('State')['Profit'].sum().sort_values(ascending=False)"
   ]
  },
  {
   "cell_type": "code",
   "execution_count": 56,
   "id": "5b6eb9c1",
   "metadata": {},
   "outputs": [],
   "source": [
    "# Observation:\n",
    "# Texas and Pennsylvania have their names in the top sales names but the give negative profit."
   ]
  },
  {
   "cell_type": "code",
   "execution_count": 57,
   "id": "48ec087b",
   "metadata": {},
   "outputs": [],
   "source": [
    "############################################"
   ]
  },
  {
   "cell_type": "code",
   "execution_count": 58,
   "id": "61b76e7d",
   "metadata": {},
   "outputs": [
    {
     "data": {
      "text/plain": [
       "10035    263\n",
       "10024    230\n",
       "10009    229\n",
       "94122    203\n",
       "10011    193\n",
       "        ... \n",
       "27534      1\n",
       "53186      1\n",
       "32503      1\n",
       "94509      1\n",
       "63376      1\n",
       "Name: Postal Code, Length: 631, dtype: int64"
      ]
     },
     "execution_count": 58,
     "metadata": {},
     "output_type": "execute_result"
    }
   ],
   "source": [
    "# Variable 12:Postal Code\n",
    "\n",
    "data['Postal Code'].value_counts()"
   ]
  },
  {
   "cell_type": "code",
   "execution_count": 59,
   "id": "b668b87c",
   "metadata": {},
   "outputs": [],
   "source": [
    "############################################"
   ]
  },
  {
   "cell_type": "code",
   "execution_count": 60,
   "id": "f52e020e",
   "metadata": {},
   "outputs": [
    {
     "data": {
      "text/plain": [
       "West       3203\n",
       "East       2848\n",
       "Central    2323\n",
       "South      1620\n",
       "Name: Region, dtype: int64"
      ]
     },
     "execution_count": 60,
     "metadata": {},
     "output_type": "execute_result"
    }
   ],
   "source": [
    "# Variable 13: Region\n",
    "\n",
    "data['Region'].value_counts()"
   ]
  },
  {
   "cell_type": "code",
   "execution_count": 61,
   "id": "59a83ae6",
   "metadata": {},
   "outputs": [
    {
     "data": {
      "text/plain": [
       "<AxesSubplot:xlabel='Region', ylabel='count'>"
      ]
     },
     "execution_count": 61,
     "metadata": {},
     "output_type": "execute_result"
    },
    {
     "data": {
      "image/png": "[encoded data removed]",
      "text/plain": [
       "<Figure size 432x288 with 1 Axes>"
      ]
     },
     "metadata": {
      "needs_background": "light"
     },
     "output_type": "display_data"
    }
   ],
   "source": [
    "# Plotting countplot for the same\n",
    "\n",
    "sns.countplot(x=data['Region'],palette='Set2')"
   ]
  },
  {
   "cell_type": "code",
   "execution_count": 62,
   "id": "06255a68",
   "metadata": {},
   "outputs": [
    {
     "data": {
      "text/plain": [
       "Region\n",
       "Central    501239.8908\n",
       "East       678781.2400\n",
       "South      391721.9050\n",
       "West       725457.8245\n",
       "Name: Sales, dtype: float64"
      ]
     },
     "execution_count": 62,
     "metadata": {},
     "output_type": "execute_result"
    },
    {
     "data": {
      "image/png": "[encoded data removed]",
      "text/plain": [
       "<Figure size 432x288 with 1 Axes>"
      ]
     },
     "metadata": {
      "needs_background": "light"
     },
     "output_type": "display_data"
    }
   ],
   "source": [
    "# Horizontal Bargraph showing Region and Sales \n",
    "\n",
    "r_sales = data.groupby('Region')['Sales'].sum()\n",
    "r_sales.plot(kind='barh',title='Region that made the most sales',color='purple')\n",
    "r_sales"
   ]
  },
  {
   "cell_type": "code",
   "execution_count": 63,
   "id": "97942b30",
   "metadata": {},
   "outputs": [
    {
     "data": {
      "text/plain": [
       "Region\n",
       "Central    501239.8908\n",
       "East       678781.2400\n",
       "South      391721.9050\n",
       "West       725457.8245\n",
       "Name: Sales, dtype: float64"
      ]
     },
     "execution_count": 63,
     "metadata": {},
     "output_type": "execute_result"
    },
    {
     "data": {
      "image/png": "[encoded data removed]",
      "text/plain": [
       "<Figure size 360x360 with 1 Axes>"
      ]
     },
     "metadata": {},
     "output_type": "display_data"
    }
   ],
   "source": [
    "# Piechart showing Region and Sales \n",
    "\n",
    "plt.figure(figsize=(5,5))\n",
    "r_sales = data.groupby('Region')['Sales'].sum()\n",
    "r_sales.plot(kind='pie',title='Region that made the most sales',autopct='%.0f%%')\n",
    "r_sales"
   ]
  },
  {
   "cell_type": "code",
   "execution_count": 64,
   "id": "847cb26c",
   "metadata": {},
   "outputs": [
    {
     "data": {
      "text/plain": [
       "Region\n",
       "Central     39706.3625\n",
       "East        91522.7800\n",
       "South       46749.4303\n",
       "West       108418.4489\n",
       "Name: Profit, dtype: float64"
      ]
     },
     "execution_count": 64,
     "metadata": {},
     "output_type": "execute_result"
    },
    {
     "data": {
      "image/png": "[encoded data removed]",
      "text/plain": [
       "<Figure size 360x360 with 1 Axes>"
      ]
     },
     "metadata": {},
     "output_type": "display_data"
    }
   ],
   "source": [
    "# Piechart showing Region and Profit\n",
    "\n",
    "plt.figure(figsize=(5,5))\n",
    "r_profit = data.groupby('Region')['Profit'].sum()\n",
    "r_profit.plot(kind='pie',title='Region that made the most profit',autopct='%.0f%%')\n",
    "r_profit"
   ]
  },
  {
   "cell_type": "code",
   "execution_count": 65,
   "id": "3ef4eea7",
   "metadata": {},
   "outputs": [
    {
     "data": {
      "text/plain": [
       "Region\n",
       "Central    558.34\n",
       "East       414.00\n",
       "South      238.55\n",
       "West       350.20\n",
       "Name: Discount, dtype: float64"
      ]
     },
     "execution_count": 65,
     "metadata": {},
     "output_type": "execute_result"
    },
    {
     "data": {
      "image/png": "[encoded data removed]",
      "text/plain": [
       "<Figure size 432x288 with 1 Axes>"
      ]
     },
     "metadata": {
      "needs_background": "light"
     },
     "output_type": "display_data"
    }
   ],
   "source": [
    "# Horizontal Barplot showing Region and Discount\n",
    "\n",
    "r_dis = data.groupby('Region')['Discount'].sum()\n",
    "r_dis.plot(kind='barh',title='Discount earned',color='k')\n",
    "r_dis"
   ]
  },
  {
   "cell_type": "code",
   "execution_count": 66,
   "id": "b2571c30",
   "metadata": {},
   "outputs": [],
   "source": [
    "# Observation:\n",
    "# Although South has least sales, it incurs more profit as compared to Central region"
   ]
  },
  {
   "cell_type": "code",
   "execution_count": 67,
   "id": "338b9561",
   "metadata": {},
   "outputs": [],
   "source": [
    "############################################"
   ]
  },
  {
   "cell_type": "code",
   "execution_count": 68,
   "id": "81a6e9a1",
   "metadata": {},
   "outputs": [
    {
     "data": {
      "text/plain": [
       "OFF-PA-10001970    19\n",
       "TEC-AC-10003832    18\n",
       "FUR-FU-10004270    16\n",
       "FUR-CH-10001146    15\n",
       "TEC-AC-10003628    15\n",
       "                   ..\n",
       "TEC-PH-10003535     1\n",
       "TEC-MA-10002937     1\n",
       "OFF-AR-10004974     1\n",
       "TEC-AC-10004814     1\n",
       "OFF-ST-10001627     1\n",
       "Name: Product ID, Length: 1862, dtype: int64"
      ]
     },
     "execution_count": 68,
     "metadata": {},
     "output_type": "execute_result"
    }
   ],
   "source": [
    "# Variable 14: Product ID\n",
    "\n",
    "data['Product ID'].value_counts()"
   ]
  },
  {
   "cell_type": "code",
   "execution_count": 69,
   "id": "b08a3035",
   "metadata": {},
   "outputs": [],
   "source": [
    "############################################"
   ]
  },
  {
   "cell_type": "code",
   "execution_count": 70,
   "id": "cd50ef98",
   "metadata": {},
   "outputs": [
    {
     "data": {
      "text/plain": [
       "Office Supplies    6026\n",
       "Furniture          2121\n",
       "Technology         1847\n",
       "Name: Category, dtype: int64"
      ]
     },
     "execution_count": 70,
     "metadata": {},
     "output_type": "execute_result"
    }
   ],
   "source": [
    "# Variable 15: Category\n",
    "\n",
    "data['Category'].value_counts()"
   ]
  },
  {
   "cell_type": "code",
   "execution_count": 71,
   "id": "31bf4722",
   "metadata": {},
   "outputs": [
    {
     "data": {
      "text/plain": [
       "<AxesSubplot:xlabel='Category', ylabel='count'>"
      ]
     },
     "execution_count": 71,
     "metadata": {},
     "output_type": "execute_result"
    },
    {
     "data": {
      "image/png": "[encoded data removed]",
      "text/plain": [
       "<Figure size 432x288 with 1 Axes>"
      ]
     },
     "metadata": {
      "needs_background": "light"
     },
     "output_type": "display_data"
    }
   ],
   "source": [
    "# Plotting Countplot\n",
    "\n",
    "sns.countplot(x=data['Category'],palette='Set2')"
   ]
  },
  {
   "cell_type": "code",
   "execution_count": 72,
   "id": "6f2a684d",
   "metadata": {},
   "outputs": [
    {
     "data": {
      "text/plain": [
       "Category\n",
       "Furniture          741999.7953\n",
       "Office Supplies    719047.0320\n",
       "Technology         836154.0330\n",
       "Name: Sales, dtype: float64"
      ]
     },
     "execution_count": 72,
     "metadata": {},
     "output_type": "execute_result"
    },
    {
     "data": {
      "image/png": "[encoded data removed]",
      "text/plain": [
       "<Figure size 432x288 with 1 Axes>"
      ]
     },
     "metadata": {
      "needs_background": "light"
     },
     "output_type": "display_data"
    }
   ],
   "source": [
    "# Horizontal Bargraph showing Category and Sales \n",
    "\n",
    "c_sales = data.groupby('Category')['Sales'].sum()\n",
    "c_sales.plot(kind='barh',title='Category that made the most sales',color='purple')\n",
    "c_sales"
   ]
  },
  {
   "cell_type": "code",
   "execution_count": 73,
   "id": "2c139ecf",
   "metadata": {},
   "outputs": [
    {
     "data": {
      "text/plain": [
       "Category\n",
       "Furniture           18451.2728\n",
       "Office Supplies    122490.8008\n",
       "Technology         145454.9481\n",
       "Name: Profit, dtype: float64"
      ]
     },
     "execution_count": 73,
     "metadata": {},
     "output_type": "execute_result"
    },
    {
     "data": {
      "image/png": "[encoded data removed]",
      "text/plain": [
       "<Figure size 432x288 with 1 Axes>"
      ]
     },
     "metadata": {
      "needs_background": "light"
     },
     "output_type": "display_data"
    }
   ],
   "source": [
    "# Horizontal Barplot showing Category and Profit\n",
    "\n",
    "c_profit = data.groupby('Category')['Profit'].sum()\n",
    "c_profit.plot(kind='barh',title='Category that made the most profit')\n",
    "c_profit"
   ]
  },
  {
   "cell_type": "code",
   "execution_count": 74,
   "id": "6bc7d863",
   "metadata": {},
   "outputs": [
    {
     "data": {
      "text/plain": [
       "Category\n",
       "Furniture           8028\n",
       "Office Supplies    22906\n",
       "Technology          6939\n",
       "Name: Quantity, dtype: int64"
      ]
     },
     "execution_count": 74,
     "metadata": {},
     "output_type": "execute_result"
    },
    {
     "data": {
      "image/png": "[encoded data removed]",
      "text/plain": [
       "<Figure size 432x288 with 1 Axes>"
      ]
     },
     "metadata": {
      "needs_background": "light"
     },
     "output_type": "display_data"
    }
   ],
   "source": [
    "# Horizontal Barplot showing Category and Quantity\n",
    "\n",
    "c_quantity = data.groupby('Category')['Quantity'].sum()\n",
    "c_quantity.plot(kind='barh',title='Quantity that has been sold',color='orange')\n",
    "c_quantity"
   ]
  },
  {
   "cell_type": "code",
   "execution_count": 75,
   "id": "e6261f05",
   "metadata": {},
   "outputs": [
    {
     "data": {
      "text/plain": [
       "Category\n",
       "Furniture          368.89\n",
       "Office Supplies    947.80\n",
       "Technology         244.40\n",
       "Name: Discount, dtype: float64"
      ]
     },
     "execution_count": 75,
     "metadata": {},
     "output_type": "execute_result"
    },
    {
     "data": {
      "image/png": "[encoded data removed]",
      "text/plain": [
       "<Figure size 432x288 with 1 Axes>"
      ]
     },
     "metadata": {
      "needs_background": "light"
     },
     "output_type": "display_data"
    }
   ],
   "source": [
    "# Horizontal Barplot showing Category and Discount\n",
    "\n",
    "c_dis = data.groupby('Category')['Discount'].sum()\n",
    "c_dis.plot(kind='barh',title='Discount earned',color='c')\n",
    "c_dis"
   ]
  },
  {
   "cell_type": "code",
   "execution_count": 76,
   "id": "b3e5ae6a",
   "metadata": {},
   "outputs": [
    {
     "data": {
      "text/plain": [
       "Region   Category       \n",
       "Central  Furniture          163797.1638\n",
       "         Office Supplies    167026.4150\n",
       "         Technology         170416.3120\n",
       "East     Furniture          208291.2040\n",
       "         Office Supplies    205516.0550\n",
       "         Technology         264973.9810\n",
       "South    Furniture          117298.6840\n",
       "         Office Supplies    125651.3130\n",
       "         Technology         148771.9080\n",
       "West     Furniture          252612.7435\n",
       "         Office Supplies    220853.2490\n",
       "         Technology         251991.8320\n",
       "Name: Sales, dtype: float64"
      ]
     },
     "execution_count": 76,
     "metadata": {},
     "output_type": "execute_result"
    },
    {
     "data": {
      "image/png": "[encoded data removed]",
      "text/plain": [
       "<Figure size 720x360 with 1 Axes>"
      ]
     },
     "metadata": {
      "needs_background": "light"
     },
     "output_type": "display_data"
    }
   ],
   "source": [
    "# Region/Category analysis\n",
    "\n",
    "data.groupby(['Region','Category'])['Sales'].sum().unstack('Category').plot.bar(figsize=(10,5),title='Category per Region sales', ylabel='Sales in USD')\n",
    "\n",
    "data.groupby(['Region','Category'])['Sales'].sum()"
   ]
  },
  {
   "cell_type": "code",
   "execution_count": 77,
   "id": "6967d8f6",
   "metadata": {},
   "outputs": [],
   "source": [
    "############################################"
   ]
  },
  {
   "cell_type": "code",
   "execution_count": 78,
   "id": "de4ba1ba",
   "metadata": {},
   "outputs": [
    {
     "data": {
      "text/plain": [
       "Binders        1523\n",
       "Paper          1370\n",
       "Furnishings     957\n",
       "Phones          889\n",
       "Storage         846\n",
       "Art             796\n",
       "Accessories     775\n",
       "Chairs          617\n",
       "Appliances      466\n",
       "Labels          364\n",
       "Tables          319\n",
       "Envelopes       254\n",
       "Bookcases       228\n",
       "Fasteners       217\n",
       "Supplies        190\n",
       "Machines        115\n",
       "Copiers          68\n",
       "Name: Sub-Category, dtype: int64"
      ]
     },
     "execution_count": 78,
     "metadata": {},
     "output_type": "execute_result"
    }
   ],
   "source": [
    "# Variable 16: Sub-Category\n",
    "\n",
    "data['Sub-Category'].value_counts()"
   ]
  },
  {
   "cell_type": "code",
   "execution_count": 79,
   "id": "d7c331f6",
   "metadata": {},
   "outputs": [
    {
     "data": {
      "text/plain": [
       "<AxesSubplot:xlabel='Sub-Category', ylabel='count'>"
      ]
     },
     "execution_count": 79,
     "metadata": {},
     "output_type": "execute_result"
    },
    {
     "data": {
      "image/png": "[encoded data removed]",
      "text/plain": [
       "<Figure size 1080x360 with 1 Axes>"
      ]
     },
     "metadata": {
      "needs_background": "light"
     },
     "output_type": "display_data"
    }
   ],
   "source": [
    "# Plotting countplot\n",
    "\n",
    "plt.figure(figsize=(15,5))\n",
    "sns.countplot(x=data['Sub-Category'],palette='Set2')"
   ]
  },
  {
   "cell_type": "code",
   "execution_count": 80,
   "id": "d716cd78",
   "metadata": {},
   "outputs": [
    {
     "data": {
      "text/plain": [
       "Sub-Category  Category       \n",
       "Accessories   Technology          775\n",
       "Appliances    Office Supplies     466\n",
       "Art           Office Supplies     796\n",
       "Binders       Office Supplies    1523\n",
       "Bookcases     Furniture           228\n",
       "Chairs        Furniture           617\n",
       "Copiers       Technology           68\n",
       "Envelopes     Office Supplies     254\n",
       "Fasteners     Office Supplies     217\n",
       "Furnishings   Furniture           957\n",
       "Labels        Office Supplies     364\n",
       "Machines      Technology          115\n",
       "Paper         Office Supplies    1370\n",
       "Phones        Technology          889\n",
       "Storage       Office Supplies     846\n",
       "Supplies      Office Supplies     190\n",
       "Tables        Furniture           319\n",
       "Name: Category, dtype: int64"
      ]
     },
     "execution_count": 80,
     "metadata": {},
     "output_type": "execute_result"
    },
    {
     "data": {
      "image/png": "[encoded data removed]",
      "text/plain": [
       "<Figure size 432x288 with 1 Axes>"
      ]
     },
     "metadata": {
      "needs_background": "light"
     },
     "output_type": "display_data"
    }
   ],
   "source": [
    "data.groupby('Sub-Category')['Category'].value_counts().plot(kind='barh',title='Quantity that has been sold')\n",
    "\n",
    "data.groupby('Sub-Category')['Category'].value_counts()"
   ]
  },
  {
   "cell_type": "code",
   "execution_count": 81,
   "id": "9aaa9715",
   "metadata": {},
   "outputs": [],
   "source": [
    "##############################"
   ]
  },
  {
   "cell_type": "code",
   "execution_count": 82,
   "id": "22fb27ad",
   "metadata": {},
   "outputs": [
    {
     "data": {
      "text/plain": [
       "Staple envelope                                                                        48\n",
       "Staples                                                                                46\n",
       "Easy-staple paper                                                                      46\n",
       "Avery Non-Stick Binders                                                                20\n",
       "Staples in misc. colors                                                                19\n",
       "                                                                                       ..\n",
       "Boston 1900 Electric Pencil Sharpener                                                   1\n",
       "RCA ViSYS 25423RE1 Corded phone                                                         1\n",
       "Canon Color ImageCLASS MF8580Cdw Wireless Laser All-In-One Printer, Copier, Scanner     1\n",
       "Newell 342                                                                              1\n",
       "Eldon Jumbo ProFile Portable File Boxes Graphite/Black                                  1\n",
       "Name: Product Name, Length: 1850, dtype: int64"
      ]
     },
     "execution_count": 82,
     "metadata": {},
     "output_type": "execute_result"
    }
   ],
   "source": [
    "# Variable 17: Product Name\n",
    "\n",
    "data['Product Name'].value_counts()"
   ]
  },
  {
   "cell_type": "code",
   "execution_count": 83,
   "id": "61713906",
   "metadata": {},
   "outputs": [],
   "source": [
    "##############################"
   ]
  },
  {
   "cell_type": "code",
   "execution_count": 84,
   "id": "1398337d",
   "metadata": {
    "scrolled": true
   },
   "outputs": [
    {
     "data": {
      "image/png": "[encoded data removed]",
      "text/plain": [
       "<Figure size 432x288 with 2 Axes>"
      ]
     },
     "metadata": {
      "needs_background": "light"
     },
     "output_type": "display_data"
    }
   ],
   "source": [
    "# Correlation map\n",
    "\n",
    "sns.heatmap(data.corr(),annot= True,linewidths=2)\n",
    "plt.show()"
   ]
  },
  {
   "cell_type": "code",
   "execution_count": 85,
   "id": "e24e5973",
   "metadata": {},
   "outputs": [
    {
     "data": {
      "text/plain": [
       "Text(0.5, 1.0, 'Sales vs Profit')"
      ]
     },
     "execution_count": 85,
     "metadata": {},
     "output_type": "execute_result"
    },
    {
     "data": {
      "image/png": "[encoded data removed]",
      "text/plain": [
       "<Figure size 432x360 with 1 Axes>"
      ]
     },
     "metadata": {
      "needs_background": "light"
     },
     "output_type": "display_data"
    }
   ],
   "source": [
    "# Visualize important variables - sales\n",
    "\n",
    "plt.figure(figsize=(6,5))\n",
    "sns.regplot(x='Sales',y='Profit',data=data)\n",
    "plt.xlabel('Sales done')\n",
    "plt.ylabel('Profit in USD')\n",
    "plt.title('Sales vs Profit')"
   ]
  },
  {
   "cell_type": "code",
   "execution_count": 86,
   "id": "f86b4ff9",
   "metadata": {},
   "outputs": [
    {
     "name": "stdout",
     "output_type": "stream",
     "text": [
      "<class 'pandas.core.frame.DataFrame'>\n",
      "RangeIndex: 9994 entries, 0 to 9993\n",
      "Data columns (total 18 columns):\n",
      " #   Column         Non-Null Count  Dtype          \n",
      "---  ------         --------------  -----          \n",
      " 0   Order Date     9994 non-null   datetime64[ns] \n",
      " 1   Ship Date      9994 non-null   datetime64[ns] \n",
      " 2   Ship Mode      9994 non-null   object         \n",
      " 3   Customer Name  9994 non-null   object         \n",
      " 4   Segment        9994 non-null   object         \n",
      " 5   City           9994 non-null   object         \n",
      " 6   State          9994 non-null   object         \n",
      " 7   Postal Code    9994 non-null   int64          \n",
      " 8   Region         9994 non-null   object         \n",
      " 9   Product ID     9994 non-null   object         \n",
      " 10  Category       9994 non-null   object         \n",
      " 11  Sub-Category   9994 non-null   object         \n",
      " 12  Product Name   9994 non-null   object         \n",
      " 13  Sales          9994 non-null   float64        \n",
      " 14  Quantity       9994 non-null   int64          \n",
      " 15  Discount       9994 non-null   float64        \n",
      " 16  Profit         9994 non-null   float64        \n",
      " 17  Time_taken     9994 non-null   timedelta64[ns]\n",
      "dtypes: datetime64[ns](2), float64(3), int64(2), object(10), timedelta64[ns](1)\n",
      "memory usage: 1.4+ MB\n"
     ]
    }
   ],
   "source": [
    "# Now, Analysizing the data\n",
    "\n",
    "data.info()"
   ]
  },
  {
   "cell_type": "code",
   "execution_count": 87,
   "id": "85588f58",
   "metadata": {},
   "outputs": [],
   "source": [
    "data['Order Date'] = data['Order Date'].astype(str)\n",
    "data['Ship Date'] = data['Ship Date'].astype(str)\n",
    "data['Time_taken'] = data['Time_taken'].astype(str)"
   ]
  },
  {
   "cell_type": "code",
   "execution_count": 88,
   "id": "cb2a6dcc",
   "metadata": {},
   "outputs": [
    {
     "name": "stdout",
     "output_type": "stream",
     "text": [
      "<class 'pandas.core.frame.DataFrame'>\n",
      "RangeIndex: 9994 entries, 0 to 9993\n",
      "Data columns (total 18 columns):\n",
      " #   Column         Non-Null Count  Dtype  \n",
      "---  ------         --------------  -----  \n",
      " 0   Order Date     9994 non-null   object \n",
      " 1   Ship Date      9994 non-null   object \n",
      " 2   Ship Mode      9994 non-null   object \n",
      " 3   Customer Name  9994 non-null   object \n",
      " 4   Segment        9994 non-null   object \n",
      " 5   City           9994 non-null   object \n",
      " 6   State          9994 non-null   object \n",
      " 7   Postal Code    9994 non-null   int64  \n",
      " 8   Region         9994 non-null   object \n",
      " 9   Product ID     9994 non-null   object \n",
      " 10  Category       9994 non-null   object \n",
      " 11  Sub-Category   9994 non-null   object \n",
      " 12  Product Name   9994 non-null   object \n",
      " 13  Sales          9994 non-null   float64\n",
      " 14  Quantity       9994 non-null   int64  \n",
      " 15  Discount       9994 non-null   float64\n",
      " 16  Profit         9994 non-null   float64\n",
      " 17  Time_taken     9994 non-null   object \n",
      "dtypes: float64(3), int64(2), object(13)\n",
      "memory usage: 1.4+ MB\n"
     ]
    }
   ],
   "source": [
    "data.info()"
   ]
  },
  {
   "cell_type": "code",
   "execution_count": 89,
   "id": "d7e65924",
   "metadata": {},
   "outputs": [],
   "source": [
    "# Apply Label Encoding\n",
    "\n",
    "from sklearn.preprocessing import LabelEncoder\n",
    "label_encoder = LabelEncoder()\n",
    "\n",
    "data['Order Date'] = label_encoder.fit_transform(data['Order Date'])\n",
    "data['Ship Date'] = label_encoder.fit_transform(data['Ship Date'])\n",
    "data['Ship Mode'] = label_encoder.fit_transform(data['Ship Mode'])\n",
    "data['Customer Name'] = label_encoder.fit_transform(data['Customer Name'])\n",
    "data['Segment'] = label_encoder.fit_transform(data['Segment'])\n",
    "data['City'] = label_encoder.fit_transform(data['City'])\n",
    "data['State'] = label_encoder.fit_transform(data['State'])\n",
    "data['Region'] = label_encoder.fit_transform(data['Region'])\n",
    "data['Product ID'] = label_encoder.fit_transform(data['Product ID'])\n",
    "data['Category'] = label_encoder.fit_transform(data['Category'])\n",
    "data['Sub-Category'] = label_encoder.fit_transform(data['Sub-Category'])\n",
    "data['Product Name'] = label_encoder.fit_transform(data['Product Name'])\n",
    "data['Time_taken'] = label_encoder.fit_transform(data['Time_taken'])"
   ]
  },
  {
   "cell_type": "code",
   "execution_count": 90,
   "id": "9a6bba2a",
   "metadata": {},
   "outputs": [],
   "source": [
    "# After Analysis,dropping some variables\n",
    "\n",
    "data = data.drop(['Category','Time_taken','State','Ship Mode','Ship Date','Region','Segment','Customer Name','Product ID'],axis=1)"
   ]
  },
  {
   "cell_type": "code",
   "execution_count": 91,
   "id": "92b75f8b",
   "metadata": {},
   "outputs": [],
   "source": [
    "# Split into train and test data\n",
    "\n",
    "X=data.iloc[:,:-1].values\n",
    "y=data.iloc[:,-1].values\n",
    "\n",
    "from sklearn.model_selection import train_test_split\n",
    "from sklearn.preprocessing import StandardScaler\n",
    "X_train,X_test,y_train,y_test = train_test_split(X,y,test_size=0.3,random_state=1)"
   ]
  },
  {
   "cell_type": "code",
   "execution_count": 92,
   "id": "a392b3de",
   "metadata": {},
   "outputs": [
    {
     "data": {
      "text/plain": [
       "(6995, 8)"
      ]
     },
     "execution_count": 92,
     "metadata": {},
     "output_type": "execute_result"
    }
   ],
   "source": [
    "X_train.shape"
   ]
  },
  {
   "cell_type": "code",
   "execution_count": 93,
   "id": "946c6b4c",
   "metadata": {},
   "outputs": [
    {
     "data": {
      "text/plain": [
       "(2999, 8)"
      ]
     },
     "execution_count": 93,
     "metadata": {},
     "output_type": "execute_result"
    }
   ],
   "source": [
    "X_test.shape"
   ]
  },
  {
   "cell_type": "code",
   "execution_count": 94,
   "id": "6f5f281d",
   "metadata": {},
   "outputs": [],
   "source": [
    "# Feature Scaling\n",
    "\n",
    "from sklearn.preprocessing import StandardScaler\n",
    "sc = StandardScaler()\n",
    "X_train = sc.fit_transform(X_train)\n",
    "X_test = sc.fit_transform(X_test)"
   ]
  },
  {
   "cell_type": "code",
   "execution_count": 102,
   "id": "5f16c9a6",
   "metadata": {},
   "outputs": [
    {
     "name": "stdout",
     "output_type": "stream",
     "text": [
      "\n",
      "***Showing results for Random Forest Regressor***\n",
      "\n",
      "Training Score : 91.64930835398714\n",
      "\n",
      "Testing Score : 82.16973101523959\n",
      "\n",
      "MSE values : 12537.883337137335\n",
      "\n",
      "RMSE values : 111.97269013977174\n",
      "\n",
      "R2 for Random Forest Regressor : 82.16973101523959\n",
      "\n",
      "The VIF value is : 5.608440348570755\n",
      "\n"
     ]
    }
   ],
   "source": [
    "# Training the Random Forest Regression model on the Training set\n",
    "\n",
    "from sklearn.ensemble import RandomForestRegressor\n",
    "regressor = RandomForestRegressor(max_depth=7,n_estimators=12,n_jobs=-1,random_state=1,min_impurity_decrease=9)\n",
    "\n",
    "#Fitting the model\n",
    "regressor.fit(X_train, y_train)\n",
    "y_pred = regressor.predict(X_test)\n",
    "\n",
    "print('\\n***Showing results for Random Forest Regressor***')\n",
    "    \n",
    "# Calculating the accuracies\n",
    "print(\"\\nTraining Score :\",regressor.score(X_train,y_train)*100)\n",
    "print(\"\\nTesting Score :\",regressor.score(X_test,y_test)*100)\n",
    "\n",
    "from sklearn.metrics import mean_squared_error\n",
    "mse = mean_squared_error(y_test,y_pred)\n",
    "print('\\nMSE values : {}'.format(mse))\n",
    "rmse = mse**.5\n",
    "print('\\nRMSE values : {}'.format(rmse))\n",
    "    \n",
    "from sklearn.metrics import r2_score \n",
    "\n",
    "score = r2_score(y_test , y_pred)\n",
    "if ((score*100)<0):\n",
    "    print(\"\\nInaccurate model for regression problem\\n\")\n",
    "else:\n",
    "    print(\"\\nR2 for Random Forest Regressor : {}\\n\".format(score*100))\n",
    "    print('The VIF value is : {}\\n'.format(1/(1-score)))"
   ]
  },
  {
   "cell_type": "code",
   "execution_count": 96,
   "id": "6e4efd07",
   "metadata": {},
   "outputs": [
    {
     "name": "stdout",
     "output_type": "stream",
     "text": [
      "\n",
      "Training Score : 93.6511478232664\n",
      "\n",
      "Testing Score : 87.00110302520478\n",
      "\n",
      "MSE values : 9140.560578236265\n",
      "\n",
      "RMSE values : 95.60627896867582\n",
      "\n",
      "R2 for Random Forest Regressor : 87.00110302520478\n",
      "\n",
      "The VIF value is : 7.692960425326811\n",
      "\n"
     ]
    }
   ],
   "source": [
    "## Applying Regularization\n",
    "\n",
    "from sklearn.preprocessing import PolynomialFeatures\n",
    "from sklearn.linear_model import Ridge\n",
    "from sklearn.pipeline import Pipeline\n",
    "\n",
    "# Applying Ridge Regularization\n",
    "\n",
    "steps = [('poly',PolynomialFeatures(degree=3)),('model',Ridge(alpha=0.08,fit_intercept=True))]\n",
    "ridge_pipe = Pipeline(steps)\n",
    "ridge_pipe.fit(X_train,y_train)\n",
    "y_p = ridge_pipe.predict(X_test)\n",
    "\n",
    "print(\"\\nTraining Score :\",ridge_pipe.score(X_train,y_train)*100)\n",
    "print(\"\\nTesting Score :\",ridge_pipe.score(X_test,y_test)*100)\n",
    "\n",
    "\n",
    "from sklearn.metrics import mean_squared_error\n",
    "mse = mean_squared_error(y_test,y_p)\n",
    "print('\\nMSE values : {}'.format(mse))\n",
    "rmse = mse**.5\n",
    "print('\\nRMSE values : {}'.format(rmse))\n",
    "    \n",
    "from sklearn.metrics import r2_score \n",
    "\n",
    "score = r2_score(y_test, y_p)\n",
    "if ((score*100)<0):\n",
    "    print(\"\\nInaccurate model for regression problem\\n\")\n",
    "else:\n",
    "    print(\"\\nR2 for Random Forest Regressor : {}\\n\".format(score*100))\n",
    "    print('The VIF value is : {}\\n'.format(1/(1-score)))"
   ]
  },
  {
   "cell_type": "code",
   "execution_count": 97,
   "id": "ec89ffc0",
   "metadata": {},
   "outputs": [
    {
     "name": "stdout",
     "output_type": "stream",
     "text": [
      "Feature Ranking:\n",
      "0. Features 5 (0.544048)\n",
      "1. Features 7 (0.268462)\n",
      "2. Features 0 (0.056744)\n",
      "3. Features 3 (0.046568)\n",
      "4. Features 1 (0.039026)\n",
      "5. Features 2 (0.021055)\n",
      "6. Features 4 (0.012940)\n",
      "7. Features 6 (0.011157)\n"
     ]
    }
   ],
   "source": [
    "importances = regressor.feature_importances_\n",
    "std = np.std([tree.feature_importances_ for tree in regressor.estimators_], axis = 0)\n",
    "\n",
    "indices = np.argsort(importances)[::-1]\n",
    "\n",
    "print('Feature Ranking:')\n",
    "\n",
    "for f in range(X.shape[1]):\n",
    "    print('%d. Features %d (%f)'% (f, indices[f], importances[indices[f]]))"
   ]
  },
  {
   "cell_type": "code",
   "execution_count": 98,
   "id": "82c189dd",
   "metadata": {},
   "outputs": [
    {
     "name": "stdout",
     "output_type": "stream",
     "text": [
      "<class 'pandas.core.frame.DataFrame'>\n",
      "RangeIndex: 9994 entries, 0 to 9993\n",
      "Data columns (total 9 columns):\n",
      " #   Column        Non-Null Count  Dtype  \n",
      "---  ------        --------------  -----  \n",
      " 0   Order Date    9994 non-null   int32  \n",
      " 1   City          9994 non-null   int32  \n",
      " 2   Postal Code   9994 non-null   int64  \n",
      " 3   Sub-Category  9994 non-null   int32  \n",
      " 4   Product Name  9994 non-null   int32  \n",
      " 5   Sales         9994 non-null   float64\n",
      " 6   Quantity      9994 non-null   int64  \n",
      " 7   Discount      9994 non-null   float64\n",
      " 8   Profit        9994 non-null   float64\n",
      "dtypes: float64(3), int32(4), int64(2)\n",
      "memory usage: 546.7 KB\n"
     ]
    }
   ],
   "source": [
    "data.info()"
   ]
  },
  {
   "cell_type": "code",
   "execution_count": 100,
   "id": "3f45d9e0",
   "metadata": {},
   "outputs": [
    {
     "data": {
      "text/plain": [
       "{'max_depth': 10,\n",
       " 'min_impurity_decrease': 12,\n",
       " 'n_estimators': 5,\n",
       " 'n_jobs': -1,\n",
       " 'random_state': 0}"
      ]
     },
     "execution_count": 100,
     "metadata": {},
     "output_type": "execute_result"
    }
   ],
   "source": [
    "# Try Using GridCV\n",
    "\n",
    "from sklearn.model_selection import GridSearchCV\n",
    "param_grid = { \n",
    "    'n_estimators': [5,7,12,20,25,30,35],\n",
    "    'max_depth' : [7,8,6,9,10],\n",
    "    'min_impurity_decrease':[5,8,9,12],\n",
    "    'n_jobs':[0,-1],\n",
    "    'random_state':[0,1,42]\n",
    "}\n",
    "\n",
    "CV_rfc = GridSearchCV(estimator= regressor, param_grid=param_grid, cv= 3)\n",
    "CV_rfc.fit(X_train, y_train)\n",
    "CV_rfc.best_params_"
   ]
  },
  {
   "cell_type": "code",
   "execution_count": null,
   "id": "fecdbd9a",
   "metadata": {},
   "outputs": [],
   "source": []
  }
 ],
 "metadata": {
  "kernelspec": {
   "display_name": "Python 3 (ipykernel)",
   "language": "python",
   "name": "python3"
  },
  "language_info": {
   "codemirror_mode": {
    "name": "ipython",
    "version": 3
   },
   "file_extension": ".py",
   "mimetype": "text/x-python",
   "name": "python",
   "nbconvert_exporter": "python",
   "pygments_lexer": "ipython3",
   "version": "3.9.12"
  }
 },
 "nbformat": 4,
 "nbformat_minor": 5
}
