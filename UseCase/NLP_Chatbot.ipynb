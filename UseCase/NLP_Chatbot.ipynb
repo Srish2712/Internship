{
 "cells": [
  {
   "cell_type": "code",
   "execution_count": null,
   "id": "0c4b1f0d",
   "metadata": {},
   "outputs": [],
   "source": [
    "import pickle\n",
    "import numpy as np"
   ]
  },
  {
   "cell_type": "code",
   "execution_count": null,
   "id": "0bc08747",
   "metadata": {},
   "outputs": [],
   "source": [
    "with open('C:/Users/RW565TZ/Practice/train_qa.txt','rb') as f:\n",
    "    train_data=pickle.load(f)"
   ]
  },
  {
   "cell_type": "code",
   "execution_count": null,
   "id": "d90e7ccc",
   "metadata": {},
   "outputs": [],
   "source": [
    "with open('C:/Users/RW565TZ/Practice/test_qa.txt','rb') as f:\n",
    "    test_data=pickle.load(f)"
   ]
  },
  {
   "cell_type": "code",
   "execution_count": null,
   "id": "df98b3d7",
   "metadata": {},
   "outputs": [],
   "source": [
    "type(test_data)"
   ]
  },
  {
   "cell_type": "code",
   "execution_count": null,
   "id": "6a21d656",
   "metadata": {},
   "outputs": [],
   "source": [
    "type(train_data)"
   ]
  },
  {
   "cell_type": "code",
   "execution_count": null,
   "id": "e86dd1c1",
   "metadata": {},
   "outputs": [],
   "source": [
    "len(train_data)"
   ]
  },
  {
   "cell_type": "code",
   "execution_count": null,
   "id": "7da2dcc9",
   "metadata": {},
   "outputs": [],
   "source": [
    "len(test_data)"
   ]
  },
  {
   "cell_type": "code",
   "execution_count": null,
   "id": "3032ea0d",
   "metadata": {},
   "outputs": [],
   "source": [
    "train_data[0]"
   ]
  },
  {
   "cell_type": "code",
   "execution_count": null,
   "id": "635bdd79",
   "metadata": {},
   "outputs": [],
   "source": [
    "' '.join(train_data[0][0])"
   ]
  },
  {
   "cell_type": "code",
   "execution_count": null,
   "id": "12f6967f",
   "metadata": {},
   "outputs": [],
   "source": [
    "' '.join(train_data[0][1])"
   ]
  },
  {
   "cell_type": "code",
   "execution_count": null,
   "id": "fb177204",
   "metadata": {},
   "outputs": [],
   "source": [
    "train_data[0][2]"
   ]
  },
  {
   "cell_type": "code",
   "execution_count": null,
   "id": "159ba736",
   "metadata": {},
   "outputs": [],
   "source": [
    "all_data=test_data +train_data"
   ]
  },
  {
   "cell_type": "code",
   "execution_count": null,
   "id": "8c344203",
   "metadata": {},
   "outputs": [],
   "source": [
    "len(all_data)"
   ]
  },
  {
   "cell_type": "code",
   "execution_count": null,
   "id": "e9379f50",
   "metadata": {},
   "outputs": [],
   "source": [
    "vocab=set()\n",
    "\n",
    "for story,question,answer in all_data:\n",
    "    vocab =vocab.union(set(story))\n",
    "    vocab =vocab.union(set(question))"
   ]
  },
  {
   "cell_type": "code",
   "execution_count": null,
   "id": "42dcadeb",
   "metadata": {},
   "outputs": [],
   "source": [
    "vocab.add('no')"
   ]
  },
  {
   "cell_type": "code",
   "execution_count": null,
   "id": "32bcebc7",
   "metadata": {},
   "outputs": [],
   "source": [
    "vocab.add('yes')"
   ]
  },
  {
   "cell_type": "code",
   "execution_count": null,
   "id": "cde6270d",
   "metadata": {},
   "outputs": [],
   "source": [
    "vocab"
   ]
  },
  {
   "cell_type": "code",
   "execution_count": null,
   "id": "21533c0a",
   "metadata": {},
   "outputs": [],
   "source": [
    "vocab_len = len(vocab)+1"
   ]
  },
  {
   "cell_type": "code",
   "execution_count": null,
   "id": "e30798ff",
   "metadata": {},
   "outputs": [],
   "source": [
    "vocab_len"
   ]
  },
  {
   "cell_type": "code",
   "execution_count": null,
   "id": "650835b5",
   "metadata": {},
   "outputs": [],
   "source": [
    "# Longest story\n",
    "\n",
    "all_story_lens = [len(data[0]) for data in all_data]"
   ]
  },
  {
   "cell_type": "code",
   "execution_count": null,
   "id": "a96bed62",
   "metadata": {},
   "outputs": [],
   "source": [
    "max(all_story_lens)"
   ]
  },
  {
   "cell_type": "code",
   "execution_count": null,
   "id": "d3d555bd",
   "metadata": {},
   "outputs": [],
   "source": [
    "max_story_len = max(all_story_lens)"
   ]
  },
  {
   "cell_type": "code",
   "execution_count": null,
   "id": "f7e3ca48",
   "metadata": {},
   "outputs": [],
   "source": [
    "max_question_len = max([len(data[1]) for data in all_data])"
   ]
  },
  {
   "cell_type": "code",
   "execution_count": null,
   "id": "a49c8c41",
   "metadata": {},
   "outputs": [],
   "source": [
    "max_question_len"
   ]
  },
  {
   "cell_type": "code",
   "execution_count": null,
   "id": "daec53f5",
   "metadata": {},
   "outputs": [],
   "source": [
    "from keras.preprocessing.text import Tokenizer\n",
    "from keras_preprocessing.sequence import pad_sequences"
   ]
  },
  {
   "cell_type": "code",
   "execution_count": null,
   "id": "0ee92ca1",
   "metadata": {},
   "outputs": [],
   "source": [
    "tokenizer=Tokenizer(filters=[])\n",
    "tokenizer.fit_on_texts(vocab)"
   ]
  },
  {
   "cell_type": "code",
   "execution_count": null,
   "id": "e7f8bd93",
   "metadata": {},
   "outputs": [],
   "source": [
    "tokenizer.word_index"
   ]
  },
  {
   "cell_type": "code",
   "execution_count": null,
   "id": "b0133169",
   "metadata": {},
   "outputs": [],
   "source": [
    "train_story_text=[]\n",
    "train_question_text=[]\n",
    "train_answer_text=[]"
   ]
  },
  {
   "cell_type": "code",
   "execution_count": null,
   "id": "09bd719c",
   "metadata": {},
   "outputs": [],
   "source": [
    "for story,question,answer in train_data:\n",
    "    train_story_text.append(story)\n",
    "    train_question_text.append(question)\n",
    "    train_answer_text.append(answer)"
   ]
  },
  {
   "cell_type": "code",
   "execution_count": null,
   "id": "d281e267",
   "metadata": {},
   "outputs": [],
   "source": [
    "train_story_seq = tokenizer.texts_to_sequences(train_story_text)"
   ]
  },
  {
   "cell_type": "code",
   "execution_count": null,
   "id": "0bcab0b4",
   "metadata": {},
   "outputs": [],
   "source": [
    "def vectorize_stories(data,word_index=tokenizer.word_index,max_story_len=max_story_len,max_question_len=max_question_len):\n",
    "    # Story X\n",
    "    X=[]\n",
    "    # Question Xq\n",
    "    Xq=[]\n",
    "    # Answer y\n",
    "    Y=[]\n",
    "    \n",
    "    for story,query,answer in data:\n",
    "        # Create list for story\n",
    "        x = [word_index[word.lower()] for word in story]\n",
    "        xq = [word_index[word.lower()] for word in query]\n",
    "        y = np.zeros(len(word_index)+1)\n",
    "        \n",
    "        y[word_index[answer]]=1\n",
    "        \n",
    "        X.append(x)\n",
    "        Xq.append(xq)\n",
    "        Y.append(y)\n",
    "    \n",
    "    return (pad_sequences(X,maxlen=max_story_len),pad_sequences(Xq,maxlen=max_question_len),np.array(Y))"
   ]
  },
  {
   "cell_type": "code",
   "execution_count": null,
   "id": "cd761b67",
   "metadata": {},
   "outputs": [],
   "source": [
    "inputs_train,queries_train,answers_train = vectorize_stories(train_data)"
   ]
  },
  {
   "cell_type": "code",
   "execution_count": null,
   "id": "f0b27b7f",
   "metadata": {},
   "outputs": [],
   "source": [
    "inputs_test,queries_test,answers_test = vectorize_stories(test_data)"
   ]
  },
  {
   "cell_type": "code",
   "execution_count": null,
   "id": "f476a9c9",
   "metadata": {},
   "outputs": [],
   "source": [
    "tokenizer.word_index['yes']"
   ]
  },
  {
   "cell_type": "code",
   "execution_count": null,
   "id": "7a93f30e",
   "metadata": {},
   "outputs": [],
   "source": [
    "tokenizer.word_index['no']"
   ]
  },
  {
   "cell_type": "code",
   "execution_count": null,
   "id": "c956e952",
   "metadata": {},
   "outputs": [],
   "source": [
    "sum(answers_test)"
   ]
  },
  {
   "cell_type": "code",
   "execution_count": null,
   "id": "d698e19a",
   "metadata": {},
   "outputs": [],
   "source": [
    "from keras.models import Sequential,Model\n",
    "from keras.layers import Embedding\n",
    "from keras.layers import Input,Activation,Dense,Permute,Dropout,add,dot,concatenate"
   ]
  },
  {
   "cell_type": "code",
   "execution_count": null,
   "id": "66cc90b6",
   "metadata": {},
   "outputs": [],
   "source": [
    "input_seq = Input((max_story_len,))\n",
    "question = Input((max_question_len,))"
   ]
  },
  {
   "cell_type": "code",
   "execution_count": null,
   "id": "0bdb5d66",
   "metadata": {},
   "outputs": [],
   "source": [
    "vocab_size =len(vocab)+1"
   ]
  },
  {
   "cell_type": "code",
   "execution_count": null,
   "id": "b45509d7",
   "metadata": {},
   "outputs": [],
   "source": [
    "# Input encoder m\n",
    "\n",
    "input_encoder_m = Sequential()\n",
    "input_encoder_m.add(Embedding(input_dim=vocab_size,output_dim=64))\n",
    "input_encoder_m.add(Dropout(0.3))"
   ]
  },
  {
   "cell_type": "code",
   "execution_count": null,
   "id": "d70fbd0e",
   "metadata": {},
   "outputs": [],
   "source": [
    "input_encoder_m"
   ]
  },
  {
   "cell_type": "code",
   "execution_count": null,
   "id": "5a3caf10",
   "metadata": {},
   "outputs": [],
   "source": [
    "# Question input encoder c\n",
    "\n",
    "input_encoder_c = Sequential()\n",
    "input_encoder_c.add(Embedding(input_dim=vocab_size,output_dim=max_question_len))\n",
    "input_encoder_c.add(Dropout(0.3))"
   ]
  },
  {
   "cell_type": "code",
   "execution_count": null,
   "id": "791aef67",
   "metadata": {},
   "outputs": [],
   "source": [
    "input_encoder_c"
   ]
  },
  {
   "cell_type": "code",
   "execution_count": null,
   "id": "0edf9cc9",
   "metadata": {},
   "outputs": [],
   "source": [
    "# Question encoder\n",
    "question_encoder = Sequential()\n",
    "question_encoder.add(Embedding(input_dim=vocab_size,output_dim=64,input_length=max_question_len))\n",
    "question_encoder.add(Dropout(0.3))"
   ]
  },
  {
   "cell_type": "code",
   "execution_count": null,
   "id": "696f8a36",
   "metadata": {},
   "outputs": [],
   "source": [
    "input_encoded_m = input_encoder_m(input_seq)\n",
    "input_encoded_c = input_encoder_c(input_seq)\n",
    "question_encoded =question_encoder(question)"
   ]
  },
  {
   "cell_type": "code",
   "execution_count": null,
   "id": "c1de1677",
   "metadata": {},
   "outputs": [],
   "source": [
    "match = dot([input_encoded_m,question_encoded],axes=(2,2))\n",
    "match=Activation('softmax')(match)"
   ]
  },
  {
   "cell_type": "code",
   "execution_count": null,
   "id": "fb26a5ac",
   "metadata": {},
   "outputs": [],
   "source": [
    "response = add([match,input_encoded_c])\n",
    "response=Permute((2,1))(response)"
   ]
  },
  {
   "cell_type": "code",
   "execution_count": null,
   "id": "b2b970fd",
   "metadata": {},
   "outputs": [],
   "source": [
    "answer = concatenate([response,question_encoded])"
   ]
  },
  {
   "cell_type": "code",
   "execution_count": null,
   "id": "f47afc89",
   "metadata": {},
   "outputs": [],
   "source": [
    "answer"
   ]
  },
  {
   "cell_type": "code",
   "execution_count": null,
   "id": "dae43705",
   "metadata": {},
   "outputs": [],
   "source": [
    "from tensorflow.keras.layers import LSTM\n",
    "answer = LSTM(32)(answer)"
   ]
  },
  {
   "cell_type": "code",
   "execution_count": null,
   "id": "6964f5bf",
   "metadata": {},
   "outputs": [],
   "source": [
    "answer=Dropout(0.5)(answer)\n",
    "answer = Dense(vocab_size)(answer)"
   ]
  },
  {
   "cell_type": "code",
   "execution_count": null,
   "id": "ac7dd208",
   "metadata": {},
   "outputs": [],
   "source": [
    "answer = Activation('softmax')(answer)\n",
    "model = Model([input_seq,question],answer)"
   ]
  },
  {
   "cell_type": "code",
   "execution_count": null,
   "id": "02cdd138",
   "metadata": {},
   "outputs": [],
   "source": [
    "model.compile(optimizer='rmsprop',loss='categorical_crossentropy',metrics=['accuracy'])"
   ]
  },
  {
   "cell_type": "code",
   "execution_count": null,
   "id": "d41cb292",
   "metadata": {},
   "outputs": [],
   "source": [
    "model.summary()"
   ]
  },
  {
   "cell_type": "code",
   "execution_count": null,
   "id": "26fcb4d5",
   "metadata": {},
   "outputs": [],
   "source": [
    "history = model.fit([inputs_train, queries_train], answers_train,batch_size=32,epochs=50,validation_data=([inputs_test, queries_test], answers_test))\n"
   ]
  },
  {
   "cell_type": "code",
   "execution_count": null,
   "id": "7d286e2b",
   "metadata": {},
   "outputs": [],
   "source": [
    "import matplotlib.pyplot as plt\n",
    "%matplotlib inline\n",
    "print(history.history.keys())\n",
    "\n",
    "# summarize history for accuracy\n",
    "plt.plot(history.history['accuracy'])\n",
    "plt.plot(history.history['val_accuracy'])\n",
    "plt.title('Model Accuracy')\n",
    "plt.ylabel('accuracy')\n",
    "plt.xlabel('epoch')\n",
    "plt.legend(['train', 'test'], loc='upper left')\n",
    "plt.show()"
   ]
  },
  {
   "cell_type": "code",
   "execution_count": null,
   "id": "6462b833",
   "metadata": {},
   "outputs": [],
   "source": [
    "pred_results = model.predict(([inputs_test,queries_test]))\n",
    "\n",
    "val_max = np.argmax(pred_results[0])"
   ]
  },
  {
   "cell_type": "code",
   "execution_count": null,
   "id": "7df46daa",
   "metadata": {},
   "outputs": [],
   "source": [
    "for key,val in tokenizer.word_index.items():\n",
    "    if val==val_max:\n",
    "        k = key"
   ]
  },
  {
   "cell_type": "code",
   "execution_count": null,
   "id": "c7da2e3a",
   "metadata": {},
   "outputs": [],
   "source": [
    "k"
   ]
  },
  {
   "cell_type": "code",
   "execution_count": null,
   "id": "3b858579",
   "metadata": {},
   "outputs": [],
   "source": [
    "pred_results[0][val_max]"
   ]
  },
  {
   "cell_type": "code",
   "execution_count": null,
   "id": "269a2730",
   "metadata": {},
   "outputs": [],
   "source": [
    "my_story = 'John left the kitchen. Sandra dropped the football in the garden'"
   ]
  },
  {
   "cell_type": "code",
   "execution_count": null,
   "id": "b4ca7bc4",
   "metadata": {},
   "outputs": [],
   "source": [
    "my_story.split()"
   ]
  },
  {
   "cell_type": "code",
   "execution_count": null,
   "id": "2b19f3be",
   "metadata": {},
   "outputs": [],
   "source": [
    "my_question = ' Is the football in the garden'\n",
    "my_question.split()"
   ]
  },
  {
   "cell_type": "code",
   "execution_count": null,
   "id": "c195dba3",
   "metadata": {},
   "outputs": [],
   "source": [
    "mydata = ([my_story.split(),my_question.split(),'yes'])"
   ]
  },
  {
   "cell_type": "code",
   "execution_count": null,
   "id": "ce6e2f44",
   "metadata": {},
   "outputs": [],
   "source": [
    "mydata"
   ]
  },
  {
   "cell_type": "code",
   "execution_count": null,
   "id": "5d9d80a5",
   "metadata": {},
   "outputs": [],
   "source": [
    "my_story,my_ques,my_ans = vectorize_stories(mydata)"
   ]
  },
  {
   "cell_type": "code",
   "execution_count": null,
   "id": "af2e6fc0",
   "metadata": {},
   "outputs": [],
   "source": [
    "pred_results = model.predict(([my_story,my_ques]))\n",
    "\n",
    "val_max = np.argmax(pred_results[0])"
   ]
  },
  {
   "cell_type": "code",
   "execution_count": null,
   "id": "55148920",
   "metadata": {},
   "outputs": [],
   "source": [
    "for key,val in tokenizer.word_index.items():\n",
    "    if val==val_max:\n",
    "        k = key"
   ]
  },
  {
   "cell_type": "code",
   "execution_count": null,
   "id": "f9d6d85e",
   "metadata": {},
   "outputs": [],
   "source": [
    "k"
   ]
  },
  {
   "cell_type": "code",
   "execution_count": null,
   "id": "681bc1f2",
   "metadata": {},
   "outputs": [],
   "source": [
    "pred_results[0][val_max]"
   ]
  }
 ],
 "metadata": {
  "kernelspec": {
   "display_name": "Python 3 (ipykernel)",
   "language": "python",
   "name": "python3"
  },
  "language_info": {
   "codemirror_mode": {
    "name": "ipython",
    "version": 3
   },
   "file_extension": ".py",
   "mimetype": "text/x-python",
   "name": "python",
   "nbconvert_exporter": "python",
   "pygments_lexer": "ipython3",
   "version": "3.9.12"
  }
 },
 "nbformat": 4,
 "nbformat_minor": 5
}
