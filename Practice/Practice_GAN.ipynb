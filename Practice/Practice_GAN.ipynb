{
 "cells": [
  {
   "cell_type": "code",
   "execution_count": 8,
   "id": "984f1efa",
   "metadata": {},
   "outputs": [],
   "source": [
    "import numpy as np\n",
    "import pandas as pd\n",
    "import matplotlib.pyplot as plt\n",
    "import sys,os\n",
    "import tensorflow\n",
    "\n",
    "from tensorflow.keras.layers import Input,Dense,LeakyReLU,Dropout,BatchNormalization\n",
    "from tensorflow.keras.models import Model\n",
    "from tensorflow.keras.optimizers import SGD,Adam"
   ]
  },
  {
   "cell_type": "code",
   "execution_count": 9,
   "id": "1015d618",
   "metadata": {},
   "outputs": [
    {
     "name": "stdout",
     "output_type": "stream",
     "text": [
      "(60000, 28, 28)\n"
     ]
    }
   ],
   "source": [
    "mnist = tensorflow.keras.datasets.mnist\n",
    "\n",
    "(X_train,y_train),(X_test,y_test) =mnist.load_data()\n",
    "\n",
    "# Map inputs\n",
    "X_train,X_test = X_train/255*2-1,X_test/255*2-1\n",
    "print(X_train.shape)"
   ]
  },
  {
   "cell_type": "code",
   "execution_count": 10,
   "id": "a1128837",
   "metadata": {},
   "outputs": [],
   "source": [
    "# Flatten the data\n",
    "\n",
    "N,H,W = X_train.shape\n",
    "D = H*W\n",
    "X_train = X_train.reshape(-1,D)\n",
    "X_test = X_test.reshape(-1,D)"
   ]
  },
  {
   "cell_type": "code",
   "execution_count": 11,
   "id": "c09a1de4",
   "metadata": {},
   "outputs": [],
   "source": [
    "# Dimensionality of latent space\n",
    "\n",
    "latent_dim = 100"
   ]
  },
  {
   "cell_type": "code",
   "execution_count": 12,
   "id": "c2bd47a7",
   "metadata": {},
   "outputs": [],
   "source": [
    "# Get the generator model\n",
    "\n",
    "def build_generator(latent_dim):\n",
    "    i = Input(shape=(latent_dim,))\n",
    "    x = Dense(256,activation=LeakyReLU(alpha=0.2))(i)\n",
    "    x = BatchNormalization(momentum=0.8)(x)\n",
    "    x = Dense(512,activation=LeakyReLU(alpha=0.2))(x)\n",
    "    x = BatchNormalization(momentum=0.8)(x)\n",
    "    x = Dense(1024,activation=LeakyReLU(alpha=0.2))(i)\n",
    "    x = BatchNormalization(momentum=0.8)(x)\n",
    "    x = Dense(D,activation='tanh')(x)\n",
    "    \n",
    "    model = Model(i,x)\n",
    "    return model"
   ]
  },
  {
   "cell_type": "code",
   "execution_count": 13,
   "id": "7afcf0f2",
   "metadata": {},
   "outputs": [],
   "source": [
    "def build_discriminator(latent_dim):\n",
    "    i = Input(shape=(latent_dim,))\n",
    "    x = Dense(256,activation=LeakyReLU(alpha=0.2))(i)\n",
    "    x = BatchNormalization(momentum=0.8)(x)\n",
    "    x = Dense(512,activation=LeakyReLU(alpha=0.2))(x)\n",
    "    x = BatchNormalization(momentum=0.8)(x)\n",
    "    x = Dense(1024,activation=LeakyReLU(alpha=0.2))(i)\n",
    "    x = BatchNormalization(momentum=0.8)(x)\n",
    "    x = Dense(D,activation='tanh')(x)\n",
    "    \n",
    "    model = Model(i,x)\n",
    "    return model"
   ]
  },
  {
   "cell_type": "code",
   "execution_count": 14,
   "id": "e557a0d7",
   "metadata": {},
   "outputs": [],
   "source": [
    "# Compile both models in prep for training\n",
    "\n",
    "# Building and compiling the discriminator\n",
    "\n",
    "discriminator=build_discriminator(D)\n",
    "discriminator.compile(loss='binary_crossentropy',optimizer=Adam(0.0002,0.5),metrics=['accuracy'])\n",
    "\n",
    "# Build and compile model\n",
    "generator = build_generator(latent_dim)\n"
   ]
  },
  {
   "cell_type": "code",
   "execution_count": null,
   "id": "136ce696",
   "metadata": {},
   "outputs": [],
   "source": []
  }
 ],
 "metadata": {
  "kernelspec": {
   "display_name": "Python 3 (ipykernel)",
   "language": "python",
   "name": "python3"
  },
  "language_info": {
   "codemirror_mode": {
    "name": "ipython",
    "version": 3
   },
   "file_extension": ".py",
   "mimetype": "text/x-python",
   "name": "python",
   "nbconvert_exporter": "python",
   "pygments_lexer": "ipython3",
   "version": "3.9.12"
  }
 },
 "nbformat": 4,
 "nbformat_minor": 5
}
