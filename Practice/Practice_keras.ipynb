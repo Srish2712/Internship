{
 "cells": [
  {
   "cell_type": "code",
   "execution_count": 1,
   "id": "c06c9872",
   "metadata": {},
   "outputs": [],
   "source": [
    "import numpy as np\n",
    "import pandas as pd\n",
    "\n",
    "import warnings\n",
    "warnings.filterwarnings('ignore')"
   ]
  },
  {
   "cell_type": "code",
   "execution_count": 2,
   "id": "78eddc72",
   "metadata": {},
   "outputs": [],
   "source": [
    "from sklearn.datasets import load_iris"
   ]
  },
  {
   "cell_type": "code",
   "execution_count": 3,
   "id": "6d3d46c8",
   "metadata": {},
   "outputs": [],
   "source": [
    "iris = load_iris()"
   ]
  },
  {
   "cell_type": "code",
   "execution_count": 4,
   "id": "e48dd5d4",
   "metadata": {},
   "outputs": [
    {
     "data": {
      "text/plain": [
       "sklearn.utils.Bunch"
      ]
     },
     "execution_count": 4,
     "metadata": {},
     "output_type": "execute_result"
    }
   ],
   "source": [
    "type(iris)"
   ]
  },
  {
   "cell_type": "code",
   "execution_count": 5,
   "id": "2731c8b6",
   "metadata": {},
   "outputs": [
    {
     "name": "stdout",
     "output_type": "stream",
     "text": [
      ".. _iris_dataset:\n",
      "\n",
      "Iris plants dataset\n",
      "--------------------\n",
      "\n",
      "**Data Set Characteristics:**\n",
      "\n",
      "    :Number of Instances: 150 (50 in each of three classes)\n",
      "    :Number of Attributes: 4 numeric, predictive attributes and the class\n",
      "    :Attribute Information:\n",
      "        - sepal length in cm\n",
      "        - sepal width in cm\n",
      "        - petal length in cm\n",
      "        - petal width in cm\n",
      "        - class:\n",
      "                - Iris-Setosa\n",
      "                - Iris-Versicolour\n",
      "                - Iris-Virginica\n",
      "                \n",
      "    :Summary Statistics:\n",
      "\n",
      "    ============== ==== ==== ======= ===== ====================\n",
      "                    Min  Max   Mean    SD   Class Correlation\n",
      "    ============== ==== ==== ======= ===== ====================\n",
      "    sepal length:   4.3  7.9   5.84   0.83    0.7826\n",
      "    sepal width:    2.0  4.4   3.05   0.43   -0.4194\n",
      "    petal length:   1.0  6.9   3.76   1.76    0.9490  (high!)\n",
      "    petal width:    0.1  2.5   1.20   0.76    0.9565  (high!)\n",
      "    ============== ==== ==== ======= ===== ====================\n",
      "\n",
      "    :Missing Attribute Values: None\n",
      "    :Class Distribution: 33.3% for each of 3 classes.\n",
      "    :Creator: R.A. Fisher\n",
      "    :Donor: Michael Marshall (MARSHALL%PLU@io.arc.nasa.gov)\n",
      "    :Date: July, 1988\n",
      "\n",
      "The famous Iris database, first used by Sir R.A. Fisher. The dataset is taken\n",
      "from Fisher's paper. Note that it's the same as in R, but not as in the UCI\n",
      "Machine Learning Repository, which has two wrong data points.\n",
      "\n",
      "This is perhaps the best known database to be found in the\n",
      "pattern recognition literature.  Fisher's paper is a classic in the field and\n",
      "is referenced frequently to this day.  (See Duda & Hart, for example.)  The\n",
      "data set contains 3 classes of 50 instances each, where each class refers to a\n",
      "type of iris plant.  One class is linearly separable from the other 2; the\n",
      "latter are NOT linearly separable from each other.\n",
      "\n",
      ".. topic:: References\n",
      "\n",
      "   - Fisher, R.A. \"The use of multiple measurements in taxonomic problems\"\n",
      "     Annual Eugenics, 7, Part II, 179-188 (1936); also in \"Contributions to\n",
      "     Mathematical Statistics\" (John Wiley, NY, 1950).\n",
      "   - Duda, R.O., & Hart, P.E. (1973) Pattern Classification and Scene Analysis.\n",
      "     (Q327.D83) John Wiley & Sons.  ISBN 0-471-22361-1.  See page 218.\n",
      "   - Dasarathy, B.V. (1980) \"Nosing Around the Neighborhood: A New System\n",
      "     Structure and Classification Rule for Recognition in Partially Exposed\n",
      "     Environments\".  IEEE Transactions on Pattern Analysis and Machine\n",
      "     Intelligence, Vol. PAMI-2, No. 1, 67-71.\n",
      "   - Gates, G.W. (1972) \"The Reduced Nearest Neighbor Rule\".  IEEE Transactions\n",
      "     on Information Theory, May 1972, 431-433.\n",
      "   - See also: 1988 MLC Proceedings, 54-64.  Cheeseman et al\"s AUTOCLASS II\n",
      "     conceptual clustering system finds 3 classes in the data.\n",
      "   - Many, many more ...\n"
     ]
    }
   ],
   "source": [
    "print(iris.DESCR)"
   ]
  },
  {
   "cell_type": "code",
   "execution_count": 6,
   "id": "89cb94ba",
   "metadata": {},
   "outputs": [],
   "source": [
    "X=iris.data"
   ]
  },
  {
   "cell_type": "code",
   "execution_count": 7,
   "id": "dfbe1d6d",
   "metadata": {},
   "outputs": [],
   "source": [
    "y=iris.target"
   ]
  },
  {
   "cell_type": "code",
   "execution_count": 8,
   "id": "4882be8c",
   "metadata": {},
   "outputs": [
    {
     "data": {
      "text/plain": [
       "array([[5.1, 3.5, 1.4, 0.2],\n",
       "       [4.9, 3. , 1.4, 0.2],\n",
       "       [4.7, 3.2, 1.3, 0.2],\n",
       "       [4.6, 3.1, 1.5, 0.2],\n",
       "       [5. , 3.6, 1.4, 0.2],\n",
       "       [5.4, 3.9, 1.7, 0.4],\n",
       "       [4.6, 3.4, 1.4, 0.3],\n",
       "       [5. , 3.4, 1.5, 0.2],\n",
       "       [4.4, 2.9, 1.4, 0.2],\n",
       "       [4.9, 3.1, 1.5, 0.1],\n",
       "       [5.4, 3.7, 1.5, 0.2],\n",
       "       [4.8, 3.4, 1.6, 0.2],\n",
       "       [4.8, 3. , 1.4, 0.1],\n",
       "       [4.3, 3. , 1.1, 0.1],\n",
       "       [5.8, 4. , 1.2, 0.2],\n",
       "       [5.7, 4.4, 1.5, 0.4],\n",
       "       [5.4, 3.9, 1.3, 0.4],\n",
       "       [5.1, 3.5, 1.4, 0.3],\n",
       "       [5.7, 3.8, 1.7, 0.3],\n",
       "       [5.1, 3.8, 1.5, 0.3],\n",
       "       [5.4, 3.4, 1.7, 0.2],\n",
       "       [5.1, 3.7, 1.5, 0.4],\n",
       "       [4.6, 3.6, 1. , 0.2],\n",
       "       [5.1, 3.3, 1.7, 0.5],\n",
       "       [4.8, 3.4, 1.9, 0.2],\n",
       "       [5. , 3. , 1.6, 0.2],\n",
       "       [5. , 3.4, 1.6, 0.4],\n",
       "       [5.2, 3.5, 1.5, 0.2],\n",
       "       [5.2, 3.4, 1.4, 0.2],\n",
       "       [4.7, 3.2, 1.6, 0.2],\n",
       "       [4.8, 3.1, 1.6, 0.2],\n",
       "       [5.4, 3.4, 1.5, 0.4],\n",
       "       [5.2, 4.1, 1.5, 0.1],\n",
       "       [5.5, 4.2, 1.4, 0.2],\n",
       "       [4.9, 3.1, 1.5, 0.2],\n",
       "       [5. , 3.2, 1.2, 0.2],\n",
       "       [5.5, 3.5, 1.3, 0.2],\n",
       "       [4.9, 3.6, 1.4, 0.1],\n",
       "       [4.4, 3. , 1.3, 0.2],\n",
       "       [5.1, 3.4, 1.5, 0.2],\n",
       "       [5. , 3.5, 1.3, 0.3],\n",
       "       [4.5, 2.3, 1.3, 0.3],\n",
       "       [4.4, 3.2, 1.3, 0.2],\n",
       "       [5. , 3.5, 1.6, 0.6],\n",
       "       [5.1, 3.8, 1.9, 0.4],\n",
       "       [4.8, 3. , 1.4, 0.3],\n",
       "       [5.1, 3.8, 1.6, 0.2],\n",
       "       [4.6, 3.2, 1.4, 0.2],\n",
       "       [5.3, 3.7, 1.5, 0.2],\n",
       "       [5. , 3.3, 1.4, 0.2],\n",
       "       [7. , 3.2, 4.7, 1.4],\n",
       "       [6.4, 3.2, 4.5, 1.5],\n",
       "       [6.9, 3.1, 4.9, 1.5],\n",
       "       [5.5, 2.3, 4. , 1.3],\n",
       "       [6.5, 2.8, 4.6, 1.5],\n",
       "       [5.7, 2.8, 4.5, 1.3],\n",
       "       [6.3, 3.3, 4.7, 1.6],\n",
       "       [4.9, 2.4, 3.3, 1. ],\n",
       "       [6.6, 2.9, 4.6, 1.3],\n",
       "       [5.2, 2.7, 3.9, 1.4],\n",
       "       [5. , 2. , 3.5, 1. ],\n",
       "       [5.9, 3. , 4.2, 1.5],\n",
       "       [6. , 2.2, 4. , 1. ],\n",
       "       [6.1, 2.9, 4.7, 1.4],\n",
       "       [5.6, 2.9, 3.6, 1.3],\n",
       "       [6.7, 3.1, 4.4, 1.4],\n",
       "       [5.6, 3. , 4.5, 1.5],\n",
       "       [5.8, 2.7, 4.1, 1. ],\n",
       "       [6.2, 2.2, 4.5, 1.5],\n",
       "       [5.6, 2.5, 3.9, 1.1],\n",
       "       [5.9, 3.2, 4.8, 1.8],\n",
       "       [6.1, 2.8, 4. , 1.3],\n",
       "       [6.3, 2.5, 4.9, 1.5],\n",
       "       [6.1, 2.8, 4.7, 1.2],\n",
       "       [6.4, 2.9, 4.3, 1.3],\n",
       "       [6.6, 3. , 4.4, 1.4],\n",
       "       [6.8, 2.8, 4.8, 1.4],\n",
       "       [6.7, 3. , 5. , 1.7],\n",
       "       [6. , 2.9, 4.5, 1.5],\n",
       "       [5.7, 2.6, 3.5, 1. ],\n",
       "       [5.5, 2.4, 3.8, 1.1],\n",
       "       [5.5, 2.4, 3.7, 1. ],\n",
       "       [5.8, 2.7, 3.9, 1.2],\n",
       "       [6. , 2.7, 5.1, 1.6],\n",
       "       [5.4, 3. , 4.5, 1.5],\n",
       "       [6. , 3.4, 4.5, 1.6],\n",
       "       [6.7, 3.1, 4.7, 1.5],\n",
       "       [6.3, 2.3, 4.4, 1.3],\n",
       "       [5.6, 3. , 4.1, 1.3],\n",
       "       [5.5, 2.5, 4. , 1.3],\n",
       "       [5.5, 2.6, 4.4, 1.2],\n",
       "       [6.1, 3. , 4.6, 1.4],\n",
       "       [5.8, 2.6, 4. , 1.2],\n",
       "       [5. , 2.3, 3.3, 1. ],\n",
       "       [5.6, 2.7, 4.2, 1.3],\n",
       "       [5.7, 3. , 4.2, 1.2],\n",
       "       [5.7, 2.9, 4.2, 1.3],\n",
       "       [6.2, 2.9, 4.3, 1.3],\n",
       "       [5.1, 2.5, 3. , 1.1],\n",
       "       [5.7, 2.8, 4.1, 1.3],\n",
       "       [6.3, 3.3, 6. , 2.5],\n",
       "       [5.8, 2.7, 5.1, 1.9],\n",
       "       [7.1, 3. , 5.9, 2.1],\n",
       "       [6.3, 2.9, 5.6, 1.8],\n",
       "       [6.5, 3. , 5.8, 2.2],\n",
       "       [7.6, 3. , 6.6, 2.1],\n",
       "       [4.9, 2.5, 4.5, 1.7],\n",
       "       [7.3, 2.9, 6.3, 1.8],\n",
       "       [6.7, 2.5, 5.8, 1.8],\n",
       "       [7.2, 3.6, 6.1, 2.5],\n",
       "       [6.5, 3.2, 5.1, 2. ],\n",
       "       [6.4, 2.7, 5.3, 1.9],\n",
       "       [6.8, 3. , 5.5, 2.1],\n",
       "       [5.7, 2.5, 5. , 2. ],\n",
       "       [5.8, 2.8, 5.1, 2.4],\n",
       "       [6.4, 3.2, 5.3, 2.3],\n",
       "       [6.5, 3. , 5.5, 1.8],\n",
       "       [7.7, 3.8, 6.7, 2.2],\n",
       "       [7.7, 2.6, 6.9, 2.3],\n",
       "       [6. , 2.2, 5. , 1.5],\n",
       "       [6.9, 3.2, 5.7, 2.3],\n",
       "       [5.6, 2.8, 4.9, 2. ],\n",
       "       [7.7, 2.8, 6.7, 2. ],\n",
       "       [6.3, 2.7, 4.9, 1.8],\n",
       "       [6.7, 3.3, 5.7, 2.1],\n",
       "       [7.2, 3.2, 6. , 1.8],\n",
       "       [6.2, 2.8, 4.8, 1.8],\n",
       "       [6.1, 3. , 4.9, 1.8],\n",
       "       [6.4, 2.8, 5.6, 2.1],\n",
       "       [7.2, 3. , 5.8, 1.6],\n",
       "       [7.4, 2.8, 6.1, 1.9],\n",
       "       [7.9, 3.8, 6.4, 2. ],\n",
       "       [6.4, 2.8, 5.6, 2.2],\n",
       "       [6.3, 2.8, 5.1, 1.5],\n",
       "       [6.1, 2.6, 5.6, 1.4],\n",
       "       [7.7, 3. , 6.1, 2.3],\n",
       "       [6.3, 3.4, 5.6, 2.4],\n",
       "       [6.4, 3.1, 5.5, 1.8],\n",
       "       [6. , 3. , 4.8, 1.8],\n",
       "       [6.9, 3.1, 5.4, 2.1],\n",
       "       [6.7, 3.1, 5.6, 2.4],\n",
       "       [6.9, 3.1, 5.1, 2.3],\n",
       "       [5.8, 2.7, 5.1, 1.9],\n",
       "       [6.8, 3.2, 5.9, 2.3],\n",
       "       [6.7, 3.3, 5.7, 2.5],\n",
       "       [6.7, 3. , 5.2, 2.3],\n",
       "       [6.3, 2.5, 5. , 1.9],\n",
       "       [6.5, 3. , 5.2, 2. ],\n",
       "       [6.2, 3.4, 5.4, 2.3],\n",
       "       [5.9, 3. , 5.1, 1.8]])"
      ]
     },
     "execution_count": 8,
     "metadata": {},
     "output_type": "execute_result"
    }
   ],
   "source": [
    "X"
   ]
  },
  {
   "cell_type": "code",
   "execution_count": 9,
   "id": "269da993",
   "metadata": {},
   "outputs": [
    {
     "data": {
      "text/plain": [
       "array([0, 0, 0, 0, 0, 0, 0, 0, 0, 0, 0, 0, 0, 0, 0, 0, 0, 0, 0, 0, 0, 0,\n",
       "       0, 0, 0, 0, 0, 0, 0, 0, 0, 0, 0, 0, 0, 0, 0, 0, 0, 0, 0, 0, 0, 0,\n",
       "       0, 0, 0, 0, 0, 0, 1, 1, 1, 1, 1, 1, 1, 1, 1, 1, 1, 1, 1, 1, 1, 1,\n",
       "       1, 1, 1, 1, 1, 1, 1, 1, 1, 1, 1, 1, 1, 1, 1, 1, 1, 1, 1, 1, 1, 1,\n",
       "       1, 1, 1, 1, 1, 1, 1, 1, 1, 1, 1, 1, 2, 2, 2, 2, 2, 2, 2, 2, 2, 2,\n",
       "       2, 2, 2, 2, 2, 2, 2, 2, 2, 2, 2, 2, 2, 2, 2, 2, 2, 2, 2, 2, 2, 2,\n",
       "       2, 2, 2, 2, 2, 2, 2, 2, 2, 2, 2, 2, 2, 2, 2, 2, 2, 2])"
      ]
     },
     "execution_count": 9,
     "metadata": {},
     "output_type": "execute_result"
    }
   ],
   "source": [
    "y"
   ]
  },
  {
   "cell_type": "code",
   "execution_count": 10,
   "id": "66556de4",
   "metadata": {},
   "outputs": [],
   "source": [
    "from keras.utils import to_categorical"
   ]
  },
  {
   "cell_type": "code",
   "execution_count": 11,
   "id": "f0e513dd",
   "metadata": {},
   "outputs": [],
   "source": [
    "y = to_categorical(y)"
   ]
  },
  {
   "cell_type": "code",
   "execution_count": 12,
   "id": "c4bd3716",
   "metadata": {},
   "outputs": [
    {
     "data": {
      "text/plain": [
       "(150, 3)"
      ]
     },
     "execution_count": 12,
     "metadata": {},
     "output_type": "execute_result"
    }
   ],
   "source": [
    "y.shape"
   ]
  },
  {
   "cell_type": "code",
   "execution_count": 13,
   "id": "a3b74ceb",
   "metadata": {},
   "outputs": [],
   "source": [
    "from sklearn.model_selection import train_test_split\n",
    "\n",
    "X_train, X_test, y_train, y_test = train_test_split(X, y, test_size=0.33, random_state=42)"
   ]
  },
  {
   "cell_type": "code",
   "execution_count": 14,
   "id": "0c25e3d6",
   "metadata": {},
   "outputs": [
    {
     "data": {
      "text/plain": [
       "(100, 4)"
      ]
     },
     "execution_count": 14,
     "metadata": {},
     "output_type": "execute_result"
    }
   ],
   "source": [
    "X_train.shape"
   ]
  },
  {
   "cell_type": "code",
   "execution_count": 15,
   "id": "106565ef",
   "metadata": {},
   "outputs": [
    {
     "data": {
      "text/plain": [
       "(50, 4)"
      ]
     },
     "execution_count": 15,
     "metadata": {},
     "output_type": "execute_result"
    }
   ],
   "source": [
    "X_test.shape"
   ]
  },
  {
   "cell_type": "code",
   "execution_count": 16,
   "id": "0bdcd4bd",
   "metadata": {},
   "outputs": [],
   "source": [
    "from sklearn.preprocessing import MinMaxScaler\n",
    "\n",
    "scaler_object = MinMaxScaler()\n",
    "scaler_object.fit(X_train)\n",
    "scaled_X_train = scaler_object.transform(X_train)\n",
    "scaled_X_test = scaler_object.transform(X_test)"
   ]
  },
  {
   "cell_type": "code",
   "execution_count": 17,
   "id": "613f5cfc",
   "metadata": {},
   "outputs": [
    {
     "data": {
      "text/plain": [
       "7.7"
      ]
     },
     "execution_count": 17,
     "metadata": {},
     "output_type": "execute_result"
    }
   ],
   "source": [
    "X_train.max()"
   ]
  },
  {
   "cell_type": "code",
   "execution_count": 18,
   "id": "92561c61",
   "metadata": {},
   "outputs": [],
   "source": [
    "from keras.models import Sequential\n",
    "from keras.layers import Dense"
   ]
  },
  {
   "cell_type": "code",
   "execution_count": 19,
   "id": "c649f826",
   "metadata": {},
   "outputs": [],
   "source": [
    "model = Sequential()\n",
    "model.add(Dense(8, input_dim=4, activation='relu'))\n",
    "model.add(Dense(8, input_dim=4, activation='relu'))\n",
    "model.add(Dense(3, activation='softmax'))\n",
    "model.compile(loss='categorical_crossentropy', optimizer='adam', metrics=['accuracy'])"
   ]
  },
  {
   "cell_type": "code",
   "execution_count": 20,
   "id": "54717f87",
   "metadata": {},
   "outputs": [
    {
     "name": "stdout",
     "output_type": "stream",
     "text": [
      "Model: \"sequential\"\n",
      "_________________________________________________________________\n",
      " Layer (type)                Output Shape              Param #   \n",
      "=================================================================\n",
      " dense (Dense)               (None, 8)                 40        \n",
      "                                                                 \n",
      " dense_1 (Dense)             (None, 8)                 72        \n",
      "                                                                 \n",
      " dense_2 (Dense)             (None, 3)                 27        \n",
      "                                                                 \n",
      "=================================================================\n",
      "Total params: 139\n",
      "Trainable params: 139\n",
      "Non-trainable params: 0\n",
      "_________________________________________________________________\n"
     ]
    }
   ],
   "source": [
    "model.summary()"
   ]
  },
  {
   "cell_type": "code",
   "execution_count": 21,
   "id": "58f80354",
   "metadata": {},
   "outputs": [
    {
     "name": "stdout",
     "output_type": "stream",
     "text": [
      "Epoch 1/150\n",
      "4/4 - 0s - loss: 1.0628 - accuracy: 0.4000 - 421ms/epoch - 105ms/step\n",
      "Epoch 2/150\n",
      "4/4 - 0s - loss: 1.0557 - accuracy: 0.4700 - 7ms/epoch - 2ms/step\n",
      "Epoch 3/150\n",
      "4/4 - 0s - loss: 1.0482 - accuracy: 0.5000 - 10ms/epoch - 3ms/step\n",
      "Epoch 4/150\n",
      "4/4 - 0s - loss: 1.0410 - accuracy: 0.6200 - 14ms/epoch - 4ms/step\n",
      "Epoch 5/150\n",
      "4/4 - 0s - loss: 1.0337 - accuracy: 0.6400 - 9ms/epoch - 2ms/step\n",
      "Epoch 6/150\n",
      "4/4 - 0s - loss: 1.0266 - accuracy: 0.6500 - 8ms/epoch - 2ms/step\n",
      "Epoch 7/150\n",
      "4/4 - 0s - loss: 1.0193 - accuracy: 0.6500 - 5ms/epoch - 1ms/step\n",
      "Epoch 8/150\n",
      "4/4 - 0s - loss: 1.0127 - accuracy: 0.6500 - 7ms/epoch - 2ms/step\n",
      "Epoch 9/150\n",
      "4/4 - 0s - loss: 1.0058 - accuracy: 0.6500 - 4ms/epoch - 1ms/step\n",
      "Epoch 10/150\n",
      "4/4 - 0s - loss: 0.9985 - accuracy: 0.6500 - 5ms/epoch - 1ms/step\n",
      "Epoch 11/150\n",
      "4/4 - 0s - loss: 0.9914 - accuracy: 0.6500 - 6ms/epoch - 1ms/step\n",
      "Epoch 12/150\n",
      "4/4 - 0s - loss: 0.9845 - accuracy: 0.6500 - 6ms/epoch - 2ms/step\n",
      "Epoch 13/150\n",
      "4/4 - 0s - loss: 0.9776 - accuracy: 0.6500 - 8ms/epoch - 2ms/step\n",
      "Epoch 14/150\n",
      "4/4 - 0s - loss: 0.9703 - accuracy: 0.6500 - 7ms/epoch - 2ms/step\n",
      "Epoch 15/150\n",
      "4/4 - 0s - loss: 0.9636 - accuracy: 0.6500 - 4ms/epoch - 1ms/step\n",
      "Epoch 16/150\n",
      "4/4 - 0s - loss: 0.9566 - accuracy: 0.6500 - 6ms/epoch - 1ms/step\n",
      "Epoch 17/150\n",
      "4/4 - 0s - loss: 0.9498 - accuracy: 0.6500 - 9ms/epoch - 2ms/step\n",
      "Epoch 18/150\n",
      "4/4 - 0s - loss: 0.9430 - accuracy: 0.6600 - 10ms/epoch - 3ms/step\n",
      "Epoch 19/150\n",
      "4/4 - 0s - loss: 0.9360 - accuracy: 0.6600 - 10ms/epoch - 3ms/step\n",
      "Epoch 20/150\n",
      "4/4 - 0s - loss: 0.9290 - accuracy: 0.6700 - 4ms/epoch - 1ms/step\n",
      "Epoch 21/150\n",
      "4/4 - 0s - loss: 0.9215 - accuracy: 0.6800 - 8ms/epoch - 2ms/step\n",
      "Epoch 22/150\n",
      "4/4 - 0s - loss: 0.9141 - accuracy: 0.6800 - 6ms/epoch - 2ms/step\n",
      "Epoch 23/150\n",
      "4/4 - 0s - loss: 0.9060 - accuracy: 0.6800 - 7ms/epoch - 2ms/step\n",
      "Epoch 24/150\n",
      "4/4 - 0s - loss: 0.8986 - accuracy: 0.6800 - 6ms/epoch - 1ms/step\n",
      "Epoch 25/150\n",
      "4/4 - 0s - loss: 0.8905 - accuracy: 0.6800 - 7ms/epoch - 2ms/step\n",
      "Epoch 26/150\n",
      "4/4 - 0s - loss: 0.8824 - accuracy: 0.6800 - 6ms/epoch - 1ms/step\n",
      "Epoch 27/150\n",
      "4/4 - 0s - loss: 0.8744 - accuracy: 0.6900 - 7ms/epoch - 2ms/step\n",
      "Epoch 28/150\n",
      "4/4 - 0s - loss: 0.8659 - accuracy: 0.6900 - 6ms/epoch - 1ms/step\n",
      "Epoch 29/150\n",
      "4/4 - 0s - loss: 0.8570 - accuracy: 0.6900 - 8ms/epoch - 2ms/step\n",
      "Epoch 30/150\n",
      "4/4 - 0s - loss: 0.8484 - accuracy: 0.6900 - 5ms/epoch - 1ms/step\n",
      "Epoch 31/150\n",
      "4/4 - 0s - loss: 0.8391 - accuracy: 0.6900 - 7ms/epoch - 2ms/step\n",
      "Epoch 32/150\n",
      "4/4 - 0s - loss: 0.8302 - accuracy: 0.6900 - 5ms/epoch - 1ms/step\n",
      "Epoch 33/150\n",
      "4/4 - 0s - loss: 0.8215 - accuracy: 0.6900 - 8ms/epoch - 2ms/step\n",
      "Epoch 34/150\n",
      "4/4 - 0s - loss: 0.8133 - accuracy: 0.6900 - 5ms/epoch - 1ms/step\n",
      "Epoch 35/150\n",
      "4/4 - 0s - loss: 0.8039 - accuracy: 0.6900 - 6ms/epoch - 2ms/step\n",
      "Epoch 36/150\n",
      "4/4 - 0s - loss: 0.7944 - accuracy: 0.6900 - 4ms/epoch - 1000us/step\n",
      "Epoch 37/150\n",
      "4/4 - 0s - loss: 0.7846 - accuracy: 0.6900 - 7ms/epoch - 2ms/step\n",
      "Epoch 38/150\n",
      "4/4 - 0s - loss: 0.7750 - accuracy: 0.6900 - 5ms/epoch - 1ms/step\n",
      "Epoch 39/150\n",
      "4/4 - 0s - loss: 0.7659 - accuracy: 0.6900 - 6ms/epoch - 2ms/step\n",
      "Epoch 40/150\n",
      "4/4 - 0s - loss: 0.7565 - accuracy: 0.6900 - 4ms/epoch - 1000us/step\n",
      "Epoch 41/150\n",
      "4/4 - 0s - loss: 0.7475 - accuracy: 0.6900 - 5ms/epoch - 1ms/step\n",
      "Epoch 42/150\n",
      "4/4 - 0s - loss: 0.7388 - accuracy: 0.6900 - 6ms/epoch - 1ms/step\n",
      "Epoch 43/150\n",
      "4/4 - 0s - loss: 0.7300 - accuracy: 0.6900 - 4ms/epoch - 913us/step\n",
      "Epoch 44/150\n",
      "4/4 - 0s - loss: 0.7215 - accuracy: 0.6900 - 8ms/epoch - 2ms/step\n",
      "Epoch 45/150\n",
      "4/4 - 0s - loss: 0.7128 - accuracy: 0.6900 - 6ms/epoch - 1ms/step\n",
      "Epoch 46/150\n",
      "4/4 - 0s - loss: 0.7047 - accuracy: 0.6900 - 8ms/epoch - 2ms/step\n",
      "Epoch 47/150\n",
      "4/4 - 0s - loss: 0.6962 - accuracy: 0.6900 - 5ms/epoch - 1ms/step\n",
      "Epoch 48/150\n",
      "4/4 - 0s - loss: 0.6873 - accuracy: 0.6900 - 8ms/epoch - 2ms/step\n",
      "Epoch 49/150\n",
      "4/4 - 0s - loss: 0.6788 - accuracy: 0.6900 - 5ms/epoch - 1ms/step\n",
      "Epoch 50/150\n",
      "4/4 - 0s - loss: 0.6702 - accuracy: 0.6900 - 5ms/epoch - 1ms/step\n",
      "Epoch 51/150\n",
      "4/4 - 0s - loss: 0.6619 - accuracy: 0.7000 - 4ms/epoch - 1ms/step\n",
      "Epoch 52/150\n",
      "4/4 - 0s - loss: 0.6539 - accuracy: 0.7100 - 5ms/epoch - 1ms/step\n",
      "Epoch 53/150\n",
      "4/4 - 0s - loss: 0.6460 - accuracy: 0.7100 - 7ms/epoch - 2ms/step\n",
      "Epoch 54/150\n",
      "4/4 - 0s - loss: 0.6386 - accuracy: 0.7100 - 5ms/epoch - 1ms/step\n",
      "Epoch 55/150\n",
      "4/4 - 0s - loss: 0.6309 - accuracy: 0.7100 - 5ms/epoch - 1ms/step\n",
      "Epoch 56/150\n",
      "4/4 - 0s - loss: 0.6237 - accuracy: 0.7100 - 5ms/epoch - 1ms/step\n",
      "Epoch 57/150\n",
      "4/4 - 0s - loss: 0.6167 - accuracy: 0.7100 - 6ms/epoch - 1ms/step\n",
      "Epoch 58/150\n",
      "4/4 - 0s - loss: 0.6100 - accuracy: 0.7100 - 6ms/epoch - 1ms/step\n",
      "Epoch 59/150\n",
      "4/4 - 0s - loss: 0.6037 - accuracy: 0.7200 - 5ms/epoch - 1ms/step\n",
      "Epoch 60/150\n",
      "4/4 - 0s - loss: 0.5972 - accuracy: 0.7400 - 3ms/epoch - 750us/step\n",
      "Epoch 61/150\n",
      "4/4 - 0s - loss: 0.5912 - accuracy: 0.7400 - 6ms/epoch - 1ms/step\n",
      "Epoch 62/150\n",
      "4/4 - 0s - loss: 0.5855 - accuracy: 0.7400 - 4ms/epoch - 1ms/step\n",
      "Epoch 63/150\n",
      "4/4 - 0s - loss: 0.5798 - accuracy: 0.7600 - 6ms/epoch - 2ms/step\n",
      "Epoch 64/150\n",
      "4/4 - 0s - loss: 0.5742 - accuracy: 0.7600 - 5ms/epoch - 1ms/step\n",
      "Epoch 65/150\n",
      "4/4 - 0s - loss: 0.5690 - accuracy: 0.7400 - 4ms/epoch - 998us/step\n",
      "Epoch 66/150\n",
      "4/4 - 0s - loss: 0.5641 - accuracy: 0.7400 - 5ms/epoch - 1ms/step\n",
      "Epoch 67/150\n",
      "4/4 - 0s - loss: 0.5584 - accuracy: 0.7400 - 4ms/epoch - 1ms/step\n",
      "Epoch 68/150\n",
      "4/4 - 0s - loss: 0.5537 - accuracy: 0.7600 - 4ms/epoch - 1ms/step\n",
      "Epoch 69/150\n",
      "4/4 - 0s - loss: 0.5498 - accuracy: 0.8100 - 4ms/epoch - 1ms/step\n",
      "Epoch 70/150\n",
      "4/4 - 0s - loss: 0.5449 - accuracy: 0.8300 - 3ms/epoch - 750us/step\n",
      "Epoch 71/150\n",
      "4/4 - 0s - loss: 0.5408 - accuracy: 0.8300 - 7ms/epoch - 2ms/step\n",
      "Epoch 72/150\n",
      "4/4 - 0s - loss: 0.5367 - accuracy: 0.8500 - 5ms/epoch - 1ms/step\n",
      "Epoch 73/150\n",
      "4/4 - 0s - loss: 0.5332 - accuracy: 0.8600 - 3ms/epoch - 749us/step\n",
      "Epoch 74/150\n",
      "4/4 - 0s - loss: 0.5292 - accuracy: 0.8600 - 6ms/epoch - 2ms/step\n",
      "Epoch 75/150\n",
      "4/4 - 0s - loss: 0.5255 - accuracy: 0.8600 - 3ms/epoch - 749us/step\n",
      "Epoch 76/150\n",
      "4/4 - 0s - loss: 0.5218 - accuracy: 0.8500 - 5ms/epoch - 1ms/step\n",
      "Epoch 77/150\n",
      "4/4 - 0s - loss: 0.5183 - accuracy: 0.8600 - 4ms/epoch - 1ms/step\n",
      "Epoch 78/150\n",
      "4/4 - 0s - loss: 0.5146 - accuracy: 0.8600 - 3ms/epoch - 750us/step\n",
      "Epoch 79/150\n",
      "4/4 - 0s - loss: 0.5110 - accuracy: 0.8600 - 8ms/epoch - 2ms/step\n",
      "Epoch 80/150\n",
      "4/4 - 0s - loss: 0.5075 - accuracy: 0.8600 - 4ms/epoch - 1ms/step\n",
      "Epoch 81/150\n",
      "4/4 - 0s - loss: 0.5045 - accuracy: 0.8600 - 6ms/epoch - 2ms/step\n",
      "Epoch 82/150\n",
      "4/4 - 0s - loss: 0.5012 - accuracy: 0.8700 - 4ms/epoch - 1000us/step\n",
      "Epoch 83/150\n",
      "4/4 - 0s - loss: 0.4982 - accuracy: 0.9000 - 3ms/epoch - 750us/step\n",
      "Epoch 84/150\n",
      "4/4 - 0s - loss: 0.4944 - accuracy: 0.9100 - 6ms/epoch - 2ms/step\n",
      "Epoch 85/150\n",
      "4/4 - 0s - loss: 0.4898 - accuracy: 0.9100 - 5ms/epoch - 1ms/step\n",
      "Epoch 86/150\n",
      "4/4 - 0s - loss: 0.4858 - accuracy: 0.9000 - 4ms/epoch - 1000us/step\n",
      "Epoch 87/150\n",
      "4/4 - 0s - loss: 0.4821 - accuracy: 0.8900 - 6ms/epoch - 2ms/step\n",
      "Epoch 88/150\n",
      "4/4 - 0s - loss: 0.4784 - accuracy: 0.9100 - 5ms/epoch - 1ms/step\n",
      "Epoch 89/150\n",
      "4/4 - 0s - loss: 0.4753 - accuracy: 0.9000 - 3ms/epoch - 750us/step\n",
      "Epoch 90/150\n",
      "4/4 - 0s - loss: 0.4727 - accuracy: 0.9000 - 4ms/epoch - 998us/step\n",
      "Epoch 91/150\n",
      "4/4 - 0s - loss: 0.4702 - accuracy: 0.9000 - 4ms/epoch - 1ms/step\n",
      "Epoch 92/150\n",
      "4/4 - 0s - loss: 0.4671 - accuracy: 0.9100 - 5ms/epoch - 1ms/step\n",
      "Epoch 93/150\n",
      "4/4 - 0s - loss: 0.4642 - accuracy: 0.9000 - 5ms/epoch - 1ms/step\n",
      "Epoch 94/150\n",
      "4/4 - 0s - loss: 0.4610 - accuracy: 0.9000 - 4ms/epoch - 1000us/step\n",
      "Epoch 95/150\n",
      "4/4 - 0s - loss: 0.4588 - accuracy: 0.9000 - 6ms/epoch - 1ms/step\n",
      "Epoch 96/150\n",
      "4/4 - 0s - loss: 0.4562 - accuracy: 0.9000 - 5ms/epoch - 1ms/step\n",
      "Epoch 97/150\n",
      "4/4 - 0s - loss: 0.4535 - accuracy: 0.9000 - 4ms/epoch - 1000us/step\n",
      "Epoch 98/150\n",
      "4/4 - 0s - loss: 0.4503 - accuracy: 0.8900 - 6ms/epoch - 1ms/step\n",
      "Epoch 99/150\n",
      "4/4 - 0s - loss: 0.4485 - accuracy: 0.8700 - 3ms/epoch - 750us/step\n",
      "Epoch 100/150\n",
      "4/4 - 0s - loss: 0.4463 - accuracy: 0.8700 - 5ms/epoch - 1ms/step\n",
      "Epoch 101/150\n",
      "4/4 - 0s - loss: 0.4442 - accuracy: 0.8700 - 3ms/epoch - 815us/step\n",
      "Epoch 102/150\n",
      "4/4 - 0s - loss: 0.4420 - accuracy: 0.8700 - 4ms/epoch - 1000us/step\n",
      "Epoch 103/150\n",
      "4/4 - 0s - loss: 0.4398 - accuracy: 0.8800 - 6ms/epoch - 2ms/step\n",
      "Epoch 104/150\n"
     ]
    },
    {
     "name": "stdout",
     "output_type": "stream",
     "text": [
      "4/4 - 0s - loss: 0.4376 - accuracy: 0.8800 - 5ms/epoch - 1ms/step\n",
      "Epoch 105/150\n",
      "4/4 - 0s - loss: 0.4353 - accuracy: 0.8900 - 4ms/epoch - 1000us/step\n",
      "Epoch 106/150\n",
      "4/4 - 0s - loss: 0.4333 - accuracy: 0.8900 - 6ms/epoch - 2ms/step\n",
      "Epoch 107/150\n",
      "4/4 - 0s - loss: 0.4311 - accuracy: 0.9000 - 5ms/epoch - 1ms/step\n",
      "Epoch 108/150\n",
      "4/4 - 0s - loss: 0.4290 - accuracy: 0.9000 - 3ms/epoch - 751us/step\n",
      "Epoch 109/150\n",
      "4/4 - 0s - loss: 0.4270 - accuracy: 0.9000 - 4ms/epoch - 999us/step\n",
      "Epoch 110/150\n",
      "4/4 - 0s - loss: 0.4247 - accuracy: 0.9000 - 3ms/epoch - 750us/step\n",
      "Epoch 111/150\n",
      "4/4 - 0s - loss: 0.4223 - accuracy: 0.9000 - 6ms/epoch - 1ms/step\n",
      "Epoch 112/150\n",
      "4/4 - 0s - loss: 0.4202 - accuracy: 0.9000 - 4ms/epoch - 1000us/step\n",
      "Epoch 113/150\n",
      "4/4 - 0s - loss: 0.4181 - accuracy: 0.9000 - 4ms/epoch - 1ms/step\n",
      "Epoch 114/150\n",
      "4/4 - 0s - loss: 0.4163 - accuracy: 0.9000 - 6ms/epoch - 1ms/step\n",
      "Epoch 115/150\n",
      "4/4 - 0s - loss: 0.4147 - accuracy: 0.9100 - 4ms/epoch - 1000us/step\n",
      "Epoch 116/150\n",
      "4/4 - 0s - loss: 0.4119 - accuracy: 0.9100 - 3ms/epoch - 750us/step\n",
      "Epoch 117/150\n",
      "4/4 - 0s - loss: 0.4106 - accuracy: 0.9000 - 7ms/epoch - 2ms/step\n",
      "Epoch 118/150\n",
      "4/4 - 0s - loss: 0.4087 - accuracy: 0.8900 - 3ms/epoch - 750us/step\n",
      "Epoch 119/150\n",
      "4/4 - 0s - loss: 0.4070 - accuracy: 0.8800 - 4ms/epoch - 1ms/step\n",
      "Epoch 120/150\n",
      "4/4 - 0s - loss: 0.4047 - accuracy: 0.8900 - 6ms/epoch - 2ms/step\n",
      "Epoch 121/150\n",
      "4/4 - 0s - loss: 0.4024 - accuracy: 0.9000 - 4ms/epoch - 1000us/step\n",
      "Epoch 122/150\n",
      "4/4 - 0s - loss: 0.4006 - accuracy: 0.9000 - 3ms/epoch - 800us/step\n",
      "Epoch 123/150\n",
      "4/4 - 0s - loss: 0.3985 - accuracy: 0.9000 - 6ms/epoch - 2ms/step\n",
      "Epoch 124/150\n",
      "4/4 - 0s - loss: 0.3976 - accuracy: 0.9000 - 3ms/epoch - 750us/step\n",
      "Epoch 125/150\n",
      "4/4 - 0s - loss: 0.3959 - accuracy: 0.8900 - 3ms/epoch - 860us/step\n",
      "Epoch 126/150\n",
      "4/4 - 0s - loss: 0.3937 - accuracy: 0.8900 - 5ms/epoch - 1ms/step\n",
      "Epoch 127/150\n",
      "4/4 - 0s - loss: 0.3918 - accuracy: 0.9000 - 4ms/epoch - 1ms/step\n",
      "Epoch 128/150\n",
      "4/4 - 0s - loss: 0.3898 - accuracy: 0.9000 - 3ms/epoch - 750us/step\n",
      "Epoch 129/150\n",
      "4/4 - 0s - loss: 0.3881 - accuracy: 0.9000 - 4ms/epoch - 1ms/step\n",
      "Epoch 130/150\n",
      "4/4 - 0s - loss: 0.3863 - accuracy: 0.9000 - 4ms/epoch - 1ms/step\n",
      "Epoch 131/150\n",
      "4/4 - 0s - loss: 0.3844 - accuracy: 0.9000 - 3ms/epoch - 750us/step\n",
      "Epoch 132/150\n",
      "4/4 - 0s - loss: 0.3826 - accuracy: 0.9000 - 6ms/epoch - 1ms/step\n",
      "Epoch 133/150\n",
      "4/4 - 0s - loss: 0.3807 - accuracy: 0.9000 - 4ms/epoch - 1ms/step\n",
      "Epoch 134/150\n",
      "4/4 - 0s - loss: 0.3788 - accuracy: 0.9000 - 3ms/epoch - 756us/step\n",
      "Epoch 135/150\n",
      "4/4 - 0s - loss: 0.3770 - accuracy: 0.9000 - 5ms/epoch - 1ms/step\n",
      "Epoch 136/150\n",
      "4/4 - 0s - loss: 0.3749 - accuracy: 0.9100 - 3ms/epoch - 749us/step\n",
      "Epoch 137/150\n",
      "4/4 - 0s - loss: 0.3738 - accuracy: 0.9000 - 5ms/epoch - 1ms/step\n",
      "Epoch 138/150\n",
      "4/4 - 0s - loss: 0.3714 - accuracy: 0.8900 - 5ms/epoch - 1ms/step\n",
      "Epoch 139/150\n",
      "4/4 - 0s - loss: 0.3720 - accuracy: 0.9000 - 4ms/epoch - 1000us/step\n",
      "Epoch 140/150\n",
      "4/4 - 0s - loss: 0.3714 - accuracy: 0.9200 - 6ms/epoch - 2ms/step\n",
      "Epoch 141/150\n",
      "4/4 - 0s - loss: 0.3692 - accuracy: 0.9200 - 4ms/epoch - 1000us/step\n",
      "Epoch 142/150\n",
      "4/4 - 0s - loss: 0.3666 - accuracy: 0.9000 - 3ms/epoch - 750us/step\n",
      "Epoch 143/150\n",
      "4/4 - 0s - loss: 0.3639 - accuracy: 0.8900 - 5ms/epoch - 1ms/step\n",
      "Epoch 144/150\n",
      "4/4 - 0s - loss: 0.3616 - accuracy: 0.9000 - 4ms/epoch - 1ms/step\n",
      "Epoch 145/150\n",
      "4/4 - 0s - loss: 0.3594 - accuracy: 0.9100 - 5ms/epoch - 1ms/step\n",
      "Epoch 146/150\n",
      "4/4 - 0s - loss: 0.3600 - accuracy: 0.9000 - 4ms/epoch - 1ms/step\n",
      "Epoch 147/150\n",
      "4/4 - 0s - loss: 0.3590 - accuracy: 0.9000 - 3ms/epoch - 750us/step\n",
      "Epoch 148/150\n",
      "4/4 - 0s - loss: 0.3586 - accuracy: 0.9000 - 4ms/epoch - 1ms/step\n",
      "Epoch 149/150\n",
      "4/4 - 0s - loss: 0.3565 - accuracy: 0.9000 - 5ms/epoch - 1ms/step\n",
      "Epoch 150/150\n",
      "4/4 - 0s - loss: 0.3542 - accuracy: 0.9000 - 3ms/epoch - 750us/step\n"
     ]
    },
    {
     "data": {
      "text/plain": [
       "<keras.callbacks.History at 0x276bab2cd00>"
      ]
     },
     "execution_count": 21,
     "metadata": {},
     "output_type": "execute_result"
    }
   ],
   "source": [
    "model.fit(scaled_X_train,y_train,epochs=150, verbose=2)"
   ]
  },
  {
   "cell_type": "code",
   "execution_count": 22,
   "id": "7a6de48b",
   "metadata": {},
   "outputs": [
    {
     "name": "stdout",
     "output_type": "stream",
     "text": [
      "2/2 [==============================] - 0s 2ms/step\n"
     ]
    },
    {
     "data": {
      "text/plain": [
       "array([[1.5962733e-02, 4.8700795e-01, 4.9702942e-01],\n",
       "       [9.7608578e-01, 2.2528104e-02, 1.3862117e-03],\n",
       "       [1.6374164e-04, 1.1666704e-01, 8.8316923e-01],\n",
       "       [2.2484919e-02, 5.2818531e-01, 4.4932982e-01],\n",
       "       [5.0032362e-03, 3.6465219e-01, 6.3034457e-01],\n",
       "       [9.5663512e-01, 4.0651426e-02, 2.7134672e-03],\n",
       "       [1.1613947e-01, 6.5694022e-01, 2.2692034e-01],\n",
       "       [2.9644785e-03, 2.9981580e-01, 6.9721979e-01],\n",
       "       [5.4355999e-03, 4.1256493e-01, 5.8199942e-01],\n",
       "       [4.2685024e-02, 6.1763585e-01, 3.3967915e-01],\n",
       "       [8.3141243e-03, 3.9493960e-01, 5.9674627e-01],\n",
       "       [9.5404547e-01, 4.3033499e-02, 2.9210902e-03],\n",
       "       [9.7470707e-01, 2.3898870e-02, 1.3939968e-03],\n",
       "       [9.5687014e-01, 4.0424496e-02, 2.7053517e-03],\n",
       "       [9.8949569e-01, 9.9618789e-03, 5.4249808e-04],\n",
       "       [2.9428495e-02, 5.3928787e-01, 4.3128362e-01],\n",
       "       [1.8526131e-03, 2.4054100e-01, 7.5760645e-01],\n",
       "       [3.7083965e-02, 6.0920572e-01, 3.5371029e-01],\n",
       "       [2.9558972e-02, 5.5744624e-01, 4.1299474e-01],\n",
       "       [1.8982346e-03, 2.5352794e-01, 7.4457377e-01],\n",
       "       [9.6696544e-01, 3.0957002e-02, 2.0775334e-03],\n",
       "       [1.2603443e-02, 4.4898808e-01, 5.3840846e-01],\n",
       "       [9.7010553e-01, 2.8091071e-02, 1.8034342e-03],\n",
       "       [2.0515958e-03, 2.6020938e-01, 7.3773897e-01],\n",
       "       [1.1186202e-03, 1.8562719e-01, 8.1325418e-01],\n",
       "       [2.6218803e-03, 2.8742051e-01, 7.0995760e-01],\n",
       "       [1.3109142e-03, 2.4462868e-01, 7.5406045e-01],\n",
       "       [1.5488325e-03, 2.2404589e-01, 7.7440524e-01],\n",
       "       [9.4770855e-01, 4.8930474e-02, 3.3609695e-03],\n",
       "       [9.5379281e-01, 4.3215703e-02, 2.9914721e-03],\n",
       "       [9.9084079e-01, 8.7231621e-03, 4.3600152e-04],\n",
       "       [9.9555993e-01, 4.2609749e-03, 1.7914643e-04],\n",
       "       [1.8870171e-02, 5.1166874e-01, 4.6946117e-01],\n",
       "       [9.7788256e-01, 2.0800589e-02, 1.3169028e-03],\n",
       "       [9.7830874e-01, 2.0332072e-02, 1.3592870e-03],\n",
       "       [3.0601325e-03, 3.2427290e-01, 6.7266697e-01],\n",
       "       [2.8005689e-02, 5.4503894e-01, 4.2695543e-01],\n",
       "       [9.7796488e-01, 2.0802006e-02, 1.2330848e-03],\n",
       "       [9.8617655e-01, 1.3081710e-02, 7.4168673e-04],\n",
       "       [9.9368531e-01, 6.0299407e-03, 2.8481655e-04],\n",
       "       [6.3587194e-03, 3.7637004e-01, 6.1727118e-01],\n",
       "       [7.5516984e-02, 5.9896034e-01, 3.2552263e-01],\n",
       "       [1.2349660e-02, 4.5461875e-01, 5.3303158e-01],\n",
       "       [9.9128222e-01, 8.3055412e-03, 4.1216542e-04],\n",
       "       [9.8395121e-01, 1.5199796e-02, 8.4903225e-04],\n",
       "       [4.3903217e-02, 6.3328135e-01, 3.2281548e-01],\n",
       "       [6.0300813e-03, 3.7086397e-01, 6.2310600e-01],\n",
       "       [5.3043202e-03, 3.3865264e-01, 6.5604299e-01],\n",
       "       [1.6828859e-02, 5.0150263e-01, 4.8166862e-01],\n",
       "       [1.6407672e-03, 2.1830483e-01, 7.8005445e-01]], dtype=float32)"
      ]
     },
     "execution_count": 22,
     "metadata": {},
     "output_type": "execute_result"
    }
   ],
   "source": [
    "model.predict(scaled_X_test)"
   ]
  },
  {
   "cell_type": "code",
   "execution_count": 23,
   "id": "22f685af",
   "metadata": {},
   "outputs": [
    {
     "data": {
      "text/plain": [
       "['loss', 'accuracy']"
      ]
     },
     "execution_count": 23,
     "metadata": {},
     "output_type": "execute_result"
    }
   ],
   "source": [
    "model.metrics_names"
   ]
  },
  {
   "cell_type": "code",
   "execution_count": 24,
   "id": "b0437e73",
   "metadata": {},
   "outputs": [
    {
     "name": "stdout",
     "output_type": "stream",
     "text": [
      "2/2 [==============================] - 0s 2ms/step - loss: 0.3134 - accuracy: 0.9200\n"
     ]
    },
    {
     "data": {
      "text/plain": [
       "[0.3133724331855774, 0.9200000166893005]"
      ]
     },
     "execution_count": 24,
     "metadata": {},
     "output_type": "execute_result"
    }
   ],
   "source": [
    "model.evaluate(x=scaled_X_test,y=y_test)"
   ]
  },
  {
   "cell_type": "code",
   "execution_count": 25,
   "id": "7290366a",
   "metadata": {},
   "outputs": [
    {
     "name": "stdout",
     "output_type": "stream",
     "text": [
      "2/2 [==============================] - 0s 2ms/step\n"
     ]
    }
   ],
   "source": [
    "from sklearn.metrics import confusion_matrix,classification_report,accuracy_score\n",
    "\n",
    "predictions = np.argmax(model.predict(scaled_X_test), axis=-1)"
   ]
  },
  {
   "cell_type": "code",
   "execution_count": 26,
   "id": "389f7ed9",
   "metadata": {},
   "outputs": [
    {
     "data": {
      "text/plain": [
       "array([2, 0, 2, 1, 2, 0, 1, 2, 2, 1, 2, 0, 0, 0, 0, 1, 2, 1, 1, 2, 0, 2,\n",
       "       0, 2, 2, 2, 2, 2, 0, 0, 0, 0, 1, 0, 0, 2, 1, 0, 0, 0, 2, 1, 2, 0,\n",
       "       0, 1, 2, 2, 1, 2], dtype=int64)"
      ]
     },
     "execution_count": 26,
     "metadata": {},
     "output_type": "execute_result"
    }
   ],
   "source": [
    "predictions"
   ]
  },
  {
   "cell_type": "code",
   "execution_count": 27,
   "id": "f2cbe35a",
   "metadata": {},
   "outputs": [
    {
     "data": {
      "text/plain": [
       "array([1, 0, 2, 1, 1, 0, 1, 2, 1, 1, 2, 0, 0, 0, 0, 1, 2, 1, 1, 2, 0, 2,\n",
       "       0, 2, 2, 2, 2, 2, 0, 0, 0, 0, 1, 0, 0, 2, 1, 0, 0, 0, 2, 1, 1, 0,\n",
       "       0, 1, 2, 2, 1, 2], dtype=int64)"
      ]
     },
     "execution_count": 27,
     "metadata": {},
     "output_type": "execute_result"
    }
   ],
   "source": [
    "y_test.argmax(axis=1)"
   ]
  },
  {
   "cell_type": "code",
   "execution_count": 31,
   "id": "76c554ed",
   "metadata": {},
   "outputs": [
    {
     "name": "stdout",
     "output_type": "stream",
     "text": [
      "[[19  0  0]\n",
      " [ 0 11  4]\n",
      " [ 0  0 16]]\n"
     ]
    }
   ],
   "source": [
    "print(confusion_matrix(y_test.argmax(axis=1),predictions))"
   ]
  },
  {
   "cell_type": "code",
   "execution_count": 29,
   "id": "a37fc16b",
   "metadata": {},
   "outputs": [
    {
     "name": "stdout",
     "output_type": "stream",
     "text": [
      "              precision    recall  f1-score   support\n",
      "\n",
      "           0       1.00      1.00      1.00        19\n",
      "           1       1.00      0.73      0.85        15\n",
      "           2       0.80      1.00      0.89        16\n",
      "\n",
      "    accuracy                           0.92        50\n",
      "   macro avg       0.93      0.91      0.91        50\n",
      "weighted avg       0.94      0.92      0.92        50\n",
      "\n"
     ]
    }
   ],
   "source": [
    "print(classification_report(y_test.argmax(axis=1),predictions))"
   ]
  },
  {
   "cell_type": "code",
   "execution_count": 30,
   "id": "822a8c65",
   "metadata": {},
   "outputs": [
    {
     "name": "stdout",
     "output_type": "stream",
     "text": [
      "0.92\n"
     ]
    }
   ],
   "source": [
    "print(accuracy_score(y_test.argmax(axis=1),predictions))"
   ]
  },
  {
   "cell_type": "code",
   "execution_count": null,
   "id": "dddba34e",
   "metadata": {},
   "outputs": [],
   "source": []
  }
 ],
 "metadata": {
  "kernelspec": {
   "display_name": "Python 3 (ipykernel)",
   "language": "python",
   "name": "python3"
  },
  "language_info": {
   "codemirror_mode": {
    "name": "ipython",
    "version": 3
   },
   "file_extension": ".py",
   "mimetype": "text/x-python",
   "name": "python",
   "nbconvert_exporter": "python",
   "pygments_lexer": "ipython3",
   "version": "3.9.12"
  }
 },
 "nbformat": 4,
 "nbformat_minor": 5
}
