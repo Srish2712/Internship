{
 "cells": [
  {
   "cell_type": "code",
   "execution_count": 1,
   "id": "95eab799",
   "metadata": {},
   "outputs": [],
   "source": [
    "import numpy as np\n",
    "import pandas as pd\n",
    "import matplotlib.pyplot as plt\n",
    "\n",
    "from tensorflow.keras.layers import Input,Lambda,Dense,Flatten\n",
    "from tensorflow.keras.models import Model\n",
    "from tensorflow.keras.applications.vgg16 import VGG16\n",
    "from tensorflow.keras.applications.vgg16 import preprocess_input\n",
    "from tensorflow.keras.preprocessing import image\n",
    "from tensorflow.keras.preprocessing.image import ImageDataGenerator\n",
    "\n",
    "from sklearn.metrics import confusion_matrix\n",
    "from glob import glob"
   ]
  },
  {
   "cell_type": "code",
   "execution_count": 2,
   "id": "4923d78a",
   "metadata": {},
   "outputs": [],
   "source": [
    "import warnings\n",
    "warnings.filterwarnings('ignore')"
   ]
  },
  {
   "cell_type": "code",
   "execution_count": 3,
   "id": "f26969af",
   "metadata": {},
   "outputs": [],
   "source": [
    "image_size = [100,100]"
   ]
  },
  {
   "cell_type": "code",
   "execution_count": 4,
   "id": "3badb545",
   "metadata": {},
   "outputs": [],
   "source": [
    "epochs = 5\n",
    "batch_size = 25\n",
    "\n",
    "train_path = 'C:/Users/RW565TZ/Practice/fruits-360/Training'\n",
    "valid_path = 'C:/Users/RW565TZ/Practice/fruits-360/Test'"
   ]
  },
  {
   "cell_type": "code",
   "execution_count": 5,
   "id": "7103bc09",
   "metadata": {},
   "outputs": [],
   "source": [
    "# Useful for getting number of files\n",
    "\n",
    "image_files = glob(train_path + '/*/*.jp*g')\n",
    "valid_image_file = glob(valid_path + '/*/*.jp*g')"
   ]
  },
  {
   "cell_type": "code",
   "execution_count": 6,
   "id": "649894b9",
   "metadata": {},
   "outputs": [
    {
     "name": "stdout",
     "output_type": "stream",
     "text": [
      "Total Classes = 100\n"
     ]
    }
   ],
   "source": [
    "# Useful for getting number of classes\n",
    "\n",
    "folders = glob(train_path + '/*')\n",
    "num_classes = len(folders)\n",
    "print ('Total Classes = ' + str(num_classes))"
   ]
  },
  {
   "cell_type": "code",
   "execution_count": 7,
   "id": "002c25b9",
   "metadata": {},
   "outputs": [],
   "source": [
    "# Add preprocessing layer\n",
    "vgg = VGG16(input_shape = image_size + [3],weights='imagenet',include_top = False)\n",
    "\n",
    "# Don't train existing weights\n",
    "for layer in vgg.layers:\n",
    "    layer.trainable = False"
   ]
  },
  {
   "cell_type": "code",
   "execution_count": 8,
   "id": "36b892c2",
   "metadata": {},
   "outputs": [],
   "source": [
    "# Our layers\n",
    "x = Flatten()(vgg.output)\n",
    "\n",
    "prediction = Dense(len(folders),activation='softmax')(x)"
   ]
  },
  {
   "cell_type": "code",
   "execution_count": 9,
   "id": "53e2d01c",
   "metadata": {},
   "outputs": [],
   "source": [
    "# Create model\n",
    "model = Model(inputs=vgg.input,outputs=prediction)"
   ]
  },
  {
   "cell_type": "code",
   "execution_count": 10,
   "id": "e0b34015",
   "metadata": {},
   "outputs": [
    {
     "name": "stdout",
     "output_type": "stream",
     "text": [
      "Model: \"model\"\n",
      "_________________________________________________________________\n",
      " Layer (type)                Output Shape              Param #   \n",
      "=================================================================\n",
      " input_1 (InputLayer)        [(None, 100, 100, 3)]     0         \n",
      "                                                                 \n",
      " block1_conv1 (Conv2D)       (None, 100, 100, 64)      1792      \n",
      "                                                                 \n",
      " block1_conv2 (Conv2D)       (None, 100, 100, 64)      36928     \n",
      "                                                                 \n",
      " block1_pool (MaxPooling2D)  (None, 50, 50, 64)        0         \n",
      "                                                                 \n",
      " block2_conv1 (Conv2D)       (None, 50, 50, 128)       73856     \n",
      "                                                                 \n",
      " block2_conv2 (Conv2D)       (None, 50, 50, 128)       147584    \n",
      "                                                                 \n",
      " block2_pool (MaxPooling2D)  (None, 25, 25, 128)       0         \n",
      "                                                                 \n",
      " block3_conv1 (Conv2D)       (None, 25, 25, 256)       295168    \n",
      "                                                                 \n",
      " block3_conv2 (Conv2D)       (None, 25, 25, 256)       590080    \n",
      "                                                                 \n",
      " block3_conv3 (Conv2D)       (None, 25, 25, 256)       590080    \n",
      "                                                                 \n",
      " block3_pool (MaxPooling2D)  (None, 12, 12, 256)       0         \n",
      "                                                                 \n",
      " block4_conv1 (Conv2D)       (None, 12, 12, 512)       1180160   \n",
      "                                                                 \n",
      " block4_conv2 (Conv2D)       (None, 12, 12, 512)       2359808   \n",
      "                                                                 \n",
      " block4_conv3 (Conv2D)       (None, 12, 12, 512)       2359808   \n",
      "                                                                 \n",
      " block4_pool (MaxPooling2D)  (None, 6, 6, 512)         0         \n",
      "                                                                 \n",
      " block5_conv1 (Conv2D)       (None, 6, 6, 512)         2359808   \n",
      "                                                                 \n",
      " block5_conv2 (Conv2D)       (None, 6, 6, 512)         2359808   \n",
      "                                                                 \n",
      " block5_conv3 (Conv2D)       (None, 6, 6, 512)         2359808   \n",
      "                                                                 \n",
      " block5_pool (MaxPooling2D)  (None, 3, 3, 512)         0         \n",
      "                                                                 \n",
      " flatten (Flatten)           (None, 4608)              0         \n",
      "                                                                 \n",
      " dense (Dense)               (None, 100)               460900    \n",
      "                                                                 \n",
      "=================================================================\n",
      "Total params: 15,175,588\n",
      "Trainable params: 460,900\n",
      "Non-trainable params: 14,714,688\n",
      "_________________________________________________________________\n"
     ]
    }
   ],
   "source": [
    "model.summary()"
   ]
  },
  {
   "cell_type": "code",
   "execution_count": 11,
   "id": "f99ffa93",
   "metadata": {},
   "outputs": [],
   "source": [
    "model.compile(optimizer='adam',loss='categorical_crossentropy',metrics=['accuracy'])"
   ]
  },
  {
   "cell_type": "code",
   "execution_count": 12,
   "id": "84dcb46e",
   "metadata": {},
   "outputs": [],
   "source": [
    "# Create an instance of ImageDataGenerator\n",
    "gen = ImageDataGenerator(\n",
    "    rescale=1./255,\n",
    "    rotation_range=20,\n",
    "    width_shift_range = 0.1,\n",
    "    height_shift_range =0.1,\n",
    "    shear_range = 0.1,\n",
    "    zoom_range = 0.2,\n",
    "    horizontal_flip = True,\n",
    "    vertical_flip = True,\n",
    "    preprocessing_function = preprocess_input\n",
    ")"
   ]
  },
  {
   "cell_type": "code",
   "execution_count": 13,
   "id": "db0d8f32",
   "metadata": {},
   "outputs": [
    {
     "name": "stdout",
     "output_type": "stream",
     "text": [
      "Found 49266 images belonging to 100 classes.\n",
      "Found 16600 images belonging to 100 classes.\n"
     ]
    }
   ],
   "source": [
    "# Create generator\n",
    "\n",
    "train_generator = gen.flow_from_directory(train_path,target_size=image_size,shuffle=True,batch_size=batch_size,class_mode = 'categorical')\n",
    "valid_generator = gen.flow_from_directory(valid_path,target_size=image_size,shuffle=True,batch_size=batch_size,class_mode = 'categorical')"
   ]
  },
  {
   "cell_type": "code",
   "execution_count": 14,
   "id": "f6bacdaa",
   "metadata": {},
   "outputs": [
    {
     "data": {
      "text/plain": [
       "{'Apple Braeburn': 0,\n",
       " 'Apple Crimson Snow': 1,\n",
       " 'Apple Golden 1': 2,\n",
       " 'Apple Granny Smith': 3,\n",
       " 'Apple Pink Lady': 4,\n",
       " 'Apple Red 1': 5,\n",
       " 'Apple Red Delicious': 6,\n",
       " 'Apple Red Yellow 1': 7,\n",
       " 'Apple Red Yellow 2': 8,\n",
       " 'Apricot': 9,\n",
       " 'Avocado': 10,\n",
       " 'Avocado ripe': 11,\n",
       " 'Banana': 12,\n",
       " 'Banana Lady Finger': 13,\n",
       " 'Banana Red': 14,\n",
       " 'Beetroot': 15,\n",
       " 'Blueberry': 16,\n",
       " 'Cactus fruit': 17,\n",
       " 'Cantaloupe 1': 18,\n",
       " 'Cantaloupe 2': 19,\n",
       " 'Carambula': 20,\n",
       " 'Cauliflower': 21,\n",
       " 'Cherry 1': 22,\n",
       " 'Cherry Rainier': 23,\n",
       " 'Cherry Wax Black': 24,\n",
       " 'Cherry Wax Red': 25,\n",
       " 'Cherry Wax Yellow': 26,\n",
       " 'Chestnut': 27,\n",
       " 'Clementine': 28,\n",
       " 'Cocos': 29,\n",
       " 'Corn': 30,\n",
       " 'Corn Husk': 31,\n",
       " 'Cucumber Ripe': 32,\n",
       " 'Dates': 33,\n",
       " 'Eggplant': 34,\n",
       " 'Fig': 35,\n",
       " 'Ginger Root': 36,\n",
       " 'Granadilla': 37,\n",
       " 'Grape Blue': 38,\n",
       " 'Grape Pink': 39,\n",
       " 'Grape White': 40,\n",
       " 'Grape White 2': 41,\n",
       " 'Grapefruit Pink': 42,\n",
       " 'Grapefruit White': 43,\n",
       " 'Guava': 44,\n",
       " 'Hazelnut': 45,\n",
       " 'Huckleberry': 46,\n",
       " 'Kaki': 47,\n",
       " 'Kiwi': 48,\n",
       " 'Kohlrabi': 49,\n",
       " 'Kumquats': 50,\n",
       " 'Lemon': 51,\n",
       " 'Lemon Meyer': 52,\n",
       " 'Limes': 53,\n",
       " 'Lychee': 54,\n",
       " 'Mandarine': 55,\n",
       " 'Mango': 56,\n",
       " 'Mango Red': 57,\n",
       " 'Mangostan': 58,\n",
       " 'Maracuja': 59,\n",
       " 'Melon Piel de Sapo': 60,\n",
       " 'Mulberry': 61,\n",
       " 'Nectarine': 62,\n",
       " 'Nut Forest': 63,\n",
       " 'Nut Pecan': 64,\n",
       " 'Onion Red': 65,\n",
       " 'Onion Red Peeled': 66,\n",
       " 'Onion White': 67,\n",
       " 'Orange': 68,\n",
       " 'Papaya': 69,\n",
       " 'Passion Fruit': 70,\n",
       " 'Peach': 71,\n",
       " 'Pear Abate': 72,\n",
       " 'Pear Forelle': 73,\n",
       " 'Pear Kaiser': 74,\n",
       " 'Pear Monster': 75,\n",
       " 'Pear Red': 76,\n",
       " 'Pear Stone': 77,\n",
       " 'Pear Williams': 78,\n",
       " 'Pepino': 79,\n",
       " 'Pepper Green': 80,\n",
       " 'Pepper Orange': 81,\n",
       " 'Pepper Red': 82,\n",
       " 'Pepper Yellow': 83,\n",
       " 'Physalis': 84,\n",
       " 'Pineapple': 85,\n",
       " 'Pineapple Mini': 86,\n",
       " 'Pitahaya Red': 87,\n",
       " 'Plum': 88,\n",
       " 'Plum 2': 89,\n",
       " 'Plum 3': 90,\n",
       " 'Pomegranate': 91,\n",
       " 'Pomelo Sweetie': 92,\n",
       " 'Potato Red': 93,\n",
       " 'Potato Sweet': 94,\n",
       " 'Potato White': 95,\n",
       " 'cabbage_white_1': 96,\n",
       " 'carrot_1': 97,\n",
       " 'cucumber_1': 98,\n",
       " 'eggplant_violet_1': 99}"
      ]
     },
     "execution_count": 14,
     "metadata": {},
     "output_type": "execute_result"
    }
   ],
   "source": [
    "train_generator.class_indices"
   ]
  },
  {
   "cell_type": "code",
   "execution_count": null,
   "id": "9f64fd50",
   "metadata": {},
   "outputs": [
    {
     "name": "stdout",
     "output_type": "stream",
     "text": [
      "Epoch 1/5\n",
      "100/100 [==============================] - ETA: 0s - loss: 3.1586 - accuracy: 0.3252"
     ]
    }
   ],
   "source": [
    "r = model.fit_generator(train_generator,validation_data=valid_generator,epochs=epochs,steps_per_epoch = 100,validation_steps = 300)"
   ]
  },
  {
   "cell_type": "code",
   "execution_count": null,
   "id": "8a0acb4a",
   "metadata": {},
   "outputs": [],
   "source": [
    "# Plot some data\n",
    "\n",
    "plt.plot(r.history['loss'],label='train_loss')\n",
    "plt.plot(r.history['val_loss'],label='val_loss')\n",
    "plt.legend()\n",
    "plt.show()"
   ]
  },
  {
   "cell_type": "code",
   "execution_count": null,
   "id": "0a6383ab",
   "metadata": {},
   "outputs": [],
   "source": [
    "plt.plot(r.history['acc'],label='train_acc')\n",
    "plt.plot(r.history['val_acc'],label='val_acc')\n",
    "plt.legend()\n",
    "plt.show()"
   ]
  },
  {
   "cell_type": "code",
   "execution_count": null,
   "id": "ba8531f4",
   "metadata": {},
   "outputs": [],
   "source": []
  }
 ],
 "metadata": {
  "kernelspec": {
   "display_name": "Python 3 (ipykernel)",
   "language": "python",
   "name": "python3"
  },
  "language_info": {
   "codemirror_mode": {
    "name": "ipython",
    "version": 3
   },
   "file_extension": ".py",
   "mimetype": "text/x-python",
   "name": "python",
   "nbconvert_exporter": "python",
   "pygments_lexer": "ipython3",
   "version": "3.9.12"
  }
 },
 "nbformat": 4,
 "nbformat_minor": 5
}
